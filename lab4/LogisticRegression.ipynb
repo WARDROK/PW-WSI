{
 "cells": [
  {
   "cell_type": "markdown",
   "metadata": {},
   "source": [
    "<span style=\"font-size:36px;\">Implement LogisticRegression</span>"
   ]
  },
  {
   "cell_type": "code",
   "execution_count": 348,
   "metadata": {},
   "outputs": [],
   "source": [
    "import numpy as np\n",
    "import pandas as pd\n",
    "import plotly.express as px\n",
    "from sklearn.model_selection import train_test_split\n",
    "\n",
    "SEED = 1234\n",
    "np.random.seed(SEED)\n",
    "\n",
    "\n",
    "class LogisticRegression(object):\n",
    "    def __init__(self, isNormalize) -> None:\n",
    "        self.isNormalize = isNormalize\n",
    "\n",
    "    def train(\n",
    "        self,\n",
    "        X_train,\n",
    "        Y_train,\n",
    "        weights,\n",
    "        bias,\n",
    "        learning_rate,\n",
    "        iterations,\n",
    "    ):\n",
    "        if self.isNormalize:\n",
    "            self.X_mean = np.mean(X_train, axis=0)\n",
    "            self.X_std = np.std(X_train, axis=0)\n",
    "            X_train = self.normalize(X_train)\n",
    "\n",
    "        w_history, b_history, cost_history = self.gradient_descent(\n",
    "            X_train, Y_train, weights, bias, learning_rate, iterations\n",
    "        )\n",
    "\n",
    "        w_best, b_best = w_history[-1], b_history[-1]\n",
    "        train_history = (w_history, b_history, cost_history)\n",
    "\n",
    "        return w_best, b_best, train_history\n",
    "\n",
    "    def sigmoid(self, z):\n",
    "        # Prevent overflow\n",
    "        if not self.isNormalize:\n",
    "            z = np.clip(z, -500, 1500)\n",
    "\n",
    "        sigmoid_values = 1 / (1 + np.exp(-z))\n",
    "        if not self.isNormalize:\n",
    "            epsilon = 1e-10\n",
    "            sigmoid_values = np.where(\n",
    "                sigmoid_values == 1, sigmoid_values - epsilon, sigmoid_values\n",
    "            )\n",
    "            sigmoid_values = np.where(\n",
    "                sigmoid_values == 0, sigmoid_values + epsilon, sigmoid_values\n",
    "            )\n",
    "        return sigmoid_values\n",
    "\n",
    "    def model(self, X, w, b):\n",
    "        logist = np.matmul(X, w) + b\n",
    "        return self.sigmoid(logist)\n",
    "\n",
    "    def normalize(self, X):\n",
    "        return (X - self.X_mean) / self.X_std\n",
    "\n",
    "    def cross_entropy(self, y_predict, y):\n",
    "        return -np.mean(y * np.log(y_predict) + (1 - y) * np.log(1 - y_predict))\n",
    "\n",
    "    def compute_cost(self, X, y, w, b):\n",
    "        y_predict = self.model(X, w, b)\n",
    "        return self.cross_entropy(y_predict, y)\n",
    "\n",
    "    def compute_gradient(self, X, y, w, b):\n",
    "        N = len(X)\n",
    "        y_predict = self.model(X, w, b)\n",
    "        delta = y_predict - y\n",
    "        dw = 1 / N * np.matmul(X.T, delta)\n",
    "        db = 1 / N * np.sum(delta)\n",
    "        return dw, db\n",
    "\n",
    "    def step_gradient(self, X, y, w, b, learning_rate):\n",
    "        dw, db = self.compute_gradient(X, y, w, b)\n",
    "        w = w - learning_rate * dw\n",
    "        b = b - learning_rate * db\n",
    "        return w, b\n",
    "\n",
    "    def gradient_descent(self, X, y, w_start, b_start, learning_rate, num_epochs):\n",
    "        w, b = w_start, b_start\n",
    "\n",
    "        cost_history = []\n",
    "        w_history = []\n",
    "        b_history = []\n",
    "\n",
    "        for _ in range(num_epochs):\n",
    "            cost_history.append(self.compute_cost(X, y, w, b))\n",
    "            w, b = self.step_gradient(X, y, w, b, learning_rate)\n",
    "            w_history.append(w)\n",
    "            b_history.append(b)\n",
    "        return w_history, b_history, cost_history\n",
    "\n",
    "    def classify(self, y_predict):\n",
    "        return np.where(y_predict > 0.5, 1, 0)\n",
    "\n",
    "    # Evaluation\n",
    "    def accuracy(self, y_predict, y):\n",
    "        y_predict_class = np.where(y_predict > 0.5, 1, 0)\n",
    "        return np.mean(y_predict_class == y)\n",
    "\n",
    "    def sensitivity(self, y_predict, y):\n",
    "        y_predict_class = self.classify(y_predict)\n",
    "        TP = np.sum((y_predict_class == 1) & (y == 1))\n",
    "        FN = np.sum((y_predict_class == 0) & (y == 1))\n",
    "        if TP + FN == 0:\n",
    "            return 0\n",
    "        return TP / (TP + FN)\n",
    "\n",
    "    def specificity(self, y_predict, y):\n",
    "        y_predict_class = self.classify(y_predict)\n",
    "        TN = np.sum((y_predict_class == 0) & (y == 0))\n",
    "        FP = np.sum((y_predict_class == 1) & (y == 0))\n",
    "        if TN + FP == 0:\n",
    "            return 0\n",
    "        return TN / (TN + FP)\n",
    "\n",
    "    def precision(self, y_predict, y):\n",
    "        y_predict_class = self.classify(y_predict)\n",
    "        TP = np.sum((y_predict_class == 1) & (y == 1))\n",
    "        FP = np.sum((y_predict_class == 1) & (y == 0))\n",
    "        if TP + FP == 0:\n",
    "            return 0\n",
    "        return TP / (TP + FP)\n",
    "    \n",
    "    def ROC(self, y_predict, y):\n",
    "        FPR = []\n",
    "        TPR = []\n",
    "        thresholds = np.sort(np.unique(y_predict))[::-1]\n",
    "\n",
    "        for threshold in thresholds:\n",
    "            binary_predictions = (y_predict >= threshold).astype(int)\n",
    "            TPR.append(self.sensitivity(binary_predictions, y))\n",
    "            FPR.append(1 - self.specificity(binary_predictions, y))\n",
    "\n",
    "        ROC_points = FPR, TPR\n",
    "        return ROC_points\n",
    "\n",
    "    def AUROC(self, FPR, TPR):\n",
    "        return np.trapz(TPR, FPR)\n",
    "    \n",
    "    def F1(self, y_predict, y):\n",
    "        precision = self.precision(y_predict, y)\n",
    "        sensitivity = self.sensitivity(y_predict, y)\n",
    "        if precision + sensitivity == 0:\n",
    "            return 0\n",
    "        return 2 * (precision * sensitivity) / (precision + sensitivity)"
   ]
  },
  {
   "cell_type": "markdown",
   "metadata": {},
   "source": [
    "<span style=\"font-size:36px;\">Function to show results for specific parameters</span>"
   ]
  },
  {
   "cell_type": "code",
   "execution_count": 349,
   "metadata": {},
   "outputs": [],
   "source": [
    "def show_results(\n",
    "    X_train,\n",
    "    y_train,\n",
    "    X_test,\n",
    "    y_test,\n",
    "    weights,\n",
    "    bias,\n",
    "    learning_rate,\n",
    "    iterations,\n",
    "    isNormalize,\n",
    "):\n",
    "    algorithm = LogisticRegression(isNormalize)\n",
    "\n",
    "    w_best, b_best, train_history = algorithm.train(\n",
    "        X_train, y_train, weights, bias, learning_rate, iterations\n",
    "    )\n",
    "\n",
    "    # TRAIN RESULTS\n",
    "\n",
    "    # Cost function\n",
    "    w_history, b_history, cost_history = train_history\n",
    "    fig_cost = px.line(\n",
    "        x=range(len(cost_history)),\n",
    "        y=cost_history,\n",
    "        title=\"Cost Function\",\n",
    "        labels={\"x\": \"Epoch\", \"y\": \"Cost\"},\n",
    "    )\n",
    "\n",
    "    if isNormalize:\n",
    "        X_train = algorithm.normalize(X_train)\n",
    "    y_predict = algorithm.model(X_train, w_best, b_best)\n",
    "    y_class = algorithm.classify(y_predict)\n",
    "    accuracy = algorithm.accuracy(y_predict, y_train)\n",
    "    F1 = algorithm.F1(y_predict, y_train)\n",
    "\n",
    "    # Sample predictions\n",
    "    y_train_sample = y_train[:5]\n",
    "    y_predict_sample = y_predict[:5]\n",
    "    y_class_sample = y_class[:5]\n",
    "\n",
    "    df_train_sample = pd.DataFrame(\n",
    "        {\n",
    "            \"y_train\": y_train_sample.flatten(),\n",
    "            \"y_class\": y_class_sample.flatten(),\n",
    "            \"y_predict\": y_predict_sample.flatten(),\n",
    "        }\n",
    "    )\n",
    "\n",
    "    # ROC Curve\n",
    "    ROC_points = algorithm.ROC(y_predict, y_train)\n",
    "    FPR, TPR = ROC_points\n",
    "\n",
    "    df_train_ROC = pd.DataFrame({\"FPR\": FPR, \"TPR\": TPR})\n",
    "    fig_train_ROC = px.line(\n",
    "        df_train_ROC,\n",
    "        x=\"FPR\",\n",
    "        y=\"TPR\",\n",
    "        markers=True,\n",
    "        title=\"ROC Curve - Train\",\n",
    "        labels={\"FPR\": \"False Positive Rate (FPR)\", \"TPR\": \"True Positive Rate (TPR)\"},\n",
    "    )\n",
    "\n",
    "    # Print the train evaluations and sample predictions\n",
    "    print(\"TRAIN\")\n",
    "    print(f\"Train Accuracy: {accuracy}\")\n",
    "    print(f\"Train F1: {F1}\")\n",
    "    print(f\"Train AUROC: {algorithm.AUROC(FPR, TPR)}\")\n",
    "    print(\"\\nSample predictions\")\n",
    "    print(df_train_sample)\n",
    "    fig_cost.show()\n",
    "    fig_train_ROC.show()\n",
    "\n",
    "    # TEST RESULTS\n",
    "\n",
    "    if isNormalize:\n",
    "        X_test = algorithm.normalize(X_test)\n",
    "    y_predict = algorithm.model(X_test, w_best, b_best)\n",
    "    y_class = algorithm.classify(y_predict)\n",
    "    accuracy = algorithm.accuracy(y_predict, y_test)\n",
    "    F1 = algorithm.F1(y_predict, y_test)\n",
    "\n",
    "    # Sample predictions\n",
    "    y_test_sample = y_test[:5]\n",
    "    y_predict_sample = y_predict[:5]\n",
    "    y_class_sample = y_class[:5]\n",
    "\n",
    "    df_test_sample = pd.DataFrame(\n",
    "        {\n",
    "            \"y_test\": y_test_sample.flatten(),\n",
    "            \"y_class\": y_class_sample.flatten(),\n",
    "            \"y_predict\": y_predict_sample.flatten(),\n",
    "        }\n",
    "    )\n",
    "\n",
    "    # ROC curve\n",
    "    ROC_points = algorithm.ROC(y_predict, y_test)\n",
    "    FPR, TPR = ROC_points\n",
    "\n",
    "    df_test_ROC = pd.DataFrame({\"FPR\": FPR, \"TPR\": TPR})\n",
    "    fig_test_ROC = px.line(\n",
    "        df_test_ROC,\n",
    "        x=\"FPR\",\n",
    "        y=\"TPR\",\n",
    "        markers=True,\n",
    "        title=\"ROC Curve - Test\",\n",
    "        labels={\"FPR\": \"False Positive Rate (FPR)\", \"TPR\": \"True Positive Rate (TPR)\"},\n",
    "    )\n",
    "\n",
    "    # Print the test evaluations and sample predictions\n",
    "    print(\"TEST\")\n",
    "    print(f\"Test Accuracy: {accuracy}\")\n",
    "    print(f\"Test F1: {F1}\")\n",
    "    print(f\"Test AUROC: {algorithm.AUROC(FPR, TPR)}\")\n",
    "    print(\"\\nSample predictions\")\n",
    "    print(df_test_sample)\n",
    "    fig_test_ROC.show()"
   ]
  },
  {
   "cell_type": "markdown",
   "metadata": {},
   "source": [
    "<span style=\"font-size:36px;\">Implement data and parameters</span>"
   ]
  },
  {
   "cell_type": "code",
   "execution_count": 350,
   "metadata": {},
   "outputs": [],
   "source": [
    "df = pd.read_csv(\"data.csv\")\n",
    "\n",
    "X = df.drop(columns=[\"Diagnosis\"]).values\n",
    "y = df[\"Diagnosis\"].values\n",
    "N, D = X.shape\n",
    "y = y.reshape(N, 1)\n",
    "\n",
    "X_train, X_test, y_train, y_test = train_test_split(\n",
    "    X, y, test_size=0.25, random_state=SEED\n",
    ")\n",
    "\n",
    "weights = np.random.randn(D, 1)\n",
    "bias = np.random.randn()"
   ]
  },
  {
   "cell_type": "markdown",
   "metadata": {},
   "source": [
    "<span style=\"font-size:36px;\">Use LogisticRegression without Normalize</span>"
   ]
  },
  {
   "cell_type": "code",
   "execution_count": 351,
   "metadata": {},
   "outputs": [
    {
     "name": "stdout",
     "output_type": "stream",
     "text": [
      "TRAIN\n",
      "Train Accuracy: 0.7276995305164319\n",
      "Train F1: 0.41414141414141414\n",
      "Train AUROC: 0.7024838396514573\n",
      "\n",
      "Sample predictions\n",
      "   y_train  y_class      y_predict\n",
      "0        0        0  6.418674e-144\n",
      "1        1        0   1.060849e-30\n",
      "2        0        0   5.546937e-60\n",
      "3        1        0  1.721463e-155\n",
      "4        0        0   2.693460e-77\n"
     ]
    },
    {
     "data": {
      "application/vnd.plotly.v1+json": {
       "config": {
        "plotlyServerURL": "https://plot.ly"
       },
       "data": [
        {
         "hovertemplate": "Epoch=%{x}<br>Cost=%{y}<extra></extra>",
         "legendgroup": "",
         "line": {
          "color": "#636efa",
          "dash": "solid"
         },
         "marker": {
          "symbol": "circle"
         },
         "mode": "lines",
         "name": "",
         "orientation": "v",
         "showlegend": false,
         "type": "scatter",
         "x": [
          0,
          1,
          2,
          3,
          4,
          5,
          6,
          7,
          8,
          9,
          10,
          11,
          12,
          13,
          14,
          15,
          16,
          17,
          18,
          19,
          20,
          21,
          22,
          23,
          24,
          25,
          26,
          27,
          28,
          29,
          30,
          31,
          32,
          33,
          34,
          35,
          36,
          37,
          38,
          39,
          40,
          41,
          42,
          43,
          44,
          45,
          46,
          47,
          48,
          49,
          50,
          51,
          52,
          53,
          54,
          55,
          56,
          57,
          58,
          59,
          60,
          61,
          62,
          63,
          64,
          65,
          66,
          67,
          68,
          69,
          70,
          71,
          72,
          73,
          74,
          75,
          76,
          77,
          78,
          79,
          80,
          81,
          82,
          83,
          84,
          85,
          86,
          87,
          88,
          89,
          90,
          91,
          92,
          93,
          94,
          95,
          96,
          97,
          98,
          99
         ],
         "xaxis": "x",
         "y": [
          14.90395783698927,
          108.03082301575874,
          14.539797835475412,
          16.177595950441273,
          15.97645999863646,
          103.74803119447839,
          14.539797835475412,
          14.125108642621734,
          19.677562991719217,
          14.539797835475412,
          65.3484706724334,
          14.539797835475412,
          16.381912434845816,
          158.90225833184374,
          14.781106182074064,
          78.90519201235008,
          14.539797835475412,
          12.449043455557813,
          100.63289913853876,
          14.539797835475412,
          13.051367473011974,
          15.980131410198886,
          148.93566659759324,
          14.633810482808634,
          55.50344625478607,
          14.539797835475412,
          11.677953634221817,
          16.063525767860828,
          155.3969416020025,
          14.927925391605546,
          69.06727761668164,
          14.539797835475412,
          15.5596210469106,
          15.87275036004232,
          116.82304387493603,
          14.539797835475412,
          26.175734691950332,
          14.666497981368103,
          44.01507152660384,
          14.539797835475412,
          17.08352277239386,
          15.920842374430768,
          109.33538870201639,
          14.539797835475412,
          22.940704856903423,
          15.212054877306254,
          70.55590690432926,
          14.539797835475412,
          21.737067168115217,
          15.617544422676653,
          87.14679219404226,
          14.540818554358282,
          30.25800965106007,
          14.894621810470943,
          46.22983013456536,
          14.667584159254767,
          32.75292441980609,
          14.92289626039754,
          45.727444521982,
          14.773058241003872,
          36.43243736436856,
          14.930787645798949,
          44.08833195037061,
          14.825050985431748,
          37.355933724305174,
          15.047617319404862,
          45.376603661757,
          14.911630030656275,
          40.12989719071925,
          15.05004004020354,
          43.38240049617942,
          15.008661643003615,
          40.530650836193836,
          15.1976580972722,
          48.26477732089538,
          15.109014745423039,
          43.13287846587474,
          15.149617917317459,
          44.01466062427576,
          15.165358557477505,
          43.77158117563665,
          15.289002833078156,
          48.485825689955036,
          15.203915236311213,
          43.63753309915467,
          15.499509047858448,
          53.11489381227511,
          15.3636642502532,
          46.43279525225962,
          15.48696034028433,
          49.31193664246408,
          15.450487203018946,
          46.61814308748064,
          15.68337527902436,
          55.901440634324004,
          15.52952863405563,
          49.162808826619184,
          15.635417925567705,
          52.02247042023907,
          15.565604160498108
         ],
         "yaxis": "y"
        }
       ],
       "layout": {
        "legend": {
         "tracegroupgap": 0
        },
        "template": {
         "data": {
          "bar": [
           {
            "error_x": {
             "color": "#2a3f5f"
            },
            "error_y": {
             "color": "#2a3f5f"
            },
            "marker": {
             "line": {
              "color": "#E5ECF6",
              "width": 0.5
             },
             "pattern": {
              "fillmode": "overlay",
              "size": 10,
              "solidity": 0.2
             }
            },
            "type": "bar"
           }
          ],
          "barpolar": [
           {
            "marker": {
             "line": {
              "color": "#E5ECF6",
              "width": 0.5
             },
             "pattern": {
              "fillmode": "overlay",
              "size": 10,
              "solidity": 0.2
             }
            },
            "type": "barpolar"
           }
          ],
          "carpet": [
           {
            "aaxis": {
             "endlinecolor": "#2a3f5f",
             "gridcolor": "white",
             "linecolor": "white",
             "minorgridcolor": "white",
             "startlinecolor": "#2a3f5f"
            },
            "baxis": {
             "endlinecolor": "#2a3f5f",
             "gridcolor": "white",
             "linecolor": "white",
             "minorgridcolor": "white",
             "startlinecolor": "#2a3f5f"
            },
            "type": "carpet"
           }
          ],
          "choropleth": [
           {
            "colorbar": {
             "outlinewidth": 0,
             "ticks": ""
            },
            "type": "choropleth"
           }
          ],
          "contour": [
           {
            "colorbar": {
             "outlinewidth": 0,
             "ticks": ""
            },
            "colorscale": [
             [
              0,
              "#0d0887"
             ],
             [
              0.1111111111111111,
              "#46039f"
             ],
             [
              0.2222222222222222,
              "#7201a8"
             ],
             [
              0.3333333333333333,
              "#9c179e"
             ],
             [
              0.4444444444444444,
              "#bd3786"
             ],
             [
              0.5555555555555556,
              "#d8576b"
             ],
             [
              0.6666666666666666,
              "#ed7953"
             ],
             [
              0.7777777777777778,
              "#fb9f3a"
             ],
             [
              0.8888888888888888,
              "#fdca26"
             ],
             [
              1,
              "#f0f921"
             ]
            ],
            "type": "contour"
           }
          ],
          "contourcarpet": [
           {
            "colorbar": {
             "outlinewidth": 0,
             "ticks": ""
            },
            "type": "contourcarpet"
           }
          ],
          "heatmap": [
           {
            "colorbar": {
             "outlinewidth": 0,
             "ticks": ""
            },
            "colorscale": [
             [
              0,
              "#0d0887"
             ],
             [
              0.1111111111111111,
              "#46039f"
             ],
             [
              0.2222222222222222,
              "#7201a8"
             ],
             [
              0.3333333333333333,
              "#9c179e"
             ],
             [
              0.4444444444444444,
              "#bd3786"
             ],
             [
              0.5555555555555556,
              "#d8576b"
             ],
             [
              0.6666666666666666,
              "#ed7953"
             ],
             [
              0.7777777777777778,
              "#fb9f3a"
             ],
             [
              0.8888888888888888,
              "#fdca26"
             ],
             [
              1,
              "#f0f921"
             ]
            ],
            "type": "heatmap"
           }
          ],
          "heatmapgl": [
           {
            "colorbar": {
             "outlinewidth": 0,
             "ticks": ""
            },
            "colorscale": [
             [
              0,
              "#0d0887"
             ],
             [
              0.1111111111111111,
              "#46039f"
             ],
             [
              0.2222222222222222,
              "#7201a8"
             ],
             [
              0.3333333333333333,
              "#9c179e"
             ],
             [
              0.4444444444444444,
              "#bd3786"
             ],
             [
              0.5555555555555556,
              "#d8576b"
             ],
             [
              0.6666666666666666,
              "#ed7953"
             ],
             [
              0.7777777777777778,
              "#fb9f3a"
             ],
             [
              0.8888888888888888,
              "#fdca26"
             ],
             [
              1,
              "#f0f921"
             ]
            ],
            "type": "heatmapgl"
           }
          ],
          "histogram": [
           {
            "marker": {
             "pattern": {
              "fillmode": "overlay",
              "size": 10,
              "solidity": 0.2
             }
            },
            "type": "histogram"
           }
          ],
          "histogram2d": [
           {
            "colorbar": {
             "outlinewidth": 0,
             "ticks": ""
            },
            "colorscale": [
             [
              0,
              "#0d0887"
             ],
             [
              0.1111111111111111,
              "#46039f"
             ],
             [
              0.2222222222222222,
              "#7201a8"
             ],
             [
              0.3333333333333333,
              "#9c179e"
             ],
             [
              0.4444444444444444,
              "#bd3786"
             ],
             [
              0.5555555555555556,
              "#d8576b"
             ],
             [
              0.6666666666666666,
              "#ed7953"
             ],
             [
              0.7777777777777778,
              "#fb9f3a"
             ],
             [
              0.8888888888888888,
              "#fdca26"
             ],
             [
              1,
              "#f0f921"
             ]
            ],
            "type": "histogram2d"
           }
          ],
          "histogram2dcontour": [
           {
            "colorbar": {
             "outlinewidth": 0,
             "ticks": ""
            },
            "colorscale": [
             [
              0,
              "#0d0887"
             ],
             [
              0.1111111111111111,
              "#46039f"
             ],
             [
              0.2222222222222222,
              "#7201a8"
             ],
             [
              0.3333333333333333,
              "#9c179e"
             ],
             [
              0.4444444444444444,
              "#bd3786"
             ],
             [
              0.5555555555555556,
              "#d8576b"
             ],
             [
              0.6666666666666666,
              "#ed7953"
             ],
             [
              0.7777777777777778,
              "#fb9f3a"
             ],
             [
              0.8888888888888888,
              "#fdca26"
             ],
             [
              1,
              "#f0f921"
             ]
            ],
            "type": "histogram2dcontour"
           }
          ],
          "mesh3d": [
           {
            "colorbar": {
             "outlinewidth": 0,
             "ticks": ""
            },
            "type": "mesh3d"
           }
          ],
          "parcoords": [
           {
            "line": {
             "colorbar": {
              "outlinewidth": 0,
              "ticks": ""
             }
            },
            "type": "parcoords"
           }
          ],
          "pie": [
           {
            "automargin": true,
            "type": "pie"
           }
          ],
          "scatter": [
           {
            "fillpattern": {
             "fillmode": "overlay",
             "size": 10,
             "solidity": 0.2
            },
            "type": "scatter"
           }
          ],
          "scatter3d": [
           {
            "line": {
             "colorbar": {
              "outlinewidth": 0,
              "ticks": ""
             }
            },
            "marker": {
             "colorbar": {
              "outlinewidth": 0,
              "ticks": ""
             }
            },
            "type": "scatter3d"
           }
          ],
          "scattercarpet": [
           {
            "marker": {
             "colorbar": {
              "outlinewidth": 0,
              "ticks": ""
             }
            },
            "type": "scattercarpet"
           }
          ],
          "scattergeo": [
           {
            "marker": {
             "colorbar": {
              "outlinewidth": 0,
              "ticks": ""
             }
            },
            "type": "scattergeo"
           }
          ],
          "scattergl": [
           {
            "marker": {
             "colorbar": {
              "outlinewidth": 0,
              "ticks": ""
             }
            },
            "type": "scattergl"
           }
          ],
          "scattermapbox": [
           {
            "marker": {
             "colorbar": {
              "outlinewidth": 0,
              "ticks": ""
             }
            },
            "type": "scattermapbox"
           }
          ],
          "scatterpolar": [
           {
            "marker": {
             "colorbar": {
              "outlinewidth": 0,
              "ticks": ""
             }
            },
            "type": "scatterpolar"
           }
          ],
          "scatterpolargl": [
           {
            "marker": {
             "colorbar": {
              "outlinewidth": 0,
              "ticks": ""
             }
            },
            "type": "scatterpolargl"
           }
          ],
          "scatterternary": [
           {
            "marker": {
             "colorbar": {
              "outlinewidth": 0,
              "ticks": ""
             }
            },
            "type": "scatterternary"
           }
          ],
          "surface": [
           {
            "colorbar": {
             "outlinewidth": 0,
             "ticks": ""
            },
            "colorscale": [
             [
              0,
              "#0d0887"
             ],
             [
              0.1111111111111111,
              "#46039f"
             ],
             [
              0.2222222222222222,
              "#7201a8"
             ],
             [
              0.3333333333333333,
              "#9c179e"
             ],
             [
              0.4444444444444444,
              "#bd3786"
             ],
             [
              0.5555555555555556,
              "#d8576b"
             ],
             [
              0.6666666666666666,
              "#ed7953"
             ],
             [
              0.7777777777777778,
              "#fb9f3a"
             ],
             [
              0.8888888888888888,
              "#fdca26"
             ],
             [
              1,
              "#f0f921"
             ]
            ],
            "type": "surface"
           }
          ],
          "table": [
           {
            "cells": {
             "fill": {
              "color": "#EBF0F8"
             },
             "line": {
              "color": "white"
             }
            },
            "header": {
             "fill": {
              "color": "#C8D4E3"
             },
             "line": {
              "color": "white"
             }
            },
            "type": "table"
           }
          ]
         },
         "layout": {
          "annotationdefaults": {
           "arrowcolor": "#2a3f5f",
           "arrowhead": 0,
           "arrowwidth": 1
          },
          "autotypenumbers": "strict",
          "coloraxis": {
           "colorbar": {
            "outlinewidth": 0,
            "ticks": ""
           }
          },
          "colorscale": {
           "diverging": [
            [
             0,
             "#8e0152"
            ],
            [
             0.1,
             "#c51b7d"
            ],
            [
             0.2,
             "#de77ae"
            ],
            [
             0.3,
             "#f1b6da"
            ],
            [
             0.4,
             "#fde0ef"
            ],
            [
             0.5,
             "#f7f7f7"
            ],
            [
             0.6,
             "#e6f5d0"
            ],
            [
             0.7,
             "#b8e186"
            ],
            [
             0.8,
             "#7fbc41"
            ],
            [
             0.9,
             "#4d9221"
            ],
            [
             1,
             "#276419"
            ]
           ],
           "sequential": [
            [
             0,
             "#0d0887"
            ],
            [
             0.1111111111111111,
             "#46039f"
            ],
            [
             0.2222222222222222,
             "#7201a8"
            ],
            [
             0.3333333333333333,
             "#9c179e"
            ],
            [
             0.4444444444444444,
             "#bd3786"
            ],
            [
             0.5555555555555556,
             "#d8576b"
            ],
            [
             0.6666666666666666,
             "#ed7953"
            ],
            [
             0.7777777777777778,
             "#fb9f3a"
            ],
            [
             0.8888888888888888,
             "#fdca26"
            ],
            [
             1,
             "#f0f921"
            ]
           ],
           "sequentialminus": [
            [
             0,
             "#0d0887"
            ],
            [
             0.1111111111111111,
             "#46039f"
            ],
            [
             0.2222222222222222,
             "#7201a8"
            ],
            [
             0.3333333333333333,
             "#9c179e"
            ],
            [
             0.4444444444444444,
             "#bd3786"
            ],
            [
             0.5555555555555556,
             "#d8576b"
            ],
            [
             0.6666666666666666,
             "#ed7953"
            ],
            [
             0.7777777777777778,
             "#fb9f3a"
            ],
            [
             0.8888888888888888,
             "#fdca26"
            ],
            [
             1,
             "#f0f921"
            ]
           ]
          },
          "colorway": [
           "#636efa",
           "#EF553B",
           "#00cc96",
           "#ab63fa",
           "#FFA15A",
           "#19d3f3",
           "#FF6692",
           "#B6E880",
           "#FF97FF",
           "#FECB52"
          ],
          "font": {
           "color": "#2a3f5f"
          },
          "geo": {
           "bgcolor": "white",
           "lakecolor": "white",
           "landcolor": "#E5ECF6",
           "showlakes": true,
           "showland": true,
           "subunitcolor": "white"
          },
          "hoverlabel": {
           "align": "left"
          },
          "hovermode": "closest",
          "mapbox": {
           "style": "light"
          },
          "paper_bgcolor": "white",
          "plot_bgcolor": "#E5ECF6",
          "polar": {
           "angularaxis": {
            "gridcolor": "white",
            "linecolor": "white",
            "ticks": ""
           },
           "bgcolor": "#E5ECF6",
           "radialaxis": {
            "gridcolor": "white",
            "linecolor": "white",
            "ticks": ""
           }
          },
          "scene": {
           "xaxis": {
            "backgroundcolor": "#E5ECF6",
            "gridcolor": "white",
            "gridwidth": 2,
            "linecolor": "white",
            "showbackground": true,
            "ticks": "",
            "zerolinecolor": "white"
           },
           "yaxis": {
            "backgroundcolor": "#E5ECF6",
            "gridcolor": "white",
            "gridwidth": 2,
            "linecolor": "white",
            "showbackground": true,
            "ticks": "",
            "zerolinecolor": "white"
           },
           "zaxis": {
            "backgroundcolor": "#E5ECF6",
            "gridcolor": "white",
            "gridwidth": 2,
            "linecolor": "white",
            "showbackground": true,
            "ticks": "",
            "zerolinecolor": "white"
           }
          },
          "shapedefaults": {
           "line": {
            "color": "#2a3f5f"
           }
          },
          "ternary": {
           "aaxis": {
            "gridcolor": "white",
            "linecolor": "white",
            "ticks": ""
           },
           "baxis": {
            "gridcolor": "white",
            "linecolor": "white",
            "ticks": ""
           },
           "bgcolor": "#E5ECF6",
           "caxis": {
            "gridcolor": "white",
            "linecolor": "white",
            "ticks": ""
           }
          },
          "title": {
           "x": 0.05
          },
          "xaxis": {
           "automargin": true,
           "gridcolor": "white",
           "linecolor": "white",
           "ticks": "",
           "title": {
            "standoff": 15
           },
           "zerolinecolor": "white",
           "zerolinewidth": 2
          },
          "yaxis": {
           "automargin": true,
           "gridcolor": "white",
           "linecolor": "white",
           "ticks": "",
           "title": {
            "standoff": 15
           },
           "zerolinecolor": "white",
           "zerolinewidth": 2
          }
         }
        },
        "title": {
         "text": "Cost Function"
        },
        "xaxis": {
         "anchor": "y",
         "domain": [
          0,
          1
         ],
         "title": {
          "text": "Epoch"
         }
        },
        "yaxis": {
         "anchor": "x",
         "domain": [
          0,
          1
         ],
         "title": {
          "text": "Cost"
         }
        }
       }
      }
     },
     "metadata": {},
     "output_type": "display_data"
    },
    {
     "data": {
      "application/vnd.plotly.v1+json": {
       "config": {
        "plotlyServerURL": "https://plot.ly"
       },
       "data": [
        {
         "hovertemplate": "False Positive Rate (FPR)=%{x}<br>True Positive Rate (TPR)=%{y}<extra></extra>",
         "legendgroup": "",
         "line": {
          "color": "#636efa",
          "dash": "solid"
         },
         "marker": {
          "symbol": "circle"
         },
         "mode": "lines+markers",
         "name": "",
         "orientation": "v",
         "showlegend": false,
         "type": "scatter",
         "x": [
          0,
          0,
          0,
          0,
          0,
          0,
          0,
          0,
          0,
          0,
          0,
          0,
          0,
          0,
          0,
          0,
          0,
          0,
          0,
          0,
          0,
          0,
          0.0037174721189591198,
          0.0037174721189591198,
          0.0037174721189591198,
          0.0037174721189591198,
          0.0037174721189591198,
          0.0037174721189591198,
          0.0037174721189591198,
          0.0037174721189591198,
          0.0037174721189591198,
          0.0037174721189591198,
          0.0037174721189591198,
          0.0037174721189591198,
          0.0037174721189591198,
          0.0037174721189591198,
          0.0074349442379182396,
          0.0074349442379182396,
          0.0074349442379182396,
          0.0074349442379182396,
          0.01115241635687736,
          0.01115241635687736,
          0.01115241635687736,
          0.01115241635687736,
          0.01115241635687736,
          0.01115241635687736,
          0.014869888475836479,
          0.014869888475836479,
          0.014869888475836479,
          0.014869888475836479,
          0.018587360594795488,
          0.022304832713754608,
          0.022304832713754608,
          0.026022304832713727,
          0.026022304832713727,
          0.029739776951672847,
          0.029739776951672847,
          0.029739776951672847,
          0.029739776951672847,
          0.029739776951672847,
          0.029739776951672847,
          0.03345724907063197,
          0.03345724907063197,
          0.03717472118959109,
          0.040892193308550207,
          0.040892193308550207,
          0.044609665427509326,
          0.048327137546468446,
          0.048327137546468446,
          0.052044609665427455,
          0.055762081784386575,
          0.059479553903345694,
          0.06319702602230481,
          0.06319702602230481,
          0.06691449814126393,
          0.07063197026022305,
          0.07434944237918217,
          0.0780669144981413,
          0.08178438661710041,
          0.08178438661710041,
          0.08178438661710041,
          0.08178438661710041,
          0.08550185873605953,
          0.08921933085501854,
          0.09293680297397766,
          0.09665427509293678,
          0.09665427509293678,
          0.09665427509293678,
          0.1003717472118959,
          0.10408921933085502,
          0.10780669144981414,
          0.11152416356877326,
          0.11524163568773238,
          0.1189591078066915,
          0.12267657992565051,
          0.12267657992565051,
          0.12639405204460963,
          0.13011152416356875,
          0.13382899628252787,
          0.13382899628252787,
          0.137546468401487,
          0.1412639405204461,
          0.14498141263940523,
          0.14869888475836435,
          0.14869888475836435,
          0.15241635687732347,
          0.15241635687732347,
          0.15613382899628248,
          0.1598513011152416,
          0.16356877323420072,
          0.16728624535315983,
          0.17100371747211895,
          0.17100371747211895,
          0.17472118959107807,
          0.17472118959107807,
          0.1784386617100372,
          0.18215613382899631,
          0.18587360594795543,
          0.18959107806691455,
          0.19330855018587356,
          0.19702602230483268,
          0.2007434944237918,
          0.20446096654275092,
          0.20817843866171004,
          0.21189591078066916,
          0.21561338289962828,
          0.2193308550185874,
          0.22304832713754652,
          0.22676579925650553,
          0.23048327137546465,
          0.23420074349442377,
          0.2379182156133829,
          0.241635687732342,
          0.24535315985130113,
          0.24907063197026025,
          0.25278810408921937,
          0.2565055762081785,
          0.2602230483271375,
          0.2639405204460966,
          0.26765799256505574,
          0.27137546468401486,
          0.275092936802974,
          0.2788104089219331,
          0.2788104089219331,
          0.2788104089219331,
          0.2825278810408922,
          0.28624535315985133,
          0.28624535315985133,
          0.28996282527881045,
          0.29368029739776946,
          0.2973977695167286,
          0.3011152416356877,
          0.3048327137546468,
          0.30855018587360594,
          0.31226765799256506,
          0.31226765799256506,
          0.3159851301115242,
          0.3197026022304833,
          0.3234200743494424,
          0.3234200743494424,
          0.32713754646840154,
          0.33085501858736055,
          0.33457249070631967,
          0.3382899628252788,
          0.3420074349442379,
          0.34572490706319703,
          0.34944237918215615,
          0.34944237918215615,
          0.35315985130111527,
          0.3568773234200744,
          0.3605947955390335,
          0.3643122676579925,
          0.36802973977695164,
          0.37174721189591076,
          0.3754646840148699,
          0.379182156133829,
          0.3828996282527881,
          0.38661710037174724,
          0.39033457249070636,
          0.3940520446096655,
          0.3977695167286245,
          0.4014869888475836,
          0.4052044609665427,
          0.40892193308550184,
          0.40892193308550184,
          0.41263940520446096,
          0.4163568773234201,
          0.4200743494423792,
          0.4237918215613383,
          0.4237918215613383,
          0.42750929368029744,
          0.43122676579925645,
          0.43494423791821557,
          0.4386617100371747,
          0.4386617100371747,
          0.4423791821561338,
          0.44609665427509293,
          0.44981412639405205,
          0.45353159851301117,
          0.4572490706319703,
          0.4572490706319703,
          0.4609665427509294,
          0.4609665427509294,
          0.46468401486988853,
          0.46840148698884754,
          0.47211895910780666,
          0.4758364312267658,
          0.4795539033457249,
          0.483271375464684,
          0.48698884758364314,
          0.49070631970260226,
          0.4944237918215614,
          0.4981412639405205,
          0.5018587360594795,
          0.5055762081784387,
          0.5092936802973977,
          0.5130111524163569,
          0.516728624535316,
          0.5204460966542751,
          0.5241635687732342,
          0.5278810408921932,
          0.5315985130111525,
          0.5353159851301115,
          0.5390334572490707,
          0.5427509293680297,
          0.5464684014869888,
          0.550185873605948,
          0.5539033457249071,
          0.5576208178438662,
          0.5613382899628252,
          0.5650557620817844,
          0.5687732342007434,
          0.5724907063197027,
          0.5762081784386617,
          0.5799256505576208,
          0.5799256505576208,
          0.5836431226765799,
          0.587360594795539,
          0.5910780669144982,
          0.5947955390334573,
          0.5985130111524164,
          0.6022304832713754,
          0.6059479553903346,
          0.6096654275092936,
          0.6133828996282528,
          0.6171003717472119,
          0.620817843866171,
          0.6245353159851301,
          0.6282527881040892,
          0.6282527881040892,
          0.6319702602230484,
          0.6356877323420074,
          0.6394052044609666,
          0.6431226765799256,
          0.6468401486988847,
          0.6505576208178439,
          0.654275092936803,
          0.6579925650557621,
          0.6617100371747212,
          0.6654275092936803,
          0.6654275092936803,
          0.6691449814126393,
          0.6728624535315986,
          0.6765799256505576,
          0.6765799256505576,
          0.6802973977695168,
          0.6802973977695168,
          0.6840148698884758,
          0.6877323420074349,
          0.6914498141263941,
          0.6951672862453532,
          0.6988847583643123,
          0.7026022304832713,
          0.7063197026022305,
          0.7100371747211895,
          0.7137546468401488,
          0.7137546468401488,
          0.7137546468401488,
          0.7174721189591078,
          0.7211895910780669,
          0.7211895910780669,
          0.724907063197026,
          0.7286245353159851,
          0.7323420074349443,
          0.7360594795539033,
          0.7397769516728625,
          0.7434944237918215,
          0.7434944237918215,
          0.7472118959107807,
          0.7509293680297398,
          0.7546468401486989,
          0.7546468401486989,
          0.758364312267658,
          0.7620817843866171,
          0.7620817843866171,
          0.7657992565055762,
          0.7657992565055762,
          0.7695167286245354,
          0.7732342007434945,
          0.7732342007434945,
          0.7769516728624535,
          0.7769516728624535,
          0.7806691449814126,
          0.7843866171003717,
          0.7881040892193308,
          0.79182156133829,
          0.79182156133829,
          0.7955390334572491,
          0.7992565055762082,
          0.8029739776951673,
          0.8066914498141264,
          0.8104089219330854,
          0.8141263940520447,
          0.8178438661710037,
          0.8215613382899628,
          0.8252788104089219,
          0.828996282527881,
          0.828996282527881,
          0.8327137546468402,
          0.8364312267657993,
          0.8401486988847584,
          0.8438661710037174,
          0.8475836431226766,
          0.8513011152416357,
          0.8550185873605948,
          0.8587360594795539,
          0.862453531598513,
          0.862453531598513,
          0.8661710037174721,
          0.8698884758364313,
          0.8698884758364313,
          0.8698884758364313,
          0.8736059479553904,
          0.8773234200743494,
          0.8810408921933086,
          0.8847583643122676,
          0.8884758364312267,
          0.8921933085501859,
          0.8921933085501859,
          0.895910780669145,
          0.8996282527881041,
          0.9033457249070632,
          0.9070631970260223,
          0.9107806691449815,
          0.9144981412639406,
          0.9182156133828996,
          0.9219330855018587,
          0.9256505576208178,
          0.929368029739777,
          0.9330855018587361,
          0.9330855018587361,
          0.9368029739776952,
          0.9368029739776952,
          0.9405204460966543,
          0.9405204460966543,
          0.9442379182156134,
          0.9479553903345725,
          0.9516728624535316,
          0.9553903345724907,
          0.9591078066914498,
          0.9628252788104089,
          0.966542750929368,
          0.9702602230483272,
          0.9739776951672863,
          0.9776951672862454,
          0.9776951672862454,
          0.9776951672862454,
          0.9814126394052045,
          0.9851301115241635,
          0.9888475836431226,
          0.9888475836431226,
          0.9888475836431226,
          0.9888475836431226,
          0.9925650557620818,
          0.9962825278810409,
          0.9962825278810409,
          0.9962825278810409,
          1,
          1,
          1,
          1,
          1,
          1,
          1,
          1,
          1,
          1,
          1,
          1,
          1
         ],
         "xaxis": "x",
         "y": [
          0.21019108280254778,
          0.21656050955414013,
          0.2229299363057325,
          0.22929936305732485,
          0.2356687898089172,
          0.24203821656050956,
          0.2484076433121019,
          0.25477707006369427,
          0.2611464968152866,
          0.267515923566879,
          0.27388535031847133,
          0.2802547770700637,
          0.28662420382165604,
          0.2929936305732484,
          0.29936305732484075,
          0.3057324840764331,
          0.31210191082802546,
          0.3184713375796178,
          0.3248407643312102,
          0.33121019108280253,
          0.3375796178343949,
          0.34394904458598724,
          0.34394904458598724,
          0.3503184713375796,
          0.35668789808917195,
          0.3630573248407643,
          0.36942675159235666,
          0.37579617834394907,
          0.3821656050955414,
          0.3885350318471338,
          0.39490445859872614,
          0.4012738853503185,
          0.40764331210191085,
          0.4140127388535032,
          0.42038216560509556,
          0.4267515923566879,
          0.4267515923566879,
          0.43312101910828027,
          0.4394904458598726,
          0.445859872611465,
          0.445859872611465,
          0.45222929936305734,
          0.4585987261146497,
          0.46496815286624205,
          0.4713375796178344,
          0.47770700636942676,
          0.47770700636942676,
          0.4840764331210191,
          0.49044585987261147,
          0.4968152866242038,
          0.4968152866242038,
          0.4968152866242038,
          0.5031847133757962,
          0.5031847133757962,
          0.5095541401273885,
          0.5095541401273885,
          0.5159235668789809,
          0.5222929936305732,
          0.5286624203821656,
          0.535031847133758,
          0.5414012738853503,
          0.5414012738853503,
          0.5477707006369427,
          0.5477707006369427,
          0.5477707006369427,
          0.554140127388535,
          0.554140127388535,
          0.554140127388535,
          0.5605095541401274,
          0.5605095541401274,
          0.5605095541401274,
          0.5605095541401274,
          0.5605095541401274,
          0.5668789808917197,
          0.5668789808917197,
          0.5668789808917197,
          0.5668789808917197,
          0.5668789808917197,
          0.5668789808917197,
          0.5732484076433121,
          0.5796178343949044,
          0.5859872611464968,
          0.5859872611464968,
          0.5859872611464968,
          0.5859872611464968,
          0.5859872611464968,
          0.5923566878980892,
          0.5987261146496815,
          0.5987261146496815,
          0.5987261146496815,
          0.5987261146496815,
          0.5987261146496815,
          0.5987261146496815,
          0.5987261146496815,
          0.5987261146496815,
          0.6050955414012739,
          0.6050955414012739,
          0.6050955414012739,
          0.6050955414012739,
          0.6114649681528662,
          0.6114649681528662,
          0.6114649681528662,
          0.6114649681528662,
          0.6114649681528662,
          0.6178343949044586,
          0.6178343949044586,
          0.6242038216560509,
          0.6242038216560509,
          0.6242038216560509,
          0.6242038216560509,
          0.6242038216560509,
          0.6242038216560509,
          0.6305732484076433,
          0.6305732484076433,
          0.6369426751592356,
          0.6369426751592356,
          0.6369426751592356,
          0.6369426751592356,
          0.6369426751592356,
          0.6369426751592356,
          0.6369426751592356,
          0.6369426751592356,
          0.6369426751592356,
          0.6369426751592356,
          0.6369426751592356,
          0.6369426751592356,
          0.6369426751592356,
          0.6369426751592356,
          0.6369426751592356,
          0.6369426751592356,
          0.6369426751592356,
          0.6369426751592356,
          0.6369426751592356,
          0.6369426751592356,
          0.6369426751592356,
          0.6369426751592356,
          0.6369426751592356,
          0.6369426751592356,
          0.6369426751592356,
          0.6369426751592356,
          0.6369426751592356,
          0.6369426751592356,
          0.6369426751592356,
          0.643312101910828,
          0.6496815286624203,
          0.6496815286624203,
          0.6496815286624203,
          0.6560509554140127,
          0.6560509554140127,
          0.6560509554140127,
          0.6560509554140127,
          0.6560509554140127,
          0.6560509554140127,
          0.6560509554140127,
          0.6560509554140127,
          0.6624203821656051,
          0.6624203821656051,
          0.6624203821656051,
          0.6624203821656051,
          0.6687898089171974,
          0.6687898089171974,
          0.6687898089171974,
          0.6687898089171974,
          0.6687898089171974,
          0.6687898089171974,
          0.6687898089171974,
          0.6687898089171974,
          0.6751592356687898,
          0.6751592356687898,
          0.6751592356687898,
          0.6751592356687898,
          0.6751592356687898,
          0.6751592356687898,
          0.6751592356687898,
          0.6751592356687898,
          0.6751592356687898,
          0.6751592356687898,
          0.6751592356687898,
          0.6751592356687898,
          0.6751592356687898,
          0.6751592356687898,
          0.6751592356687898,
          0.6751592356687898,
          0.6751592356687898,
          0.6815286624203821,
          0.6815286624203821,
          0.6815286624203821,
          0.6815286624203821,
          0.6815286624203821,
          0.6878980891719745,
          0.6878980891719745,
          0.6878980891719745,
          0.6878980891719745,
          0.6878980891719745,
          0.6942675159235668,
          0.6942675159235668,
          0.6942675159235668,
          0.6942675159235668,
          0.6942675159235668,
          0.6942675159235668,
          0.7006369426751592,
          0.7006369426751592,
          0.7070063694267515,
          0.7070063694267515,
          0.7070063694267515,
          0.7070063694267515,
          0.7070063694267515,
          0.7070063694267515,
          0.7070063694267515,
          0.7070063694267515,
          0.7070063694267515,
          0.7070063694267515,
          0.7070063694267515,
          0.7070063694267515,
          0.7070063694267515,
          0.7070063694267515,
          0.7070063694267515,
          0.7070063694267515,
          0.7070063694267515,
          0.7070063694267515,
          0.7070063694267515,
          0.7070063694267515,
          0.7070063694267515,
          0.7070063694267515,
          0.7070063694267515,
          0.7070063694267515,
          0.7070063694267515,
          0.7070063694267515,
          0.7070063694267515,
          0.7070063694267515,
          0.7070063694267515,
          0.7070063694267515,
          0.7070063694267515,
          0.7070063694267515,
          0.7070063694267515,
          0.7133757961783439,
          0.7133757961783439,
          0.7133757961783439,
          0.7133757961783439,
          0.7133757961783439,
          0.7133757961783439,
          0.7133757961783439,
          0.7133757961783439,
          0.7133757961783439,
          0.7133757961783439,
          0.7133757961783439,
          0.7133757961783439,
          0.7133757961783439,
          0.7133757961783439,
          0.7197452229299363,
          0.7197452229299363,
          0.7197452229299363,
          0.7197452229299363,
          0.7197452229299363,
          0.7197452229299363,
          0.7197452229299363,
          0.7197452229299363,
          0.7197452229299363,
          0.7197452229299363,
          0.7197452229299363,
          0.7261146496815286,
          0.7261146496815286,
          0.7261146496815286,
          0.7261146496815286,
          0.732484076433121,
          0.732484076433121,
          0.7388535031847133,
          0.7388535031847133,
          0.7388535031847133,
          0.7388535031847133,
          0.7388535031847133,
          0.7388535031847133,
          0.7388535031847133,
          0.7388535031847133,
          0.7388535031847133,
          0.7388535031847133,
          0.7452229299363057,
          0.7515923566878981,
          0.7515923566878981,
          0.7515923566878981,
          0.7579617834394905,
          0.7579617834394905,
          0.7579617834394905,
          0.7579617834394905,
          0.7579617834394905,
          0.7579617834394905,
          0.7579617834394905,
          0.7643312101910829,
          0.7643312101910829,
          0.7643312101910829,
          0.7643312101910829,
          0.7707006369426752,
          0.7707006369426752,
          0.7707006369426752,
          0.7770700636942676,
          0.7770700636942676,
          0.7834394904458599,
          0.7834394904458599,
          0.7834394904458599,
          0.7898089171974523,
          0.7898089171974523,
          0.7961783439490446,
          0.7961783439490446,
          0.7961783439490446,
          0.7961783439490446,
          0.7961783439490446,
          0.802547770700637,
          0.802547770700637,
          0.802547770700637,
          0.802547770700637,
          0.802547770700637,
          0.802547770700637,
          0.802547770700637,
          0.802547770700637,
          0.802547770700637,
          0.802547770700637,
          0.802547770700637,
          0.8089171974522293,
          0.8089171974522293,
          0.8089171974522293,
          0.8089171974522293,
          0.8089171974522293,
          0.8089171974522293,
          0.8089171974522293,
          0.8089171974522293,
          0.8089171974522293,
          0.8089171974522293,
          0.8152866242038217,
          0.8152866242038217,
          0.8152866242038217,
          0.821656050955414,
          0.8280254777070064,
          0.8280254777070064,
          0.8280254777070064,
          0.8280254777070064,
          0.8280254777070064,
          0.8280254777070064,
          0.8280254777070064,
          0.8343949044585988,
          0.8343949044585988,
          0.8343949044585988,
          0.8343949044585988,
          0.8343949044585988,
          0.8343949044585988,
          0.8343949044585988,
          0.8343949044585988,
          0.8343949044585988,
          0.8343949044585988,
          0.8343949044585988,
          0.8343949044585988,
          0.8407643312101911,
          0.8407643312101911,
          0.8471337579617835,
          0.8471337579617835,
          0.8535031847133758,
          0.8535031847133758,
          0.8535031847133758,
          0.8535031847133758,
          0.8535031847133758,
          0.8535031847133758,
          0.8535031847133758,
          0.8535031847133758,
          0.8535031847133758,
          0.8535031847133758,
          0.8535031847133758,
          0.8598726114649682,
          0.8662420382165605,
          0.8662420382165605,
          0.8662420382165605,
          0.8662420382165605,
          0.8726114649681529,
          0.8789808917197452,
          0.8853503184713376,
          0.8853503184713376,
          0.8853503184713376,
          0.89171974522293,
          0.8980891719745223,
          0.8980891719745223,
          0.9044585987261147,
          0.910828025477707,
          0.9171974522292994,
          0.9235668789808917,
          0.9299363057324841,
          0.9363057324840764,
          0.9426751592356688,
          0.9490445859872612,
          0.9554140127388535,
          0.9617834394904459,
          0.9681528662420382,
          1
         ],
         "yaxis": "y"
        }
       ],
       "layout": {
        "legend": {
         "tracegroupgap": 0
        },
        "template": {
         "data": {
          "bar": [
           {
            "error_x": {
             "color": "#2a3f5f"
            },
            "error_y": {
             "color": "#2a3f5f"
            },
            "marker": {
             "line": {
              "color": "#E5ECF6",
              "width": 0.5
             },
             "pattern": {
              "fillmode": "overlay",
              "size": 10,
              "solidity": 0.2
             }
            },
            "type": "bar"
           }
          ],
          "barpolar": [
           {
            "marker": {
             "line": {
              "color": "#E5ECF6",
              "width": 0.5
             },
             "pattern": {
              "fillmode": "overlay",
              "size": 10,
              "solidity": 0.2
             }
            },
            "type": "barpolar"
           }
          ],
          "carpet": [
           {
            "aaxis": {
             "endlinecolor": "#2a3f5f",
             "gridcolor": "white",
             "linecolor": "white",
             "minorgridcolor": "white",
             "startlinecolor": "#2a3f5f"
            },
            "baxis": {
             "endlinecolor": "#2a3f5f",
             "gridcolor": "white",
             "linecolor": "white",
             "minorgridcolor": "white",
             "startlinecolor": "#2a3f5f"
            },
            "type": "carpet"
           }
          ],
          "choropleth": [
           {
            "colorbar": {
             "outlinewidth": 0,
             "ticks": ""
            },
            "type": "choropleth"
           }
          ],
          "contour": [
           {
            "colorbar": {
             "outlinewidth": 0,
             "ticks": ""
            },
            "colorscale": [
             [
              0,
              "#0d0887"
             ],
             [
              0.1111111111111111,
              "#46039f"
             ],
             [
              0.2222222222222222,
              "#7201a8"
             ],
             [
              0.3333333333333333,
              "#9c179e"
             ],
             [
              0.4444444444444444,
              "#bd3786"
             ],
             [
              0.5555555555555556,
              "#d8576b"
             ],
             [
              0.6666666666666666,
              "#ed7953"
             ],
             [
              0.7777777777777778,
              "#fb9f3a"
             ],
             [
              0.8888888888888888,
              "#fdca26"
             ],
             [
              1,
              "#f0f921"
             ]
            ],
            "type": "contour"
           }
          ],
          "contourcarpet": [
           {
            "colorbar": {
             "outlinewidth": 0,
             "ticks": ""
            },
            "type": "contourcarpet"
           }
          ],
          "heatmap": [
           {
            "colorbar": {
             "outlinewidth": 0,
             "ticks": ""
            },
            "colorscale": [
             [
              0,
              "#0d0887"
             ],
             [
              0.1111111111111111,
              "#46039f"
             ],
             [
              0.2222222222222222,
              "#7201a8"
             ],
             [
              0.3333333333333333,
              "#9c179e"
             ],
             [
              0.4444444444444444,
              "#bd3786"
             ],
             [
              0.5555555555555556,
              "#d8576b"
             ],
             [
              0.6666666666666666,
              "#ed7953"
             ],
             [
              0.7777777777777778,
              "#fb9f3a"
             ],
             [
              0.8888888888888888,
              "#fdca26"
             ],
             [
              1,
              "#f0f921"
             ]
            ],
            "type": "heatmap"
           }
          ],
          "heatmapgl": [
           {
            "colorbar": {
             "outlinewidth": 0,
             "ticks": ""
            },
            "colorscale": [
             [
              0,
              "#0d0887"
             ],
             [
              0.1111111111111111,
              "#46039f"
             ],
             [
              0.2222222222222222,
              "#7201a8"
             ],
             [
              0.3333333333333333,
              "#9c179e"
             ],
             [
              0.4444444444444444,
              "#bd3786"
             ],
             [
              0.5555555555555556,
              "#d8576b"
             ],
             [
              0.6666666666666666,
              "#ed7953"
             ],
             [
              0.7777777777777778,
              "#fb9f3a"
             ],
             [
              0.8888888888888888,
              "#fdca26"
             ],
             [
              1,
              "#f0f921"
             ]
            ],
            "type": "heatmapgl"
           }
          ],
          "histogram": [
           {
            "marker": {
             "pattern": {
              "fillmode": "overlay",
              "size": 10,
              "solidity": 0.2
             }
            },
            "type": "histogram"
           }
          ],
          "histogram2d": [
           {
            "colorbar": {
             "outlinewidth": 0,
             "ticks": ""
            },
            "colorscale": [
             [
              0,
              "#0d0887"
             ],
             [
              0.1111111111111111,
              "#46039f"
             ],
             [
              0.2222222222222222,
              "#7201a8"
             ],
             [
              0.3333333333333333,
              "#9c179e"
             ],
             [
              0.4444444444444444,
              "#bd3786"
             ],
             [
              0.5555555555555556,
              "#d8576b"
             ],
             [
              0.6666666666666666,
              "#ed7953"
             ],
             [
              0.7777777777777778,
              "#fb9f3a"
             ],
             [
              0.8888888888888888,
              "#fdca26"
             ],
             [
              1,
              "#f0f921"
             ]
            ],
            "type": "histogram2d"
           }
          ],
          "histogram2dcontour": [
           {
            "colorbar": {
             "outlinewidth": 0,
             "ticks": ""
            },
            "colorscale": [
             [
              0,
              "#0d0887"
             ],
             [
              0.1111111111111111,
              "#46039f"
             ],
             [
              0.2222222222222222,
              "#7201a8"
             ],
             [
              0.3333333333333333,
              "#9c179e"
             ],
             [
              0.4444444444444444,
              "#bd3786"
             ],
             [
              0.5555555555555556,
              "#d8576b"
             ],
             [
              0.6666666666666666,
              "#ed7953"
             ],
             [
              0.7777777777777778,
              "#fb9f3a"
             ],
             [
              0.8888888888888888,
              "#fdca26"
             ],
             [
              1,
              "#f0f921"
             ]
            ],
            "type": "histogram2dcontour"
           }
          ],
          "mesh3d": [
           {
            "colorbar": {
             "outlinewidth": 0,
             "ticks": ""
            },
            "type": "mesh3d"
           }
          ],
          "parcoords": [
           {
            "line": {
             "colorbar": {
              "outlinewidth": 0,
              "ticks": ""
             }
            },
            "type": "parcoords"
           }
          ],
          "pie": [
           {
            "automargin": true,
            "type": "pie"
           }
          ],
          "scatter": [
           {
            "fillpattern": {
             "fillmode": "overlay",
             "size": 10,
             "solidity": 0.2
            },
            "type": "scatter"
           }
          ],
          "scatter3d": [
           {
            "line": {
             "colorbar": {
              "outlinewidth": 0,
              "ticks": ""
             }
            },
            "marker": {
             "colorbar": {
              "outlinewidth": 0,
              "ticks": ""
             }
            },
            "type": "scatter3d"
           }
          ],
          "scattercarpet": [
           {
            "marker": {
             "colorbar": {
              "outlinewidth": 0,
              "ticks": ""
             }
            },
            "type": "scattercarpet"
           }
          ],
          "scattergeo": [
           {
            "marker": {
             "colorbar": {
              "outlinewidth": 0,
              "ticks": ""
             }
            },
            "type": "scattergeo"
           }
          ],
          "scattergl": [
           {
            "marker": {
             "colorbar": {
              "outlinewidth": 0,
              "ticks": ""
             }
            },
            "type": "scattergl"
           }
          ],
          "scattermapbox": [
           {
            "marker": {
             "colorbar": {
              "outlinewidth": 0,
              "ticks": ""
             }
            },
            "type": "scattermapbox"
           }
          ],
          "scatterpolar": [
           {
            "marker": {
             "colorbar": {
              "outlinewidth": 0,
              "ticks": ""
             }
            },
            "type": "scatterpolar"
           }
          ],
          "scatterpolargl": [
           {
            "marker": {
             "colorbar": {
              "outlinewidth": 0,
              "ticks": ""
             }
            },
            "type": "scatterpolargl"
           }
          ],
          "scatterternary": [
           {
            "marker": {
             "colorbar": {
              "outlinewidth": 0,
              "ticks": ""
             }
            },
            "type": "scatterternary"
           }
          ],
          "surface": [
           {
            "colorbar": {
             "outlinewidth": 0,
             "ticks": ""
            },
            "colorscale": [
             [
              0,
              "#0d0887"
             ],
             [
              0.1111111111111111,
              "#46039f"
             ],
             [
              0.2222222222222222,
              "#7201a8"
             ],
             [
              0.3333333333333333,
              "#9c179e"
             ],
             [
              0.4444444444444444,
              "#bd3786"
             ],
             [
              0.5555555555555556,
              "#d8576b"
             ],
             [
              0.6666666666666666,
              "#ed7953"
             ],
             [
              0.7777777777777778,
              "#fb9f3a"
             ],
             [
              0.8888888888888888,
              "#fdca26"
             ],
             [
              1,
              "#f0f921"
             ]
            ],
            "type": "surface"
           }
          ],
          "table": [
           {
            "cells": {
             "fill": {
              "color": "#EBF0F8"
             },
             "line": {
              "color": "white"
             }
            },
            "header": {
             "fill": {
              "color": "#C8D4E3"
             },
             "line": {
              "color": "white"
             }
            },
            "type": "table"
           }
          ]
         },
         "layout": {
          "annotationdefaults": {
           "arrowcolor": "#2a3f5f",
           "arrowhead": 0,
           "arrowwidth": 1
          },
          "autotypenumbers": "strict",
          "coloraxis": {
           "colorbar": {
            "outlinewidth": 0,
            "ticks": ""
           }
          },
          "colorscale": {
           "diverging": [
            [
             0,
             "#8e0152"
            ],
            [
             0.1,
             "#c51b7d"
            ],
            [
             0.2,
             "#de77ae"
            ],
            [
             0.3,
             "#f1b6da"
            ],
            [
             0.4,
             "#fde0ef"
            ],
            [
             0.5,
             "#f7f7f7"
            ],
            [
             0.6,
             "#e6f5d0"
            ],
            [
             0.7,
             "#b8e186"
            ],
            [
             0.8,
             "#7fbc41"
            ],
            [
             0.9,
             "#4d9221"
            ],
            [
             1,
             "#276419"
            ]
           ],
           "sequential": [
            [
             0,
             "#0d0887"
            ],
            [
             0.1111111111111111,
             "#46039f"
            ],
            [
             0.2222222222222222,
             "#7201a8"
            ],
            [
             0.3333333333333333,
             "#9c179e"
            ],
            [
             0.4444444444444444,
             "#bd3786"
            ],
            [
             0.5555555555555556,
             "#d8576b"
            ],
            [
             0.6666666666666666,
             "#ed7953"
            ],
            [
             0.7777777777777778,
             "#fb9f3a"
            ],
            [
             0.8888888888888888,
             "#fdca26"
            ],
            [
             1,
             "#f0f921"
            ]
           ],
           "sequentialminus": [
            [
             0,
             "#0d0887"
            ],
            [
             0.1111111111111111,
             "#46039f"
            ],
            [
             0.2222222222222222,
             "#7201a8"
            ],
            [
             0.3333333333333333,
             "#9c179e"
            ],
            [
             0.4444444444444444,
             "#bd3786"
            ],
            [
             0.5555555555555556,
             "#d8576b"
            ],
            [
             0.6666666666666666,
             "#ed7953"
            ],
            [
             0.7777777777777778,
             "#fb9f3a"
            ],
            [
             0.8888888888888888,
             "#fdca26"
            ],
            [
             1,
             "#f0f921"
            ]
           ]
          },
          "colorway": [
           "#636efa",
           "#EF553B",
           "#00cc96",
           "#ab63fa",
           "#FFA15A",
           "#19d3f3",
           "#FF6692",
           "#B6E880",
           "#FF97FF",
           "#FECB52"
          ],
          "font": {
           "color": "#2a3f5f"
          },
          "geo": {
           "bgcolor": "white",
           "lakecolor": "white",
           "landcolor": "#E5ECF6",
           "showlakes": true,
           "showland": true,
           "subunitcolor": "white"
          },
          "hoverlabel": {
           "align": "left"
          },
          "hovermode": "closest",
          "mapbox": {
           "style": "light"
          },
          "paper_bgcolor": "white",
          "plot_bgcolor": "#E5ECF6",
          "polar": {
           "angularaxis": {
            "gridcolor": "white",
            "linecolor": "white",
            "ticks": ""
           },
           "bgcolor": "#E5ECF6",
           "radialaxis": {
            "gridcolor": "white",
            "linecolor": "white",
            "ticks": ""
           }
          },
          "scene": {
           "xaxis": {
            "backgroundcolor": "#E5ECF6",
            "gridcolor": "white",
            "gridwidth": 2,
            "linecolor": "white",
            "showbackground": true,
            "ticks": "",
            "zerolinecolor": "white"
           },
           "yaxis": {
            "backgroundcolor": "#E5ECF6",
            "gridcolor": "white",
            "gridwidth": 2,
            "linecolor": "white",
            "showbackground": true,
            "ticks": "",
            "zerolinecolor": "white"
           },
           "zaxis": {
            "backgroundcolor": "#E5ECF6",
            "gridcolor": "white",
            "gridwidth": 2,
            "linecolor": "white",
            "showbackground": true,
            "ticks": "",
            "zerolinecolor": "white"
           }
          },
          "shapedefaults": {
           "line": {
            "color": "#2a3f5f"
           }
          },
          "ternary": {
           "aaxis": {
            "gridcolor": "white",
            "linecolor": "white",
            "ticks": ""
           },
           "baxis": {
            "gridcolor": "white",
            "linecolor": "white",
            "ticks": ""
           },
           "bgcolor": "#E5ECF6",
           "caxis": {
            "gridcolor": "white",
            "linecolor": "white",
            "ticks": ""
           }
          },
          "title": {
           "x": 0.05
          },
          "xaxis": {
           "automargin": true,
           "gridcolor": "white",
           "linecolor": "white",
           "ticks": "",
           "title": {
            "standoff": 15
           },
           "zerolinecolor": "white",
           "zerolinewidth": 2
          },
          "yaxis": {
           "automargin": true,
           "gridcolor": "white",
           "linecolor": "white",
           "ticks": "",
           "title": {
            "standoff": 15
           },
           "zerolinecolor": "white",
           "zerolinewidth": 2
          }
         }
        },
        "title": {
         "text": "ROC Curve - Train"
        },
        "xaxis": {
         "anchor": "y",
         "domain": [
          0,
          1
         ],
         "title": {
          "text": "False Positive Rate (FPR)"
         }
        },
        "yaxis": {
         "anchor": "x",
         "domain": [
          0,
          1
         ],
         "title": {
          "text": "True Positive Rate (TPR)"
         }
        }
       }
      }
     },
     "metadata": {},
     "output_type": "display_data"
    },
    {
     "name": "stdout",
     "output_type": "stream",
     "text": [
      "TEST\n",
      "Test Accuracy: 0.7272727272727273\n",
      "Test F1: 0.45070422535211263\n",
      "Test AUROC: 0.6386363636363637\n",
      "\n",
      "Sample predictions\n",
      "   y_test  y_class     y_predict\n",
      "0       0        0  4.886255e-50\n",
      "1       0        0  7.208140e-62\n",
      "2       0        0  4.904707e-82\n",
      "3       0        0  3.892975e-60\n",
      "4       0        0  6.339042e-69\n"
     ]
    },
    {
     "data": {
      "application/vnd.plotly.v1+json": {
       "config": {
        "plotlyServerURL": "https://plot.ly"
       },
       "data": [
        {
         "hovertemplate": "False Positive Rate (FPR)=%{x}<br>True Positive Rate (TPR)=%{y}<extra></extra>",
         "legendgroup": "",
         "line": {
          "color": "#636efa",
          "dash": "solid"
         },
         "marker": {
          "symbol": "circle"
         },
         "mode": "lines+markers",
         "name": "",
         "orientation": "v",
         "showlegend": false,
         "type": "scatter",
         "x": [
          0,
          0,
          0,
          0,
          0,
          0,
          0.011363636363636354,
          0.011363636363636354,
          0.011363636363636354,
          0.011363636363636354,
          0.011363636363636354,
          0.011363636363636354,
          0.011363636363636354,
          0.011363636363636354,
          0.022727272727272707,
          0.03409090909090906,
          0.045454545454545414,
          0.045454545454545414,
          0.045454545454545414,
          0.05681818181818177,
          0.06818181818181823,
          0.07954545454545459,
          0.09090909090909094,
          0.09090909090909094,
          0.10227272727272729,
          0.11363636363636365,
          0.125,
          0.13636363636363635,
          0.13636363636363635,
          0.1477272727272727,
          0.15909090909090906,
          0.17045454545454541,
          0.18181818181818177,
          0.18181818181818177,
          0.19318181818181823,
          0.20454545454545459,
          0.21590909090909094,
          0.2272727272727273,
          0.23863636363636365,
          0.25,
          0.26136363636363635,
          0.2727272727272727,
          0.28409090909090906,
          0.2954545454545454,
          0.30681818181818177,
          0.31818181818181823,
          0.3295454545454546,
          0.34090909090909094,
          0.3522727272727273,
          0.3522727272727273,
          0.3522727272727273,
          0.36363636363636365,
          0.375,
          0.38636363636363635,
          0.3977272727272727,
          0.3977272727272727,
          0.3977272727272727,
          0.40909090909090906,
          0.4204545454545454,
          0.43181818181818177,
          0.44318181818181823,
          0.44318181818181823,
          0.4545454545454546,
          0.46590909090909094,
          0.4772727272727273,
          0.48863636363636365,
          0.5,
          0.5113636363636364,
          0.5113636363636364,
          0.5113636363636364,
          0.5113636363636364,
          0.5227272727272727,
          0.5340909090909092,
          0.5454545454545454,
          0.5568181818181819,
          0.5681818181818181,
          0.5795454545454546,
          0.5909090909090908,
          0.6022727272727273,
          0.6136363636363636,
          0.625,
          0.6363636363636364,
          0.6477272727272727,
          0.6590909090909092,
          0.6704545454545454,
          0.6818181818181819,
          0.6931818181818181,
          0.7045454545454546,
          0.7045454545454546,
          0.7159090909090908,
          0.7272727272727273,
          0.7386363636363636,
          0.75,
          0.75,
          0.7613636363636364,
          0.7727272727272727,
          0.7840909090909091,
          0.7954545454545454,
          0.8068181818181819,
          0.8181818181818181,
          0.8295454545454546,
          0.8409090909090909,
          0.8409090909090909,
          0.8522727272727273,
          0.8636363636363636,
          0.8636363636363636,
          0.875,
          0.8863636363636364,
          0.8977272727272727,
          0.9090909090909091,
          0.9090909090909091,
          0.9204545454545454,
          0.9204545454545454,
          0.9318181818181819,
          0.9431818181818182,
          0.9431818181818182,
          0.9545454545454546,
          0.9659090909090909,
          0.9659090909090909,
          0.9659090909090909,
          0.9659090909090909,
          0.9772727272727273,
          0.9886363636363636,
          0.9886363636363636,
          1,
          1,
          1,
          1,
          1,
          1,
          1
         ],
         "xaxis": "x",
         "y": [
          0.23636363636363636,
          0.2545454545454545,
          0.2727272727272727,
          0.2909090909090909,
          0.3090909090909091,
          0.32727272727272727,
          0.32727272727272727,
          0.34545454545454546,
          0.36363636363636365,
          0.38181818181818183,
          0.4,
          0.41818181818181815,
          0.43636363636363634,
          0.45454545454545453,
          0.45454545454545453,
          0.45454545454545453,
          0.45454545454545453,
          0.4727272727272727,
          0.4909090909090909,
          0.4909090909090909,
          0.4909090909090909,
          0.4909090909090909,
          0.4909090909090909,
          0.509090909090909,
          0.509090909090909,
          0.509090909090909,
          0.509090909090909,
          0.509090909090909,
          0.5272727272727272,
          0.5272727272727272,
          0.5272727272727272,
          0.5272727272727272,
          0.5272727272727272,
          0.5454545454545454,
          0.5454545454545454,
          0.5454545454545454,
          0.5454545454545454,
          0.5454545454545454,
          0.5454545454545454,
          0.5454545454545454,
          0.5454545454545454,
          0.5454545454545454,
          0.5454545454545454,
          0.5454545454545454,
          0.5454545454545454,
          0.5454545454545454,
          0.5454545454545454,
          0.5454545454545454,
          0.5454545454545454,
          0.5636363636363636,
          0.5818181818181818,
          0.5818181818181818,
          0.5818181818181818,
          0.5818181818181818,
          0.5818181818181818,
          0.6,
          0.6181818181818182,
          0.6181818181818182,
          0.6181818181818182,
          0.6181818181818182,
          0.6181818181818182,
          0.6363636363636364,
          0.6363636363636364,
          0.6363636363636364,
          0.6363636363636364,
          0.6363636363636364,
          0.6363636363636364,
          0.6363636363636364,
          0.6545454545454545,
          0.6727272727272727,
          0.6909090909090909,
          0.6909090909090909,
          0.6909090909090909,
          0.6909090909090909,
          0.6909090909090909,
          0.6909090909090909,
          0.6909090909090909,
          0.6909090909090909,
          0.6909090909090909,
          0.6909090909090909,
          0.6909090909090909,
          0.6909090909090909,
          0.6909090909090909,
          0.6909090909090909,
          0.6909090909090909,
          0.6909090909090909,
          0.6909090909090909,
          0.6909090909090909,
          0.7090909090909091,
          0.7090909090909091,
          0.7090909090909091,
          0.7090909090909091,
          0.7090909090909091,
          0.7272727272727273,
          0.7272727272727273,
          0.7272727272727273,
          0.7272727272727273,
          0.7272727272727273,
          0.7272727272727273,
          0.7272727272727273,
          0.7272727272727273,
          0.7272727272727273,
          0.7454545454545455,
          0.7454545454545455,
          0.7454545454545455,
          0.7636363636363637,
          0.7636363636363637,
          0.7636363636363637,
          0.7636363636363637,
          0.7636363636363637,
          0.7818181818181819,
          0.7818181818181819,
          0.8,
          0.8,
          0.8,
          0.8181818181818182,
          0.8181818181818182,
          0.8181818181818182,
          0.8363636363636363,
          0.8545454545454545,
          0.8727272727272727,
          0.8727272727272727,
          0.8727272727272727,
          0.8909090909090909,
          0.8909090909090909,
          0.9090909090909091,
          0.9272727272727272,
          0.9454545454545454,
          0.9636363636363636,
          0.9818181818181818,
          1
         ],
         "yaxis": "y"
        }
       ],
       "layout": {
        "legend": {
         "tracegroupgap": 0
        },
        "template": {
         "data": {
          "bar": [
           {
            "error_x": {
             "color": "#2a3f5f"
            },
            "error_y": {
             "color": "#2a3f5f"
            },
            "marker": {
             "line": {
              "color": "#E5ECF6",
              "width": 0.5
             },
             "pattern": {
              "fillmode": "overlay",
              "size": 10,
              "solidity": 0.2
             }
            },
            "type": "bar"
           }
          ],
          "barpolar": [
           {
            "marker": {
             "line": {
              "color": "#E5ECF6",
              "width": 0.5
             },
             "pattern": {
              "fillmode": "overlay",
              "size": 10,
              "solidity": 0.2
             }
            },
            "type": "barpolar"
           }
          ],
          "carpet": [
           {
            "aaxis": {
             "endlinecolor": "#2a3f5f",
             "gridcolor": "white",
             "linecolor": "white",
             "minorgridcolor": "white",
             "startlinecolor": "#2a3f5f"
            },
            "baxis": {
             "endlinecolor": "#2a3f5f",
             "gridcolor": "white",
             "linecolor": "white",
             "minorgridcolor": "white",
             "startlinecolor": "#2a3f5f"
            },
            "type": "carpet"
           }
          ],
          "choropleth": [
           {
            "colorbar": {
             "outlinewidth": 0,
             "ticks": ""
            },
            "type": "choropleth"
           }
          ],
          "contour": [
           {
            "colorbar": {
             "outlinewidth": 0,
             "ticks": ""
            },
            "colorscale": [
             [
              0,
              "#0d0887"
             ],
             [
              0.1111111111111111,
              "#46039f"
             ],
             [
              0.2222222222222222,
              "#7201a8"
             ],
             [
              0.3333333333333333,
              "#9c179e"
             ],
             [
              0.4444444444444444,
              "#bd3786"
             ],
             [
              0.5555555555555556,
              "#d8576b"
             ],
             [
              0.6666666666666666,
              "#ed7953"
             ],
             [
              0.7777777777777778,
              "#fb9f3a"
             ],
             [
              0.8888888888888888,
              "#fdca26"
             ],
             [
              1,
              "#f0f921"
             ]
            ],
            "type": "contour"
           }
          ],
          "contourcarpet": [
           {
            "colorbar": {
             "outlinewidth": 0,
             "ticks": ""
            },
            "type": "contourcarpet"
           }
          ],
          "heatmap": [
           {
            "colorbar": {
             "outlinewidth": 0,
             "ticks": ""
            },
            "colorscale": [
             [
              0,
              "#0d0887"
             ],
             [
              0.1111111111111111,
              "#46039f"
             ],
             [
              0.2222222222222222,
              "#7201a8"
             ],
             [
              0.3333333333333333,
              "#9c179e"
             ],
             [
              0.4444444444444444,
              "#bd3786"
             ],
             [
              0.5555555555555556,
              "#d8576b"
             ],
             [
              0.6666666666666666,
              "#ed7953"
             ],
             [
              0.7777777777777778,
              "#fb9f3a"
             ],
             [
              0.8888888888888888,
              "#fdca26"
             ],
             [
              1,
              "#f0f921"
             ]
            ],
            "type": "heatmap"
           }
          ],
          "heatmapgl": [
           {
            "colorbar": {
             "outlinewidth": 0,
             "ticks": ""
            },
            "colorscale": [
             [
              0,
              "#0d0887"
             ],
             [
              0.1111111111111111,
              "#46039f"
             ],
             [
              0.2222222222222222,
              "#7201a8"
             ],
             [
              0.3333333333333333,
              "#9c179e"
             ],
             [
              0.4444444444444444,
              "#bd3786"
             ],
             [
              0.5555555555555556,
              "#d8576b"
             ],
             [
              0.6666666666666666,
              "#ed7953"
             ],
             [
              0.7777777777777778,
              "#fb9f3a"
             ],
             [
              0.8888888888888888,
              "#fdca26"
             ],
             [
              1,
              "#f0f921"
             ]
            ],
            "type": "heatmapgl"
           }
          ],
          "histogram": [
           {
            "marker": {
             "pattern": {
              "fillmode": "overlay",
              "size": 10,
              "solidity": 0.2
             }
            },
            "type": "histogram"
           }
          ],
          "histogram2d": [
           {
            "colorbar": {
             "outlinewidth": 0,
             "ticks": ""
            },
            "colorscale": [
             [
              0,
              "#0d0887"
             ],
             [
              0.1111111111111111,
              "#46039f"
             ],
             [
              0.2222222222222222,
              "#7201a8"
             ],
             [
              0.3333333333333333,
              "#9c179e"
             ],
             [
              0.4444444444444444,
              "#bd3786"
             ],
             [
              0.5555555555555556,
              "#d8576b"
             ],
             [
              0.6666666666666666,
              "#ed7953"
             ],
             [
              0.7777777777777778,
              "#fb9f3a"
             ],
             [
              0.8888888888888888,
              "#fdca26"
             ],
             [
              1,
              "#f0f921"
             ]
            ],
            "type": "histogram2d"
           }
          ],
          "histogram2dcontour": [
           {
            "colorbar": {
             "outlinewidth": 0,
             "ticks": ""
            },
            "colorscale": [
             [
              0,
              "#0d0887"
             ],
             [
              0.1111111111111111,
              "#46039f"
             ],
             [
              0.2222222222222222,
              "#7201a8"
             ],
             [
              0.3333333333333333,
              "#9c179e"
             ],
             [
              0.4444444444444444,
              "#bd3786"
             ],
             [
              0.5555555555555556,
              "#d8576b"
             ],
             [
              0.6666666666666666,
              "#ed7953"
             ],
             [
              0.7777777777777778,
              "#fb9f3a"
             ],
             [
              0.8888888888888888,
              "#fdca26"
             ],
             [
              1,
              "#f0f921"
             ]
            ],
            "type": "histogram2dcontour"
           }
          ],
          "mesh3d": [
           {
            "colorbar": {
             "outlinewidth": 0,
             "ticks": ""
            },
            "type": "mesh3d"
           }
          ],
          "parcoords": [
           {
            "line": {
             "colorbar": {
              "outlinewidth": 0,
              "ticks": ""
             }
            },
            "type": "parcoords"
           }
          ],
          "pie": [
           {
            "automargin": true,
            "type": "pie"
           }
          ],
          "scatter": [
           {
            "fillpattern": {
             "fillmode": "overlay",
             "size": 10,
             "solidity": 0.2
            },
            "type": "scatter"
           }
          ],
          "scatter3d": [
           {
            "line": {
             "colorbar": {
              "outlinewidth": 0,
              "ticks": ""
             }
            },
            "marker": {
             "colorbar": {
              "outlinewidth": 0,
              "ticks": ""
             }
            },
            "type": "scatter3d"
           }
          ],
          "scattercarpet": [
           {
            "marker": {
             "colorbar": {
              "outlinewidth": 0,
              "ticks": ""
             }
            },
            "type": "scattercarpet"
           }
          ],
          "scattergeo": [
           {
            "marker": {
             "colorbar": {
              "outlinewidth": 0,
              "ticks": ""
             }
            },
            "type": "scattergeo"
           }
          ],
          "scattergl": [
           {
            "marker": {
             "colorbar": {
              "outlinewidth": 0,
              "ticks": ""
             }
            },
            "type": "scattergl"
           }
          ],
          "scattermapbox": [
           {
            "marker": {
             "colorbar": {
              "outlinewidth": 0,
              "ticks": ""
             }
            },
            "type": "scattermapbox"
           }
          ],
          "scatterpolar": [
           {
            "marker": {
             "colorbar": {
              "outlinewidth": 0,
              "ticks": ""
             }
            },
            "type": "scatterpolar"
           }
          ],
          "scatterpolargl": [
           {
            "marker": {
             "colorbar": {
              "outlinewidth": 0,
              "ticks": ""
             }
            },
            "type": "scatterpolargl"
           }
          ],
          "scatterternary": [
           {
            "marker": {
             "colorbar": {
              "outlinewidth": 0,
              "ticks": ""
             }
            },
            "type": "scatterternary"
           }
          ],
          "surface": [
           {
            "colorbar": {
             "outlinewidth": 0,
             "ticks": ""
            },
            "colorscale": [
             [
              0,
              "#0d0887"
             ],
             [
              0.1111111111111111,
              "#46039f"
             ],
             [
              0.2222222222222222,
              "#7201a8"
             ],
             [
              0.3333333333333333,
              "#9c179e"
             ],
             [
              0.4444444444444444,
              "#bd3786"
             ],
             [
              0.5555555555555556,
              "#d8576b"
             ],
             [
              0.6666666666666666,
              "#ed7953"
             ],
             [
              0.7777777777777778,
              "#fb9f3a"
             ],
             [
              0.8888888888888888,
              "#fdca26"
             ],
             [
              1,
              "#f0f921"
             ]
            ],
            "type": "surface"
           }
          ],
          "table": [
           {
            "cells": {
             "fill": {
              "color": "#EBF0F8"
             },
             "line": {
              "color": "white"
             }
            },
            "header": {
             "fill": {
              "color": "#C8D4E3"
             },
             "line": {
              "color": "white"
             }
            },
            "type": "table"
           }
          ]
         },
         "layout": {
          "annotationdefaults": {
           "arrowcolor": "#2a3f5f",
           "arrowhead": 0,
           "arrowwidth": 1
          },
          "autotypenumbers": "strict",
          "coloraxis": {
           "colorbar": {
            "outlinewidth": 0,
            "ticks": ""
           }
          },
          "colorscale": {
           "diverging": [
            [
             0,
             "#8e0152"
            ],
            [
             0.1,
             "#c51b7d"
            ],
            [
             0.2,
             "#de77ae"
            ],
            [
             0.3,
             "#f1b6da"
            ],
            [
             0.4,
             "#fde0ef"
            ],
            [
             0.5,
             "#f7f7f7"
            ],
            [
             0.6,
             "#e6f5d0"
            ],
            [
             0.7,
             "#b8e186"
            ],
            [
             0.8,
             "#7fbc41"
            ],
            [
             0.9,
             "#4d9221"
            ],
            [
             1,
             "#276419"
            ]
           ],
           "sequential": [
            [
             0,
             "#0d0887"
            ],
            [
             0.1111111111111111,
             "#46039f"
            ],
            [
             0.2222222222222222,
             "#7201a8"
            ],
            [
             0.3333333333333333,
             "#9c179e"
            ],
            [
             0.4444444444444444,
             "#bd3786"
            ],
            [
             0.5555555555555556,
             "#d8576b"
            ],
            [
             0.6666666666666666,
             "#ed7953"
            ],
            [
             0.7777777777777778,
             "#fb9f3a"
            ],
            [
             0.8888888888888888,
             "#fdca26"
            ],
            [
             1,
             "#f0f921"
            ]
           ],
           "sequentialminus": [
            [
             0,
             "#0d0887"
            ],
            [
             0.1111111111111111,
             "#46039f"
            ],
            [
             0.2222222222222222,
             "#7201a8"
            ],
            [
             0.3333333333333333,
             "#9c179e"
            ],
            [
             0.4444444444444444,
             "#bd3786"
            ],
            [
             0.5555555555555556,
             "#d8576b"
            ],
            [
             0.6666666666666666,
             "#ed7953"
            ],
            [
             0.7777777777777778,
             "#fb9f3a"
            ],
            [
             0.8888888888888888,
             "#fdca26"
            ],
            [
             1,
             "#f0f921"
            ]
           ]
          },
          "colorway": [
           "#636efa",
           "#EF553B",
           "#00cc96",
           "#ab63fa",
           "#FFA15A",
           "#19d3f3",
           "#FF6692",
           "#B6E880",
           "#FF97FF",
           "#FECB52"
          ],
          "font": {
           "color": "#2a3f5f"
          },
          "geo": {
           "bgcolor": "white",
           "lakecolor": "white",
           "landcolor": "#E5ECF6",
           "showlakes": true,
           "showland": true,
           "subunitcolor": "white"
          },
          "hoverlabel": {
           "align": "left"
          },
          "hovermode": "closest",
          "mapbox": {
           "style": "light"
          },
          "paper_bgcolor": "white",
          "plot_bgcolor": "#E5ECF6",
          "polar": {
           "angularaxis": {
            "gridcolor": "white",
            "linecolor": "white",
            "ticks": ""
           },
           "bgcolor": "#E5ECF6",
           "radialaxis": {
            "gridcolor": "white",
            "linecolor": "white",
            "ticks": ""
           }
          },
          "scene": {
           "xaxis": {
            "backgroundcolor": "#E5ECF6",
            "gridcolor": "white",
            "gridwidth": 2,
            "linecolor": "white",
            "showbackground": true,
            "ticks": "",
            "zerolinecolor": "white"
           },
           "yaxis": {
            "backgroundcolor": "#E5ECF6",
            "gridcolor": "white",
            "gridwidth": 2,
            "linecolor": "white",
            "showbackground": true,
            "ticks": "",
            "zerolinecolor": "white"
           },
           "zaxis": {
            "backgroundcolor": "#E5ECF6",
            "gridcolor": "white",
            "gridwidth": 2,
            "linecolor": "white",
            "showbackground": true,
            "ticks": "",
            "zerolinecolor": "white"
           }
          },
          "shapedefaults": {
           "line": {
            "color": "#2a3f5f"
           }
          },
          "ternary": {
           "aaxis": {
            "gridcolor": "white",
            "linecolor": "white",
            "ticks": ""
           },
           "baxis": {
            "gridcolor": "white",
            "linecolor": "white",
            "ticks": ""
           },
           "bgcolor": "#E5ECF6",
           "caxis": {
            "gridcolor": "white",
            "linecolor": "white",
            "ticks": ""
           }
          },
          "title": {
           "x": 0.05
          },
          "xaxis": {
           "automargin": true,
           "gridcolor": "white",
           "linecolor": "white",
           "ticks": "",
           "title": {
            "standoff": 15
           },
           "zerolinecolor": "white",
           "zerolinewidth": 2
          },
          "yaxis": {
           "automargin": true,
           "gridcolor": "white",
           "linecolor": "white",
           "ticks": "",
           "title": {
            "standoff": 15
           },
           "zerolinecolor": "white",
           "zerolinewidth": 2
          }
         }
        },
        "title": {
         "text": "ROC Curve - Test"
        },
        "xaxis": {
         "anchor": "y",
         "domain": [
          0,
          1
         ],
         "title": {
          "text": "False Positive Rate (FPR)"
         }
        },
        "yaxis": {
         "anchor": "x",
         "domain": [
          0,
          1
         ],
         "title": {
          "text": "True Positive Rate (TPR)"
         }
        }
       }
      }
     },
     "metadata": {},
     "output_type": "display_data"
    }
   ],
   "source": [
    "show_results(X_train, y_train, X_test, y_test, weights, bias, 0.001, 100, False)"
   ]
  },
  {
   "cell_type": "markdown",
   "metadata": {},
   "source": [
    "<span style=\"font-size:36px;\">Use LogisticRegression with Normalize</span>"
   ]
  },
  {
   "cell_type": "code",
   "execution_count": 352,
   "metadata": {},
   "outputs": [
    {
     "name": "stdout",
     "output_type": "stream",
     "text": [
      "TRAIN\n",
      "Train Accuracy: 0.9553990610328639\n",
      "Train F1: 0.939297124600639\n",
      "Train AUROC: 0.9914521819430303\n",
      "\n",
      "Sample predictions\n",
      "   y_train  y_class  y_predict\n",
      "0        0        0   0.122148\n",
      "1        1        1   0.837923\n",
      "2        0        0   0.007097\n",
      "3        1        1   0.853440\n",
      "4        0        0   0.123485\n"
     ]
    },
    {
     "data": {
      "application/vnd.plotly.v1+json": {
       "config": {
        "plotlyServerURL": "https://plot.ly"
       },
       "data": [
        {
         "hovertemplate": "Epoch=%{x}<br>Cost=%{y}<extra></extra>",
         "legendgroup": "",
         "line": {
          "color": "#636efa",
          "dash": "solid"
         },
         "marker": {
          "symbol": "circle"
         },
         "mode": "lines",
         "name": "",
         "orientation": "v",
         "showlegend": false,
         "type": "scatter",
         "x": [
          0,
          1,
          2,
          3,
          4,
          5,
          6,
          7,
          8,
          9,
          10,
          11,
          12,
          13,
          14,
          15,
          16,
          17,
          18,
          19,
          20,
          21,
          22,
          23,
          24,
          25,
          26,
          27,
          28,
          29,
          30,
          31,
          32,
          33,
          34,
          35,
          36,
          37,
          38,
          39,
          40,
          41,
          42,
          43,
          44,
          45,
          46,
          47,
          48,
          49,
          50,
          51,
          52,
          53,
          54,
          55,
          56,
          57,
          58,
          59,
          60,
          61,
          62,
          63,
          64,
          65,
          66,
          67,
          68,
          69,
          70,
          71,
          72,
          73,
          74,
          75,
          76,
          77,
          78,
          79,
          80,
          81,
          82,
          83,
          84,
          85,
          86,
          87,
          88,
          89,
          90,
          91,
          92,
          93,
          94,
          95,
          96,
          97,
          98,
          99
         ],
         "xaxis": "x",
         "y": [
          0.8258079152718077,
          0.7080649242699847,
          0.6189593865776115,
          0.5499965779693106,
          0.4957873996820322,
          0.45261744893497896,
          0.4177858138756049,
          0.38929142139221085,
          0.3656503910715763,
          0.34576605008278705,
          0.3288275607338917,
          0.3142313963824254,
          0.3015230988276814,
          0.29035562278698185,
          0.2804600741897004,
          0.2716252064041808,
          0.26368294686255767,
          0.2564980489006222,
          0.2499605792009347,
          0.24398037632316644,
          0.23848289946540094,
          0.23340607364852284,
          0.22869786083356364,
          0.22431436830940096,
          0.22021836057121524,
          0.21637807823116398,
          0.21276629328631882,
          0.20935954818591315,
          0.2061375390892346,
          0.2030826131140094,
          0.2001793563148366,
          0.19741425431916984,
          0.19477541147234856,
          0.19225231734121845,
          0.18983565173633865,
          0.18751712120667047,
          0.1852893213625552,
          0.1831456204847355,
          0.181080060747834,
          0.17908727407796918,
          0.17716241021543647,
          0.1753010749948882,
          0.1734992772104512,
          0.17175338271982163,
          0.17006007467361117,
          0.1684163189451075,
          0.16681933398979232,
          0.16526656449026164,
          0.16375565824600166,
          0.1622844458530975,
          0.1608509227898004,
          0.15945323358269173,
          0.1580896577771669,
          0.15675859747687518,
          0.15545856625103832,
          0.15418817923738015,
          0.15294614429268277,
          0.15173125406350801,
          0.15054237886701727,
          0.14937846028660287,
          0.14823850539964134,
          0.14712158156543587,
          0.14602681171062862,
          0.14495337005727582,
          0.14390047824558272,
          0.1428674018091677,
          0.14185344696580124,
          0.14085795769096168,
          0.1398803130453695,
          0.13891992473098505,
          0.13797623485285096,
          0.13704871386669357,
          0.1361368586944128,
          0.1352401909915352,
          0.13435825555241268,
          0.13349061884045402,
          0.13263686763200283,
          0.13179660776364832,
          0.130969462973792,
          0.13015507383021502,
          0.12935309673620482,
          0.12856320300853064,
          0.12778507802119962,
          0.12701842040950767,
          0.12626294132941193,
          0.12551836376771447,
          0.12478442189896222,
          0.12406086048533646,
          0.12334743431614256,
          0.12264390768380783,
          0.12195005389356846,
          0.12126565480426967,
          0.12059050039792323,
          0.11992438837586845,
          0.11926712377956042,
          0.118618518634176,
          0.11797839161337591,
          0.11734656772369584,
          0.11672287800716444,
          0.11610715926085748
         ],
         "yaxis": "y"
        }
       ],
       "layout": {
        "legend": {
         "tracegroupgap": 0
        },
        "template": {
         "data": {
          "bar": [
           {
            "error_x": {
             "color": "#2a3f5f"
            },
            "error_y": {
             "color": "#2a3f5f"
            },
            "marker": {
             "line": {
              "color": "#E5ECF6",
              "width": 0.5
             },
             "pattern": {
              "fillmode": "overlay",
              "size": 10,
              "solidity": 0.2
             }
            },
            "type": "bar"
           }
          ],
          "barpolar": [
           {
            "marker": {
             "line": {
              "color": "#E5ECF6",
              "width": 0.5
             },
             "pattern": {
              "fillmode": "overlay",
              "size": 10,
              "solidity": 0.2
             }
            },
            "type": "barpolar"
           }
          ],
          "carpet": [
           {
            "aaxis": {
             "endlinecolor": "#2a3f5f",
             "gridcolor": "white",
             "linecolor": "white",
             "minorgridcolor": "white",
             "startlinecolor": "#2a3f5f"
            },
            "baxis": {
             "endlinecolor": "#2a3f5f",
             "gridcolor": "white",
             "linecolor": "white",
             "minorgridcolor": "white",
             "startlinecolor": "#2a3f5f"
            },
            "type": "carpet"
           }
          ],
          "choropleth": [
           {
            "colorbar": {
             "outlinewidth": 0,
             "ticks": ""
            },
            "type": "choropleth"
           }
          ],
          "contour": [
           {
            "colorbar": {
             "outlinewidth": 0,
             "ticks": ""
            },
            "colorscale": [
             [
              0,
              "#0d0887"
             ],
             [
              0.1111111111111111,
              "#46039f"
             ],
             [
              0.2222222222222222,
              "#7201a8"
             ],
             [
              0.3333333333333333,
              "#9c179e"
             ],
             [
              0.4444444444444444,
              "#bd3786"
             ],
             [
              0.5555555555555556,
              "#d8576b"
             ],
             [
              0.6666666666666666,
              "#ed7953"
             ],
             [
              0.7777777777777778,
              "#fb9f3a"
             ],
             [
              0.8888888888888888,
              "#fdca26"
             ],
             [
              1,
              "#f0f921"
             ]
            ],
            "type": "contour"
           }
          ],
          "contourcarpet": [
           {
            "colorbar": {
             "outlinewidth": 0,
             "ticks": ""
            },
            "type": "contourcarpet"
           }
          ],
          "heatmap": [
           {
            "colorbar": {
             "outlinewidth": 0,
             "ticks": ""
            },
            "colorscale": [
             [
              0,
              "#0d0887"
             ],
             [
              0.1111111111111111,
              "#46039f"
             ],
             [
              0.2222222222222222,
              "#7201a8"
             ],
             [
              0.3333333333333333,
              "#9c179e"
             ],
             [
              0.4444444444444444,
              "#bd3786"
             ],
             [
              0.5555555555555556,
              "#d8576b"
             ],
             [
              0.6666666666666666,
              "#ed7953"
             ],
             [
              0.7777777777777778,
              "#fb9f3a"
             ],
             [
              0.8888888888888888,
              "#fdca26"
             ],
             [
              1,
              "#f0f921"
             ]
            ],
            "type": "heatmap"
           }
          ],
          "heatmapgl": [
           {
            "colorbar": {
             "outlinewidth": 0,
             "ticks": ""
            },
            "colorscale": [
             [
              0,
              "#0d0887"
             ],
             [
              0.1111111111111111,
              "#46039f"
             ],
             [
              0.2222222222222222,
              "#7201a8"
             ],
             [
              0.3333333333333333,
              "#9c179e"
             ],
             [
              0.4444444444444444,
              "#bd3786"
             ],
             [
              0.5555555555555556,
              "#d8576b"
             ],
             [
              0.6666666666666666,
              "#ed7953"
             ],
             [
              0.7777777777777778,
              "#fb9f3a"
             ],
             [
              0.8888888888888888,
              "#fdca26"
             ],
             [
              1,
              "#f0f921"
             ]
            ],
            "type": "heatmapgl"
           }
          ],
          "histogram": [
           {
            "marker": {
             "pattern": {
              "fillmode": "overlay",
              "size": 10,
              "solidity": 0.2
             }
            },
            "type": "histogram"
           }
          ],
          "histogram2d": [
           {
            "colorbar": {
             "outlinewidth": 0,
             "ticks": ""
            },
            "colorscale": [
             [
              0,
              "#0d0887"
             ],
             [
              0.1111111111111111,
              "#46039f"
             ],
             [
              0.2222222222222222,
              "#7201a8"
             ],
             [
              0.3333333333333333,
              "#9c179e"
             ],
             [
              0.4444444444444444,
              "#bd3786"
             ],
             [
              0.5555555555555556,
              "#d8576b"
             ],
             [
              0.6666666666666666,
              "#ed7953"
             ],
             [
              0.7777777777777778,
              "#fb9f3a"
             ],
             [
              0.8888888888888888,
              "#fdca26"
             ],
             [
              1,
              "#f0f921"
             ]
            ],
            "type": "histogram2d"
           }
          ],
          "histogram2dcontour": [
           {
            "colorbar": {
             "outlinewidth": 0,
             "ticks": ""
            },
            "colorscale": [
             [
              0,
              "#0d0887"
             ],
             [
              0.1111111111111111,
              "#46039f"
             ],
             [
              0.2222222222222222,
              "#7201a8"
             ],
             [
              0.3333333333333333,
              "#9c179e"
             ],
             [
              0.4444444444444444,
              "#bd3786"
             ],
             [
              0.5555555555555556,
              "#d8576b"
             ],
             [
              0.6666666666666666,
              "#ed7953"
             ],
             [
              0.7777777777777778,
              "#fb9f3a"
             ],
             [
              0.8888888888888888,
              "#fdca26"
             ],
             [
              1,
              "#f0f921"
             ]
            ],
            "type": "histogram2dcontour"
           }
          ],
          "mesh3d": [
           {
            "colorbar": {
             "outlinewidth": 0,
             "ticks": ""
            },
            "type": "mesh3d"
           }
          ],
          "parcoords": [
           {
            "line": {
             "colorbar": {
              "outlinewidth": 0,
              "ticks": ""
             }
            },
            "type": "parcoords"
           }
          ],
          "pie": [
           {
            "automargin": true,
            "type": "pie"
           }
          ],
          "scatter": [
           {
            "fillpattern": {
             "fillmode": "overlay",
             "size": 10,
             "solidity": 0.2
            },
            "type": "scatter"
           }
          ],
          "scatter3d": [
           {
            "line": {
             "colorbar": {
              "outlinewidth": 0,
              "ticks": ""
             }
            },
            "marker": {
             "colorbar": {
              "outlinewidth": 0,
              "ticks": ""
             }
            },
            "type": "scatter3d"
           }
          ],
          "scattercarpet": [
           {
            "marker": {
             "colorbar": {
              "outlinewidth": 0,
              "ticks": ""
             }
            },
            "type": "scattercarpet"
           }
          ],
          "scattergeo": [
           {
            "marker": {
             "colorbar": {
              "outlinewidth": 0,
              "ticks": ""
             }
            },
            "type": "scattergeo"
           }
          ],
          "scattergl": [
           {
            "marker": {
             "colorbar": {
              "outlinewidth": 0,
              "ticks": ""
             }
            },
            "type": "scattergl"
           }
          ],
          "scattermapbox": [
           {
            "marker": {
             "colorbar": {
              "outlinewidth": 0,
              "ticks": ""
             }
            },
            "type": "scattermapbox"
           }
          ],
          "scatterpolar": [
           {
            "marker": {
             "colorbar": {
              "outlinewidth": 0,
              "ticks": ""
             }
            },
            "type": "scatterpolar"
           }
          ],
          "scatterpolargl": [
           {
            "marker": {
             "colorbar": {
              "outlinewidth": 0,
              "ticks": ""
             }
            },
            "type": "scatterpolargl"
           }
          ],
          "scatterternary": [
           {
            "marker": {
             "colorbar": {
              "outlinewidth": 0,
              "ticks": ""
             }
            },
            "type": "scatterternary"
           }
          ],
          "surface": [
           {
            "colorbar": {
             "outlinewidth": 0,
             "ticks": ""
            },
            "colorscale": [
             [
              0,
              "#0d0887"
             ],
             [
              0.1111111111111111,
              "#46039f"
             ],
             [
              0.2222222222222222,
              "#7201a8"
             ],
             [
              0.3333333333333333,
              "#9c179e"
             ],
             [
              0.4444444444444444,
              "#bd3786"
             ],
             [
              0.5555555555555556,
              "#d8576b"
             ],
             [
              0.6666666666666666,
              "#ed7953"
             ],
             [
              0.7777777777777778,
              "#fb9f3a"
             ],
             [
              0.8888888888888888,
              "#fdca26"
             ],
             [
              1,
              "#f0f921"
             ]
            ],
            "type": "surface"
           }
          ],
          "table": [
           {
            "cells": {
             "fill": {
              "color": "#EBF0F8"
             },
             "line": {
              "color": "white"
             }
            },
            "header": {
             "fill": {
              "color": "#C8D4E3"
             },
             "line": {
              "color": "white"
             }
            },
            "type": "table"
           }
          ]
         },
         "layout": {
          "annotationdefaults": {
           "arrowcolor": "#2a3f5f",
           "arrowhead": 0,
           "arrowwidth": 1
          },
          "autotypenumbers": "strict",
          "coloraxis": {
           "colorbar": {
            "outlinewidth": 0,
            "ticks": ""
           }
          },
          "colorscale": {
           "diverging": [
            [
             0,
             "#8e0152"
            ],
            [
             0.1,
             "#c51b7d"
            ],
            [
             0.2,
             "#de77ae"
            ],
            [
             0.3,
             "#f1b6da"
            ],
            [
             0.4,
             "#fde0ef"
            ],
            [
             0.5,
             "#f7f7f7"
            ],
            [
             0.6,
             "#e6f5d0"
            ],
            [
             0.7,
             "#b8e186"
            ],
            [
             0.8,
             "#7fbc41"
            ],
            [
             0.9,
             "#4d9221"
            ],
            [
             1,
             "#276419"
            ]
           ],
           "sequential": [
            [
             0,
             "#0d0887"
            ],
            [
             0.1111111111111111,
             "#46039f"
            ],
            [
             0.2222222222222222,
             "#7201a8"
            ],
            [
             0.3333333333333333,
             "#9c179e"
            ],
            [
             0.4444444444444444,
             "#bd3786"
            ],
            [
             0.5555555555555556,
             "#d8576b"
            ],
            [
             0.6666666666666666,
             "#ed7953"
            ],
            [
             0.7777777777777778,
             "#fb9f3a"
            ],
            [
             0.8888888888888888,
             "#fdca26"
            ],
            [
             1,
             "#f0f921"
            ]
           ],
           "sequentialminus": [
            [
             0,
             "#0d0887"
            ],
            [
             0.1111111111111111,
             "#46039f"
            ],
            [
             0.2222222222222222,
             "#7201a8"
            ],
            [
             0.3333333333333333,
             "#9c179e"
            ],
            [
             0.4444444444444444,
             "#bd3786"
            ],
            [
             0.5555555555555556,
             "#d8576b"
            ],
            [
             0.6666666666666666,
             "#ed7953"
            ],
            [
             0.7777777777777778,
             "#fb9f3a"
            ],
            [
             0.8888888888888888,
             "#fdca26"
            ],
            [
             1,
             "#f0f921"
            ]
           ]
          },
          "colorway": [
           "#636efa",
           "#EF553B",
           "#00cc96",
           "#ab63fa",
           "#FFA15A",
           "#19d3f3",
           "#FF6692",
           "#B6E880",
           "#FF97FF",
           "#FECB52"
          ],
          "font": {
           "color": "#2a3f5f"
          },
          "geo": {
           "bgcolor": "white",
           "lakecolor": "white",
           "landcolor": "#E5ECF6",
           "showlakes": true,
           "showland": true,
           "subunitcolor": "white"
          },
          "hoverlabel": {
           "align": "left"
          },
          "hovermode": "closest",
          "mapbox": {
           "style": "light"
          },
          "paper_bgcolor": "white",
          "plot_bgcolor": "#E5ECF6",
          "polar": {
           "angularaxis": {
            "gridcolor": "white",
            "linecolor": "white",
            "ticks": ""
           },
           "bgcolor": "#E5ECF6",
           "radialaxis": {
            "gridcolor": "white",
            "linecolor": "white",
            "ticks": ""
           }
          },
          "scene": {
           "xaxis": {
            "backgroundcolor": "#E5ECF6",
            "gridcolor": "white",
            "gridwidth": 2,
            "linecolor": "white",
            "showbackground": true,
            "ticks": "",
            "zerolinecolor": "white"
           },
           "yaxis": {
            "backgroundcolor": "#E5ECF6",
            "gridcolor": "white",
            "gridwidth": 2,
            "linecolor": "white",
            "showbackground": true,
            "ticks": "",
            "zerolinecolor": "white"
           },
           "zaxis": {
            "backgroundcolor": "#E5ECF6",
            "gridcolor": "white",
            "gridwidth": 2,
            "linecolor": "white",
            "showbackground": true,
            "ticks": "",
            "zerolinecolor": "white"
           }
          },
          "shapedefaults": {
           "line": {
            "color": "#2a3f5f"
           }
          },
          "ternary": {
           "aaxis": {
            "gridcolor": "white",
            "linecolor": "white",
            "ticks": ""
           },
           "baxis": {
            "gridcolor": "white",
            "linecolor": "white",
            "ticks": ""
           },
           "bgcolor": "#E5ECF6",
           "caxis": {
            "gridcolor": "white",
            "linecolor": "white",
            "ticks": ""
           }
          },
          "title": {
           "x": 0.05
          },
          "xaxis": {
           "automargin": true,
           "gridcolor": "white",
           "linecolor": "white",
           "ticks": "",
           "title": {
            "standoff": 15
           },
           "zerolinecolor": "white",
           "zerolinewidth": 2
          },
          "yaxis": {
           "automargin": true,
           "gridcolor": "white",
           "linecolor": "white",
           "ticks": "",
           "title": {
            "standoff": 15
           },
           "zerolinecolor": "white",
           "zerolinewidth": 2
          }
         }
        },
        "title": {
         "text": "Cost Function"
        },
        "xaxis": {
         "anchor": "y",
         "domain": [
          0,
          1
         ],
         "title": {
          "text": "Epoch"
         }
        },
        "yaxis": {
         "anchor": "x",
         "domain": [
          0,
          1
         ],
         "title": {
          "text": "Cost"
         }
        }
       }
      }
     },
     "metadata": {},
     "output_type": "display_data"
    },
    {
     "data": {
      "application/vnd.plotly.v1+json": {
       "config": {
        "plotlyServerURL": "https://plot.ly"
       },
       "data": [
        {
         "hovertemplate": "False Positive Rate (FPR)=%{x}<br>True Positive Rate (TPR)=%{y}<extra></extra>",
         "legendgroup": "",
         "line": {
          "color": "#636efa",
          "dash": "solid"
         },
         "marker": {
          "symbol": "circle"
         },
         "mode": "lines+markers",
         "name": "",
         "orientation": "v",
         "showlegend": false,
         "type": "scatter",
         "x": [
          0,
          0,
          0,
          0,
          0,
          0,
          0,
          0,
          0,
          0,
          0,
          0,
          0,
          0,
          0,
          0,
          0,
          0,
          0,
          0,
          0,
          0,
          0,
          0,
          0,
          0,
          0,
          0,
          0,
          0,
          0,
          0,
          0,
          0,
          0,
          0,
          0,
          0,
          0,
          0,
          0,
          0,
          0,
          0,
          0,
          0,
          0,
          0,
          0,
          0,
          0,
          0,
          0,
          0,
          0,
          0,
          0,
          0,
          0,
          0,
          0,
          0,
          0,
          0,
          0,
          0,
          0,
          0,
          0,
          0,
          0,
          0,
          0,
          0,
          0,
          0,
          0,
          0,
          0,
          0,
          0,
          0,
          0,
          0,
          0,
          0,
          0,
          0,
          0,
          0,
          0,
          0,
          0,
          0,
          0,
          0,
          0,
          0,
          0,
          0,
          0,
          0,
          0,
          0,
          0,
          0,
          0,
          0,
          0,
          0,
          0,
          0,
          0,
          0,
          0,
          0,
          0,
          0,
          0,
          0.0037174721189591198,
          0.0037174721189591198,
          0.0037174721189591198,
          0.0037174721189591198,
          0.0037174721189591198,
          0.0037174721189591198,
          0.0037174721189591198,
          0.0037174721189591198,
          0.0037174721189591198,
          0.0037174721189591198,
          0.0037174721189591198,
          0.0074349442379182396,
          0.0074349442379182396,
          0.0074349442379182396,
          0.0074349442379182396,
          0.0074349442379182396,
          0.0074349442379182396,
          0.0074349442379182396,
          0.01115241635687736,
          0.01115241635687736,
          0.01115241635687736,
          0.01115241635687736,
          0.01115241635687736,
          0.014869888475836479,
          0.014869888475836479,
          0.014869888475836479,
          0.014869888475836479,
          0.018587360594795488,
          0.022304832713754608,
          0.022304832713754608,
          0.026022304832713727,
          0.026022304832713727,
          0.026022304832713727,
          0.029739776951672847,
          0.029739776951672847,
          0.029739776951672847,
          0.03345724907063197,
          0.03717472118959109,
          0.040892193308550207,
          0.044609665427509326,
          0.048327137546468446,
          0.048327137546468446,
          0.052044609665427455,
          0.052044609665427455,
          0.052044609665427455,
          0.055762081784386575,
          0.059479553903345694,
          0.06319702602230481,
          0.06319702602230481,
          0.06691449814126393,
          0.07063197026022305,
          0.07063197026022305,
          0.07434944237918217,
          0.0780669144981413,
          0.08178438661710041,
          0.08550185873605953,
          0.08921933085501854,
          0.09293680297397766,
          0.09293680297397766,
          0.09665427509293678,
          0.1003717472118959,
          0.1003717472118959,
          0.10408921933085502,
          0.10780669144981414,
          0.11152416356877326,
          0.11524163568773238,
          0.1189591078066915,
          0.1189591078066915,
          0.12267657992565051,
          0.12639405204460963,
          0.13011152416356875,
          0.13382899628252787,
          0.137546468401487,
          0.1412639405204461,
          0.14498141263940523,
          0.14869888475836435,
          0.15241635687732347,
          0.15613382899628248,
          0.1598513011152416,
          0.1598513011152416,
          0.16356877323420072,
          0.16728624535315983,
          0.17100371747211895,
          0.17472118959107807,
          0.1784386617100372,
          0.18215613382899631,
          0.18587360594795543,
          0.18959107806691455,
          0.19330855018587356,
          0.19702602230483268,
          0.2007434944237918,
          0.20446096654275092,
          0.20817843866171004,
          0.21189591078066916,
          0.21561338289962828,
          0.2193308550185874,
          0.22304832713754652,
          0.22676579925650553,
          0.23048327137546465,
          0.23420074349442377,
          0.2379182156133829,
          0.241635687732342,
          0.24535315985130113,
          0.24907063197026025,
          0.25278810408921937,
          0.2565055762081785,
          0.2602230483271375,
          0.2639405204460966,
          0.26765799256505574,
          0.27137546468401486,
          0.275092936802974,
          0.2788104089219331,
          0.2788104089219331,
          0.2825278810408922,
          0.28624535315985133,
          0.28996282527881045,
          0.29368029739776946,
          0.2973977695167286,
          0.3011152416356877,
          0.3048327137546468,
          0.30855018587360594,
          0.31226765799256506,
          0.3159851301115242,
          0.3197026022304833,
          0.3234200743494424,
          0.32713754646840154,
          0.33085501858736055,
          0.33457249070631967,
          0.3382899628252788,
          0.3420074349442379,
          0.34572490706319703,
          0.34944237918215615,
          0.35315985130111527,
          0.3568773234200744,
          0.3605947955390335,
          0.3643122676579925,
          0.36802973977695164,
          0.37174721189591076,
          0.3754646840148699,
          0.379182156133829,
          0.3828996282527881,
          0.38661710037174724,
          0.39033457249070636,
          0.3940520446096655,
          0.3977695167286245,
          0.4014869888475836,
          0.4052044609665427,
          0.40892193308550184,
          0.41263940520446096,
          0.4163568773234201,
          0.4200743494423792,
          0.4237918215613383,
          0.42750929368029744,
          0.43122676579925645,
          0.43494423791821557,
          0.4386617100371747,
          0.4423791821561338,
          0.44609665427509293,
          0.44981412639405205,
          0.45353159851301117,
          0.4572490706319703,
          0.4609665427509294,
          0.46468401486988853,
          0.46840148698884754,
          0.47211895910780666,
          0.4758364312267658,
          0.4795539033457249,
          0.483271375464684,
          0.48698884758364314,
          0.49070631970260226,
          0.4944237918215614,
          0.4981412639405205,
          0.5018587360594795,
          0.5055762081784387,
          0.5092936802973977,
          0.5130111524163569,
          0.516728624535316,
          0.5204460966542751,
          0.5241635687732342,
          0.5278810408921932,
          0.5315985130111525,
          0.5353159851301115,
          0.5390334572490707,
          0.5427509293680297,
          0.5464684014869888,
          0.550185873605948,
          0.5539033457249071,
          0.5576208178438662,
          0.5613382899628252,
          0.5650557620817844,
          0.5687732342007434,
          0.5724907063197027,
          0.5762081784386617,
          0.5799256505576208,
          0.5836431226765799,
          0.587360594795539,
          0.5910780669144982,
          0.5947955390334573,
          0.5985130111524164,
          0.6022304832713754,
          0.6059479553903346,
          0.6096654275092936,
          0.6133828996282528,
          0.6171003717472119,
          0.620817843866171,
          0.6245353159851301,
          0.6282527881040892,
          0.6319702602230484,
          0.6356877323420074,
          0.6394052044609666,
          0.6431226765799256,
          0.6468401486988847,
          0.6505576208178439,
          0.654275092936803,
          0.6579925650557621,
          0.6617100371747212,
          0.6654275092936803,
          0.6691449814126393,
          0.6728624535315986,
          0.6765799256505576,
          0.6802973977695168,
          0.6840148698884758,
          0.6877323420074349,
          0.6914498141263941,
          0.6951672862453532,
          0.6988847583643123,
          0.7026022304832713,
          0.7063197026022305,
          0.7100371747211895,
          0.7137546468401488,
          0.7174721189591078,
          0.7211895910780669,
          0.724907063197026,
          0.7286245353159851,
          0.7323420074349443,
          0.7360594795539033,
          0.7397769516728625,
          0.7434944237918215,
          0.7472118959107807,
          0.7509293680297398,
          0.7546468401486989,
          0.758364312267658,
          0.7620817843866171,
          0.7657992565055762,
          0.7695167286245354,
          0.7732342007434945,
          0.7769516728624535,
          0.7806691449814126,
          0.7843866171003717,
          0.7881040892193308,
          0.79182156133829,
          0.7955390334572491,
          0.7992565055762082,
          0.8029739776951673,
          0.8066914498141264,
          0.8104089219330854,
          0.8141263940520447,
          0.8178438661710037,
          0.8215613382899628,
          0.8252788104089219,
          0.828996282527881,
          0.8327137546468402,
          0.8364312267657993,
          0.8401486988847584,
          0.8438661710037174,
          0.8475836431226766,
          0.8513011152416357,
          0.8550185873605948,
          0.8587360594795539,
          0.862453531598513,
          0.8661710037174721,
          0.8698884758364313,
          0.8736059479553904,
          0.8773234200743494,
          0.8810408921933086,
          0.8847583643122676,
          0.8884758364312267,
          0.8921933085501859,
          0.895910780669145,
          0.8996282527881041,
          0.9033457249070632,
          0.9070631970260223,
          0.9107806691449815,
          0.9144981412639406,
          0.9182156133828996,
          0.9219330855018587,
          0.9256505576208178,
          0.929368029739777,
          0.9330855018587361,
          0.9368029739776952,
          0.9405204460966543,
          0.9442379182156134,
          0.9479553903345725,
          0.9516728624535316,
          0.9553903345724907,
          0.9591078066914498,
          0.9628252788104089,
          0.966542750929368,
          0.9702602230483272,
          0.9739776951672863,
          0.9776951672862454,
          0.9814126394052045,
          0.9851301115241635,
          0.9888475836431226,
          0.9925650557620818,
          0.9962825278810409,
          1
         ],
         "xaxis": "x",
         "y": [
          0.006369426751592357,
          0.012738853503184714,
          0.01910828025477707,
          0.025477707006369428,
          0.03184713375796178,
          0.03821656050955414,
          0.044585987261146494,
          0.050955414012738856,
          0.05732484076433121,
          0.06369426751592357,
          0.07006369426751592,
          0.07643312101910828,
          0.08280254777070063,
          0.08917197452229299,
          0.09554140127388536,
          0.10191082802547771,
          0.10828025477707007,
          0.11464968152866242,
          0.12101910828025478,
          0.12738853503184713,
          0.1337579617834395,
          0.14012738853503184,
          0.1464968152866242,
          0.15286624203821655,
          0.1592356687898089,
          0.16560509554140126,
          0.17197452229299362,
          0.17834394904458598,
          0.18471337579617833,
          0.1910828025477707,
          0.19745222929936307,
          0.20382165605095542,
          0.21019108280254778,
          0.21656050955414013,
          0.2229299363057325,
          0.22929936305732485,
          0.2356687898089172,
          0.24203821656050956,
          0.2484076433121019,
          0.25477707006369427,
          0.2611464968152866,
          0.267515923566879,
          0.27388535031847133,
          0.2802547770700637,
          0.28662420382165604,
          0.2929936305732484,
          0.29936305732484075,
          0.3057324840764331,
          0.31210191082802546,
          0.3184713375796178,
          0.3248407643312102,
          0.33121019108280253,
          0.3375796178343949,
          0.34394904458598724,
          0.3503184713375796,
          0.35668789808917195,
          0.3630573248407643,
          0.36942675159235666,
          0.37579617834394907,
          0.3821656050955414,
          0.3885350318471338,
          0.39490445859872614,
          0.4012738853503185,
          0.40764331210191085,
          0.4140127388535032,
          0.42038216560509556,
          0.4267515923566879,
          0.43312101910828027,
          0.4394904458598726,
          0.445859872611465,
          0.45222929936305734,
          0.4585987261146497,
          0.46496815286624205,
          0.4713375796178344,
          0.47770700636942676,
          0.4840764331210191,
          0.49044585987261147,
          0.4968152866242038,
          0.5031847133757962,
          0.5095541401273885,
          0.5159235668789809,
          0.5222929936305732,
          0.5286624203821656,
          0.535031847133758,
          0.5414012738853503,
          0.5477707006369427,
          0.554140127388535,
          0.5605095541401274,
          0.5668789808917197,
          0.5732484076433121,
          0.5796178343949044,
          0.5859872611464968,
          0.5923566878980892,
          0.5987261146496815,
          0.6050955414012739,
          0.6114649681528662,
          0.6178343949044586,
          0.6242038216560509,
          0.6305732484076433,
          0.6369426751592356,
          0.643312101910828,
          0.6496815286624203,
          0.6560509554140127,
          0.6624203821656051,
          0.6687898089171974,
          0.6751592356687898,
          0.6815286624203821,
          0.6878980891719745,
          0.6942675159235668,
          0.7006369426751592,
          0.7070063694267515,
          0.7133757961783439,
          0.7197452229299363,
          0.7261146496815286,
          0.732484076433121,
          0.7388535031847133,
          0.7452229299363057,
          0.7515923566878981,
          0.7579617834394905,
          0.7579617834394905,
          0.7643312101910829,
          0.7707006369426752,
          0.7770700636942676,
          0.7834394904458599,
          0.7898089171974523,
          0.7961783439490446,
          0.802547770700637,
          0.8089171974522293,
          0.8152866242038217,
          0.821656050955414,
          0.821656050955414,
          0.8280254777070064,
          0.8343949044585988,
          0.8407643312101911,
          0.8471337579617835,
          0.8535031847133758,
          0.8598726114649682,
          0.8598726114649682,
          0.8662420382165605,
          0.8726114649681529,
          0.8789808917197452,
          0.8853503184713376,
          0.8853503184713376,
          0.89171974522293,
          0.8980891719745223,
          0.9044585987261147,
          0.9044585987261147,
          0.9044585987261147,
          0.910828025477707,
          0.910828025477707,
          0.9171974522292994,
          0.9235668789808917,
          0.9235668789808917,
          0.9299363057324841,
          0.9363057324840764,
          0.9363057324840764,
          0.9363057324840764,
          0.9363057324840764,
          0.9363057324840764,
          0.9363057324840764,
          0.9426751592356688,
          0.9426751592356688,
          0.9490445859872612,
          0.9554140127388535,
          0.9554140127388535,
          0.9554140127388535,
          0.9554140127388535,
          0.9617834394904459,
          0.9617834394904459,
          0.9617834394904459,
          0.9681528662420382,
          0.9681528662420382,
          0.9681528662420382,
          0.9681528662420382,
          0.9681528662420382,
          0.9681528662420382,
          0.9681528662420382,
          0.9745222929936306,
          0.9745222929936306,
          0.9745222929936306,
          0.9808917197452229,
          0.9808917197452229,
          0.9808917197452229,
          0.9808917197452229,
          0.9808917197452229,
          0.9808917197452229,
          0.9872611464968153,
          0.9872611464968153,
          0.9872611464968153,
          0.9872611464968153,
          0.9872611464968153,
          0.9872611464968153,
          0.9872611464968153,
          0.9872611464968153,
          0.9872611464968153,
          0.9872611464968153,
          0.9872611464968153,
          0.9872611464968153,
          0.9936305732484076,
          0.9936305732484076,
          0.9936305732484076,
          0.9936305732484076,
          0.9936305732484076,
          0.9936305732484076,
          0.9936305732484076,
          0.9936305732484076,
          0.9936305732484076,
          0.9936305732484076,
          0.9936305732484076,
          0.9936305732484076,
          0.9936305732484076,
          0.9936305732484076,
          0.9936305732484076,
          0.9936305732484076,
          0.9936305732484076,
          0.9936305732484076,
          0.9936305732484076,
          0.9936305732484076,
          0.9936305732484076,
          0.9936305732484076,
          0.9936305732484076,
          0.9936305732484076,
          0.9936305732484076,
          0.9936305732484076,
          0.9936305732484076,
          0.9936305732484076,
          0.9936305732484076,
          0.9936305732484076,
          0.9936305732484076,
          0.9936305732484076,
          0.9936305732484076,
          1,
          1,
          1,
          1,
          1,
          1,
          1,
          1,
          1,
          1,
          1,
          1,
          1,
          1,
          1,
          1,
          1,
          1,
          1,
          1,
          1,
          1,
          1,
          1,
          1,
          1,
          1,
          1,
          1,
          1,
          1,
          1,
          1,
          1,
          1,
          1,
          1,
          1,
          1,
          1,
          1,
          1,
          1,
          1,
          1,
          1,
          1,
          1,
          1,
          1,
          1,
          1,
          1,
          1,
          1,
          1,
          1,
          1,
          1,
          1,
          1,
          1,
          1,
          1,
          1,
          1,
          1,
          1,
          1,
          1,
          1,
          1,
          1,
          1,
          1,
          1,
          1,
          1,
          1,
          1,
          1,
          1,
          1,
          1,
          1,
          1,
          1,
          1,
          1,
          1,
          1,
          1,
          1,
          1,
          1,
          1,
          1,
          1,
          1,
          1,
          1,
          1,
          1,
          1,
          1,
          1,
          1,
          1,
          1,
          1,
          1,
          1,
          1,
          1,
          1,
          1,
          1,
          1,
          1,
          1,
          1,
          1,
          1,
          1,
          1,
          1,
          1,
          1,
          1,
          1,
          1,
          1,
          1,
          1,
          1,
          1,
          1,
          1,
          1,
          1,
          1,
          1,
          1,
          1,
          1,
          1,
          1,
          1,
          1,
          1,
          1,
          1,
          1,
          1,
          1,
          1,
          1,
          1,
          1,
          1,
          1,
          1,
          1,
          1,
          1,
          1,
          1,
          1,
          1,
          1,
          1,
          1,
          1,
          1,
          1,
          1,
          1,
          1,
          1,
          1,
          1,
          1,
          1,
          1,
          1,
          1,
          1,
          1,
          1,
          1,
          1,
          1,
          1,
          1,
          1
         ],
         "yaxis": "y"
        }
       ],
       "layout": {
        "legend": {
         "tracegroupgap": 0
        },
        "template": {
         "data": {
          "bar": [
           {
            "error_x": {
             "color": "#2a3f5f"
            },
            "error_y": {
             "color": "#2a3f5f"
            },
            "marker": {
             "line": {
              "color": "#E5ECF6",
              "width": 0.5
             },
             "pattern": {
              "fillmode": "overlay",
              "size": 10,
              "solidity": 0.2
             }
            },
            "type": "bar"
           }
          ],
          "barpolar": [
           {
            "marker": {
             "line": {
              "color": "#E5ECF6",
              "width": 0.5
             },
             "pattern": {
              "fillmode": "overlay",
              "size": 10,
              "solidity": 0.2
             }
            },
            "type": "barpolar"
           }
          ],
          "carpet": [
           {
            "aaxis": {
             "endlinecolor": "#2a3f5f",
             "gridcolor": "white",
             "linecolor": "white",
             "minorgridcolor": "white",
             "startlinecolor": "#2a3f5f"
            },
            "baxis": {
             "endlinecolor": "#2a3f5f",
             "gridcolor": "white",
             "linecolor": "white",
             "minorgridcolor": "white",
             "startlinecolor": "#2a3f5f"
            },
            "type": "carpet"
           }
          ],
          "choropleth": [
           {
            "colorbar": {
             "outlinewidth": 0,
             "ticks": ""
            },
            "type": "choropleth"
           }
          ],
          "contour": [
           {
            "colorbar": {
             "outlinewidth": 0,
             "ticks": ""
            },
            "colorscale": [
             [
              0,
              "#0d0887"
             ],
             [
              0.1111111111111111,
              "#46039f"
             ],
             [
              0.2222222222222222,
              "#7201a8"
             ],
             [
              0.3333333333333333,
              "#9c179e"
             ],
             [
              0.4444444444444444,
              "#bd3786"
             ],
             [
              0.5555555555555556,
              "#d8576b"
             ],
             [
              0.6666666666666666,
              "#ed7953"
             ],
             [
              0.7777777777777778,
              "#fb9f3a"
             ],
             [
              0.8888888888888888,
              "#fdca26"
             ],
             [
              1,
              "#f0f921"
             ]
            ],
            "type": "contour"
           }
          ],
          "contourcarpet": [
           {
            "colorbar": {
             "outlinewidth": 0,
             "ticks": ""
            },
            "type": "contourcarpet"
           }
          ],
          "heatmap": [
           {
            "colorbar": {
             "outlinewidth": 0,
             "ticks": ""
            },
            "colorscale": [
             [
              0,
              "#0d0887"
             ],
             [
              0.1111111111111111,
              "#46039f"
             ],
             [
              0.2222222222222222,
              "#7201a8"
             ],
             [
              0.3333333333333333,
              "#9c179e"
             ],
             [
              0.4444444444444444,
              "#bd3786"
             ],
             [
              0.5555555555555556,
              "#d8576b"
             ],
             [
              0.6666666666666666,
              "#ed7953"
             ],
             [
              0.7777777777777778,
              "#fb9f3a"
             ],
             [
              0.8888888888888888,
              "#fdca26"
             ],
             [
              1,
              "#f0f921"
             ]
            ],
            "type": "heatmap"
           }
          ],
          "heatmapgl": [
           {
            "colorbar": {
             "outlinewidth": 0,
             "ticks": ""
            },
            "colorscale": [
             [
              0,
              "#0d0887"
             ],
             [
              0.1111111111111111,
              "#46039f"
             ],
             [
              0.2222222222222222,
              "#7201a8"
             ],
             [
              0.3333333333333333,
              "#9c179e"
             ],
             [
              0.4444444444444444,
              "#bd3786"
             ],
             [
              0.5555555555555556,
              "#d8576b"
             ],
             [
              0.6666666666666666,
              "#ed7953"
             ],
             [
              0.7777777777777778,
              "#fb9f3a"
             ],
             [
              0.8888888888888888,
              "#fdca26"
             ],
             [
              1,
              "#f0f921"
             ]
            ],
            "type": "heatmapgl"
           }
          ],
          "histogram": [
           {
            "marker": {
             "pattern": {
              "fillmode": "overlay",
              "size": 10,
              "solidity": 0.2
             }
            },
            "type": "histogram"
           }
          ],
          "histogram2d": [
           {
            "colorbar": {
             "outlinewidth": 0,
             "ticks": ""
            },
            "colorscale": [
             [
              0,
              "#0d0887"
             ],
             [
              0.1111111111111111,
              "#46039f"
             ],
             [
              0.2222222222222222,
              "#7201a8"
             ],
             [
              0.3333333333333333,
              "#9c179e"
             ],
             [
              0.4444444444444444,
              "#bd3786"
             ],
             [
              0.5555555555555556,
              "#d8576b"
             ],
             [
              0.6666666666666666,
              "#ed7953"
             ],
             [
              0.7777777777777778,
              "#fb9f3a"
             ],
             [
              0.8888888888888888,
              "#fdca26"
             ],
             [
              1,
              "#f0f921"
             ]
            ],
            "type": "histogram2d"
           }
          ],
          "histogram2dcontour": [
           {
            "colorbar": {
             "outlinewidth": 0,
             "ticks": ""
            },
            "colorscale": [
             [
              0,
              "#0d0887"
             ],
             [
              0.1111111111111111,
              "#46039f"
             ],
             [
              0.2222222222222222,
              "#7201a8"
             ],
             [
              0.3333333333333333,
              "#9c179e"
             ],
             [
              0.4444444444444444,
              "#bd3786"
             ],
             [
              0.5555555555555556,
              "#d8576b"
             ],
             [
              0.6666666666666666,
              "#ed7953"
             ],
             [
              0.7777777777777778,
              "#fb9f3a"
             ],
             [
              0.8888888888888888,
              "#fdca26"
             ],
             [
              1,
              "#f0f921"
             ]
            ],
            "type": "histogram2dcontour"
           }
          ],
          "mesh3d": [
           {
            "colorbar": {
             "outlinewidth": 0,
             "ticks": ""
            },
            "type": "mesh3d"
           }
          ],
          "parcoords": [
           {
            "line": {
             "colorbar": {
              "outlinewidth": 0,
              "ticks": ""
             }
            },
            "type": "parcoords"
           }
          ],
          "pie": [
           {
            "automargin": true,
            "type": "pie"
           }
          ],
          "scatter": [
           {
            "fillpattern": {
             "fillmode": "overlay",
             "size": 10,
             "solidity": 0.2
            },
            "type": "scatter"
           }
          ],
          "scatter3d": [
           {
            "line": {
             "colorbar": {
              "outlinewidth": 0,
              "ticks": ""
             }
            },
            "marker": {
             "colorbar": {
              "outlinewidth": 0,
              "ticks": ""
             }
            },
            "type": "scatter3d"
           }
          ],
          "scattercarpet": [
           {
            "marker": {
             "colorbar": {
              "outlinewidth": 0,
              "ticks": ""
             }
            },
            "type": "scattercarpet"
           }
          ],
          "scattergeo": [
           {
            "marker": {
             "colorbar": {
              "outlinewidth": 0,
              "ticks": ""
             }
            },
            "type": "scattergeo"
           }
          ],
          "scattergl": [
           {
            "marker": {
             "colorbar": {
              "outlinewidth": 0,
              "ticks": ""
             }
            },
            "type": "scattergl"
           }
          ],
          "scattermapbox": [
           {
            "marker": {
             "colorbar": {
              "outlinewidth": 0,
              "ticks": ""
             }
            },
            "type": "scattermapbox"
           }
          ],
          "scatterpolar": [
           {
            "marker": {
             "colorbar": {
              "outlinewidth": 0,
              "ticks": ""
             }
            },
            "type": "scatterpolar"
           }
          ],
          "scatterpolargl": [
           {
            "marker": {
             "colorbar": {
              "outlinewidth": 0,
              "ticks": ""
             }
            },
            "type": "scatterpolargl"
           }
          ],
          "scatterternary": [
           {
            "marker": {
             "colorbar": {
              "outlinewidth": 0,
              "ticks": ""
             }
            },
            "type": "scatterternary"
           }
          ],
          "surface": [
           {
            "colorbar": {
             "outlinewidth": 0,
             "ticks": ""
            },
            "colorscale": [
             [
              0,
              "#0d0887"
             ],
             [
              0.1111111111111111,
              "#46039f"
             ],
             [
              0.2222222222222222,
              "#7201a8"
             ],
             [
              0.3333333333333333,
              "#9c179e"
             ],
             [
              0.4444444444444444,
              "#bd3786"
             ],
             [
              0.5555555555555556,
              "#d8576b"
             ],
             [
              0.6666666666666666,
              "#ed7953"
             ],
             [
              0.7777777777777778,
              "#fb9f3a"
             ],
             [
              0.8888888888888888,
              "#fdca26"
             ],
             [
              1,
              "#f0f921"
             ]
            ],
            "type": "surface"
           }
          ],
          "table": [
           {
            "cells": {
             "fill": {
              "color": "#EBF0F8"
             },
             "line": {
              "color": "white"
             }
            },
            "header": {
             "fill": {
              "color": "#C8D4E3"
             },
             "line": {
              "color": "white"
             }
            },
            "type": "table"
           }
          ]
         },
         "layout": {
          "annotationdefaults": {
           "arrowcolor": "#2a3f5f",
           "arrowhead": 0,
           "arrowwidth": 1
          },
          "autotypenumbers": "strict",
          "coloraxis": {
           "colorbar": {
            "outlinewidth": 0,
            "ticks": ""
           }
          },
          "colorscale": {
           "diverging": [
            [
             0,
             "#8e0152"
            ],
            [
             0.1,
             "#c51b7d"
            ],
            [
             0.2,
             "#de77ae"
            ],
            [
             0.3,
             "#f1b6da"
            ],
            [
             0.4,
             "#fde0ef"
            ],
            [
             0.5,
             "#f7f7f7"
            ],
            [
             0.6,
             "#e6f5d0"
            ],
            [
             0.7,
             "#b8e186"
            ],
            [
             0.8,
             "#7fbc41"
            ],
            [
             0.9,
             "#4d9221"
            ],
            [
             1,
             "#276419"
            ]
           ],
           "sequential": [
            [
             0,
             "#0d0887"
            ],
            [
             0.1111111111111111,
             "#46039f"
            ],
            [
             0.2222222222222222,
             "#7201a8"
            ],
            [
             0.3333333333333333,
             "#9c179e"
            ],
            [
             0.4444444444444444,
             "#bd3786"
            ],
            [
             0.5555555555555556,
             "#d8576b"
            ],
            [
             0.6666666666666666,
             "#ed7953"
            ],
            [
             0.7777777777777778,
             "#fb9f3a"
            ],
            [
             0.8888888888888888,
             "#fdca26"
            ],
            [
             1,
             "#f0f921"
            ]
           ],
           "sequentialminus": [
            [
             0,
             "#0d0887"
            ],
            [
             0.1111111111111111,
             "#46039f"
            ],
            [
             0.2222222222222222,
             "#7201a8"
            ],
            [
             0.3333333333333333,
             "#9c179e"
            ],
            [
             0.4444444444444444,
             "#bd3786"
            ],
            [
             0.5555555555555556,
             "#d8576b"
            ],
            [
             0.6666666666666666,
             "#ed7953"
            ],
            [
             0.7777777777777778,
             "#fb9f3a"
            ],
            [
             0.8888888888888888,
             "#fdca26"
            ],
            [
             1,
             "#f0f921"
            ]
           ]
          },
          "colorway": [
           "#636efa",
           "#EF553B",
           "#00cc96",
           "#ab63fa",
           "#FFA15A",
           "#19d3f3",
           "#FF6692",
           "#B6E880",
           "#FF97FF",
           "#FECB52"
          ],
          "font": {
           "color": "#2a3f5f"
          },
          "geo": {
           "bgcolor": "white",
           "lakecolor": "white",
           "landcolor": "#E5ECF6",
           "showlakes": true,
           "showland": true,
           "subunitcolor": "white"
          },
          "hoverlabel": {
           "align": "left"
          },
          "hovermode": "closest",
          "mapbox": {
           "style": "light"
          },
          "paper_bgcolor": "white",
          "plot_bgcolor": "#E5ECF6",
          "polar": {
           "angularaxis": {
            "gridcolor": "white",
            "linecolor": "white",
            "ticks": ""
           },
           "bgcolor": "#E5ECF6",
           "radialaxis": {
            "gridcolor": "white",
            "linecolor": "white",
            "ticks": ""
           }
          },
          "scene": {
           "xaxis": {
            "backgroundcolor": "#E5ECF6",
            "gridcolor": "white",
            "gridwidth": 2,
            "linecolor": "white",
            "showbackground": true,
            "ticks": "",
            "zerolinecolor": "white"
           },
           "yaxis": {
            "backgroundcolor": "#E5ECF6",
            "gridcolor": "white",
            "gridwidth": 2,
            "linecolor": "white",
            "showbackground": true,
            "ticks": "",
            "zerolinecolor": "white"
           },
           "zaxis": {
            "backgroundcolor": "#E5ECF6",
            "gridcolor": "white",
            "gridwidth": 2,
            "linecolor": "white",
            "showbackground": true,
            "ticks": "",
            "zerolinecolor": "white"
           }
          },
          "shapedefaults": {
           "line": {
            "color": "#2a3f5f"
           }
          },
          "ternary": {
           "aaxis": {
            "gridcolor": "white",
            "linecolor": "white",
            "ticks": ""
           },
           "baxis": {
            "gridcolor": "white",
            "linecolor": "white",
            "ticks": ""
           },
           "bgcolor": "#E5ECF6",
           "caxis": {
            "gridcolor": "white",
            "linecolor": "white",
            "ticks": ""
           }
          },
          "title": {
           "x": 0.05
          },
          "xaxis": {
           "automargin": true,
           "gridcolor": "white",
           "linecolor": "white",
           "ticks": "",
           "title": {
            "standoff": 15
           },
           "zerolinecolor": "white",
           "zerolinewidth": 2
          },
          "yaxis": {
           "automargin": true,
           "gridcolor": "white",
           "linecolor": "white",
           "ticks": "",
           "title": {
            "standoff": 15
           },
           "zerolinecolor": "white",
           "zerolinewidth": 2
          }
         }
        },
        "title": {
         "text": "ROC Curve - Train"
        },
        "xaxis": {
         "anchor": "y",
         "domain": [
          0,
          1
         ],
         "title": {
          "text": "False Positive Rate (FPR)"
         }
        },
        "yaxis": {
         "anchor": "x",
         "domain": [
          0,
          1
         ],
         "title": {
          "text": "True Positive Rate (TPR)"
         }
        }
       }
      }
     },
     "metadata": {},
     "output_type": "display_data"
    },
    {
     "name": "stdout",
     "output_type": "stream",
     "text": [
      "TEST\n",
      "Test Accuracy: 0.951048951048951\n",
      "Test F1: 0.9320388349514563\n",
      "Test AUROC: 0.974586776859504\n",
      "\n",
      "Sample predictions\n",
      "   y_test  y_class  y_predict\n",
      "0       0        0   0.029687\n",
      "1       0        0   0.000375\n",
      "2       0        0   0.283708\n",
      "3       0        0   0.002135\n",
      "4       0        0   0.011731\n"
     ]
    },
    {
     "data": {
      "application/vnd.plotly.v1+json": {
       "config": {
        "plotlyServerURL": "https://plot.ly"
       },
       "data": [
        {
         "hovertemplate": "False Positive Rate (FPR)=%{x}<br>True Positive Rate (TPR)=%{y}<extra></extra>",
         "legendgroup": "",
         "line": {
          "color": "#636efa",
          "dash": "solid"
         },
         "marker": {
          "symbol": "circle"
         },
         "mode": "lines+markers",
         "name": "",
         "orientation": "v",
         "showlegend": false,
         "type": "scatter",
         "x": [
          0,
          0,
          0,
          0,
          0,
          0,
          0,
          0,
          0,
          0,
          0,
          0,
          0,
          0,
          0,
          0,
          0,
          0,
          0,
          0,
          0,
          0,
          0,
          0,
          0,
          0,
          0,
          0,
          0,
          0,
          0,
          0,
          0,
          0,
          0,
          0,
          0,
          0,
          0,
          0,
          0,
          0,
          0,
          0,
          0,
          0,
          0,
          0,
          0.011363636363636354,
          0.022727272727272707,
          0.03409090909090906,
          0.03409090909090906,
          0.045454545454545414,
          0.05681818181818177,
          0.06818181818181823,
          0.06818181818181823,
          0.07954545454545459,
          0.07954545454545459,
          0.09090909090909094,
          0.10227272727272729,
          0.10227272727272729,
          0.11363636363636365,
          0.125,
          0.125,
          0.13636363636363635,
          0.1477272727272727,
          0.15909090909090906,
          0.17045454545454541,
          0.18181818181818177,
          0.19318181818181823,
          0.20454545454545459,
          0.21590909090909094,
          0.2272727272727273,
          0.23863636363636365,
          0.25,
          0.26136363636363635,
          0.2727272727272727,
          0.28409090909090906,
          0.2954545454545454,
          0.30681818181818177,
          0.31818181818181823,
          0.3295454545454546,
          0.34090909090909094,
          0.3522727272727273,
          0.36363636363636365,
          0.375,
          0.38636363636363635,
          0.3977272727272727,
          0.40909090909090906,
          0.4204545454545454,
          0.43181818181818177,
          0.44318181818181823,
          0.4545454545454546,
          0.4545454545454546,
          0.46590909090909094,
          0.4772727272727273,
          0.48863636363636365,
          0.5,
          0.5113636363636364,
          0.5227272727272727,
          0.5340909090909092,
          0.5340909090909092,
          0.5454545454545454,
          0.5568181818181819,
          0.5681818181818181,
          0.5795454545454546,
          0.5909090909090908,
          0.6022727272727273,
          0.6136363636363636,
          0.625,
          0.6363636363636364,
          0.6477272727272727,
          0.6590909090909092,
          0.6704545454545454,
          0.6818181818181819,
          0.6931818181818181,
          0.7045454545454546,
          0.7159090909090908,
          0.7272727272727273,
          0.7386363636363636,
          0.75,
          0.7613636363636364,
          0.7727272727272727,
          0.7840909090909091,
          0.7954545454545454,
          0.8068181818181819,
          0.8181818181818181,
          0.8295454545454546,
          0.8409090909090909,
          0.8522727272727273,
          0.8636363636363636,
          0.875,
          0.8863636363636364,
          0.8977272727272727,
          0.9090909090909091,
          0.9204545454545454,
          0.9318181818181819,
          0.9431818181818182,
          0.9545454545454546,
          0.9659090909090909,
          0.9772727272727273,
          0.9886363636363636,
          1
         ],
         "xaxis": "x",
         "y": [
          0.01818181818181818,
          0.03636363636363636,
          0.05454545454545454,
          0.07272727272727272,
          0.09090909090909091,
          0.10909090909090909,
          0.12727272727272726,
          0.14545454545454545,
          0.16363636363636364,
          0.18181818181818182,
          0.2,
          0.21818181818181817,
          0.23636363636363636,
          0.2545454545454545,
          0.2727272727272727,
          0.2909090909090909,
          0.3090909090909091,
          0.32727272727272727,
          0.34545454545454546,
          0.36363636363636365,
          0.38181818181818183,
          0.4,
          0.41818181818181815,
          0.43636363636363634,
          0.45454545454545453,
          0.4727272727272727,
          0.4909090909090909,
          0.509090909090909,
          0.5272727272727272,
          0.5454545454545454,
          0.5636363636363636,
          0.5818181818181818,
          0.6,
          0.6181818181818182,
          0.6363636363636364,
          0.6545454545454545,
          0.6727272727272727,
          0.6909090909090909,
          0.7090909090909091,
          0.7272727272727273,
          0.7454545454545455,
          0.7636363636363637,
          0.7818181818181819,
          0.8,
          0.8181818181818182,
          0.8363636363636363,
          0.8545454545454545,
          0.8727272727272727,
          0.8727272727272727,
          0.8727272727272727,
          0.8727272727272727,
          0.8909090909090909,
          0.8909090909090909,
          0.8909090909090909,
          0.8909090909090909,
          0.9090909090909091,
          0.9090909090909091,
          0.9272727272727272,
          0.9272727272727272,
          0.9272727272727272,
          0.9454545454545454,
          0.9454545454545454,
          0.9454545454545454,
          0.9636363636363636,
          0.9636363636363636,
          0.9636363636363636,
          0.9636363636363636,
          0.9636363636363636,
          0.9636363636363636,
          0.9636363636363636,
          0.9636363636363636,
          0.9636363636363636,
          0.9636363636363636,
          0.9636363636363636,
          0.9636363636363636,
          0.9636363636363636,
          0.9636363636363636,
          0.9636363636363636,
          0.9636363636363636,
          0.9636363636363636,
          0.9636363636363636,
          0.9636363636363636,
          0.9636363636363636,
          0.9636363636363636,
          0.9636363636363636,
          0.9636363636363636,
          0.9636363636363636,
          0.9636363636363636,
          0.9636363636363636,
          0.9636363636363636,
          0.9636363636363636,
          0.9636363636363636,
          0.9636363636363636,
          0.9818181818181818,
          0.9818181818181818,
          0.9818181818181818,
          0.9818181818181818,
          0.9818181818181818,
          0.9818181818181818,
          0.9818181818181818,
          0.9818181818181818,
          1,
          1,
          1,
          1,
          1,
          1,
          1,
          1,
          1,
          1,
          1,
          1,
          1,
          1,
          1,
          1,
          1,
          1,
          1,
          1,
          1,
          1,
          1,
          1,
          1,
          1,
          1,
          1,
          1,
          1,
          1,
          1,
          1,
          1,
          1,
          1,
          1,
          1,
          1,
          1,
          1,
          1
         ],
         "yaxis": "y"
        }
       ],
       "layout": {
        "legend": {
         "tracegroupgap": 0
        },
        "template": {
         "data": {
          "bar": [
           {
            "error_x": {
             "color": "#2a3f5f"
            },
            "error_y": {
             "color": "#2a3f5f"
            },
            "marker": {
             "line": {
              "color": "#E5ECF6",
              "width": 0.5
             },
             "pattern": {
              "fillmode": "overlay",
              "size": 10,
              "solidity": 0.2
             }
            },
            "type": "bar"
           }
          ],
          "barpolar": [
           {
            "marker": {
             "line": {
              "color": "#E5ECF6",
              "width": 0.5
             },
             "pattern": {
              "fillmode": "overlay",
              "size": 10,
              "solidity": 0.2
             }
            },
            "type": "barpolar"
           }
          ],
          "carpet": [
           {
            "aaxis": {
             "endlinecolor": "#2a3f5f",
             "gridcolor": "white",
             "linecolor": "white",
             "minorgridcolor": "white",
             "startlinecolor": "#2a3f5f"
            },
            "baxis": {
             "endlinecolor": "#2a3f5f",
             "gridcolor": "white",
             "linecolor": "white",
             "minorgridcolor": "white",
             "startlinecolor": "#2a3f5f"
            },
            "type": "carpet"
           }
          ],
          "choropleth": [
           {
            "colorbar": {
             "outlinewidth": 0,
             "ticks": ""
            },
            "type": "choropleth"
           }
          ],
          "contour": [
           {
            "colorbar": {
             "outlinewidth": 0,
             "ticks": ""
            },
            "colorscale": [
             [
              0,
              "#0d0887"
             ],
             [
              0.1111111111111111,
              "#46039f"
             ],
             [
              0.2222222222222222,
              "#7201a8"
             ],
             [
              0.3333333333333333,
              "#9c179e"
             ],
             [
              0.4444444444444444,
              "#bd3786"
             ],
             [
              0.5555555555555556,
              "#d8576b"
             ],
             [
              0.6666666666666666,
              "#ed7953"
             ],
             [
              0.7777777777777778,
              "#fb9f3a"
             ],
             [
              0.8888888888888888,
              "#fdca26"
             ],
             [
              1,
              "#f0f921"
             ]
            ],
            "type": "contour"
           }
          ],
          "contourcarpet": [
           {
            "colorbar": {
             "outlinewidth": 0,
             "ticks": ""
            },
            "type": "contourcarpet"
           }
          ],
          "heatmap": [
           {
            "colorbar": {
             "outlinewidth": 0,
             "ticks": ""
            },
            "colorscale": [
             [
              0,
              "#0d0887"
             ],
             [
              0.1111111111111111,
              "#46039f"
             ],
             [
              0.2222222222222222,
              "#7201a8"
             ],
             [
              0.3333333333333333,
              "#9c179e"
             ],
             [
              0.4444444444444444,
              "#bd3786"
             ],
             [
              0.5555555555555556,
              "#d8576b"
             ],
             [
              0.6666666666666666,
              "#ed7953"
             ],
             [
              0.7777777777777778,
              "#fb9f3a"
             ],
             [
              0.8888888888888888,
              "#fdca26"
             ],
             [
              1,
              "#f0f921"
             ]
            ],
            "type": "heatmap"
           }
          ],
          "heatmapgl": [
           {
            "colorbar": {
             "outlinewidth": 0,
             "ticks": ""
            },
            "colorscale": [
             [
              0,
              "#0d0887"
             ],
             [
              0.1111111111111111,
              "#46039f"
             ],
             [
              0.2222222222222222,
              "#7201a8"
             ],
             [
              0.3333333333333333,
              "#9c179e"
             ],
             [
              0.4444444444444444,
              "#bd3786"
             ],
             [
              0.5555555555555556,
              "#d8576b"
             ],
             [
              0.6666666666666666,
              "#ed7953"
             ],
             [
              0.7777777777777778,
              "#fb9f3a"
             ],
             [
              0.8888888888888888,
              "#fdca26"
             ],
             [
              1,
              "#f0f921"
             ]
            ],
            "type": "heatmapgl"
           }
          ],
          "histogram": [
           {
            "marker": {
             "pattern": {
              "fillmode": "overlay",
              "size": 10,
              "solidity": 0.2
             }
            },
            "type": "histogram"
           }
          ],
          "histogram2d": [
           {
            "colorbar": {
             "outlinewidth": 0,
             "ticks": ""
            },
            "colorscale": [
             [
              0,
              "#0d0887"
             ],
             [
              0.1111111111111111,
              "#46039f"
             ],
             [
              0.2222222222222222,
              "#7201a8"
             ],
             [
              0.3333333333333333,
              "#9c179e"
             ],
             [
              0.4444444444444444,
              "#bd3786"
             ],
             [
              0.5555555555555556,
              "#d8576b"
             ],
             [
              0.6666666666666666,
              "#ed7953"
             ],
             [
              0.7777777777777778,
              "#fb9f3a"
             ],
             [
              0.8888888888888888,
              "#fdca26"
             ],
             [
              1,
              "#f0f921"
             ]
            ],
            "type": "histogram2d"
           }
          ],
          "histogram2dcontour": [
           {
            "colorbar": {
             "outlinewidth": 0,
             "ticks": ""
            },
            "colorscale": [
             [
              0,
              "#0d0887"
             ],
             [
              0.1111111111111111,
              "#46039f"
             ],
             [
              0.2222222222222222,
              "#7201a8"
             ],
             [
              0.3333333333333333,
              "#9c179e"
             ],
             [
              0.4444444444444444,
              "#bd3786"
             ],
             [
              0.5555555555555556,
              "#d8576b"
             ],
             [
              0.6666666666666666,
              "#ed7953"
             ],
             [
              0.7777777777777778,
              "#fb9f3a"
             ],
             [
              0.8888888888888888,
              "#fdca26"
             ],
             [
              1,
              "#f0f921"
             ]
            ],
            "type": "histogram2dcontour"
           }
          ],
          "mesh3d": [
           {
            "colorbar": {
             "outlinewidth": 0,
             "ticks": ""
            },
            "type": "mesh3d"
           }
          ],
          "parcoords": [
           {
            "line": {
             "colorbar": {
              "outlinewidth": 0,
              "ticks": ""
             }
            },
            "type": "parcoords"
           }
          ],
          "pie": [
           {
            "automargin": true,
            "type": "pie"
           }
          ],
          "scatter": [
           {
            "fillpattern": {
             "fillmode": "overlay",
             "size": 10,
             "solidity": 0.2
            },
            "type": "scatter"
           }
          ],
          "scatter3d": [
           {
            "line": {
             "colorbar": {
              "outlinewidth": 0,
              "ticks": ""
             }
            },
            "marker": {
             "colorbar": {
              "outlinewidth": 0,
              "ticks": ""
             }
            },
            "type": "scatter3d"
           }
          ],
          "scattercarpet": [
           {
            "marker": {
             "colorbar": {
              "outlinewidth": 0,
              "ticks": ""
             }
            },
            "type": "scattercarpet"
           }
          ],
          "scattergeo": [
           {
            "marker": {
             "colorbar": {
              "outlinewidth": 0,
              "ticks": ""
             }
            },
            "type": "scattergeo"
           }
          ],
          "scattergl": [
           {
            "marker": {
             "colorbar": {
              "outlinewidth": 0,
              "ticks": ""
             }
            },
            "type": "scattergl"
           }
          ],
          "scattermapbox": [
           {
            "marker": {
             "colorbar": {
              "outlinewidth": 0,
              "ticks": ""
             }
            },
            "type": "scattermapbox"
           }
          ],
          "scatterpolar": [
           {
            "marker": {
             "colorbar": {
              "outlinewidth": 0,
              "ticks": ""
             }
            },
            "type": "scatterpolar"
           }
          ],
          "scatterpolargl": [
           {
            "marker": {
             "colorbar": {
              "outlinewidth": 0,
              "ticks": ""
             }
            },
            "type": "scatterpolargl"
           }
          ],
          "scatterternary": [
           {
            "marker": {
             "colorbar": {
              "outlinewidth": 0,
              "ticks": ""
             }
            },
            "type": "scatterternary"
           }
          ],
          "surface": [
           {
            "colorbar": {
             "outlinewidth": 0,
             "ticks": ""
            },
            "colorscale": [
             [
              0,
              "#0d0887"
             ],
             [
              0.1111111111111111,
              "#46039f"
             ],
             [
              0.2222222222222222,
              "#7201a8"
             ],
             [
              0.3333333333333333,
              "#9c179e"
             ],
             [
              0.4444444444444444,
              "#bd3786"
             ],
             [
              0.5555555555555556,
              "#d8576b"
             ],
             [
              0.6666666666666666,
              "#ed7953"
             ],
             [
              0.7777777777777778,
              "#fb9f3a"
             ],
             [
              0.8888888888888888,
              "#fdca26"
             ],
             [
              1,
              "#f0f921"
             ]
            ],
            "type": "surface"
           }
          ],
          "table": [
           {
            "cells": {
             "fill": {
              "color": "#EBF0F8"
             },
             "line": {
              "color": "white"
             }
            },
            "header": {
             "fill": {
              "color": "#C8D4E3"
             },
             "line": {
              "color": "white"
             }
            },
            "type": "table"
           }
          ]
         },
         "layout": {
          "annotationdefaults": {
           "arrowcolor": "#2a3f5f",
           "arrowhead": 0,
           "arrowwidth": 1
          },
          "autotypenumbers": "strict",
          "coloraxis": {
           "colorbar": {
            "outlinewidth": 0,
            "ticks": ""
           }
          },
          "colorscale": {
           "diverging": [
            [
             0,
             "#8e0152"
            ],
            [
             0.1,
             "#c51b7d"
            ],
            [
             0.2,
             "#de77ae"
            ],
            [
             0.3,
             "#f1b6da"
            ],
            [
             0.4,
             "#fde0ef"
            ],
            [
             0.5,
             "#f7f7f7"
            ],
            [
             0.6,
             "#e6f5d0"
            ],
            [
             0.7,
             "#b8e186"
            ],
            [
             0.8,
             "#7fbc41"
            ],
            [
             0.9,
             "#4d9221"
            ],
            [
             1,
             "#276419"
            ]
           ],
           "sequential": [
            [
             0,
             "#0d0887"
            ],
            [
             0.1111111111111111,
             "#46039f"
            ],
            [
             0.2222222222222222,
             "#7201a8"
            ],
            [
             0.3333333333333333,
             "#9c179e"
            ],
            [
             0.4444444444444444,
             "#bd3786"
            ],
            [
             0.5555555555555556,
             "#d8576b"
            ],
            [
             0.6666666666666666,
             "#ed7953"
            ],
            [
             0.7777777777777778,
             "#fb9f3a"
            ],
            [
             0.8888888888888888,
             "#fdca26"
            ],
            [
             1,
             "#f0f921"
            ]
           ],
           "sequentialminus": [
            [
             0,
             "#0d0887"
            ],
            [
             0.1111111111111111,
             "#46039f"
            ],
            [
             0.2222222222222222,
             "#7201a8"
            ],
            [
             0.3333333333333333,
             "#9c179e"
            ],
            [
             0.4444444444444444,
             "#bd3786"
            ],
            [
             0.5555555555555556,
             "#d8576b"
            ],
            [
             0.6666666666666666,
             "#ed7953"
            ],
            [
             0.7777777777777778,
             "#fb9f3a"
            ],
            [
             0.8888888888888888,
             "#fdca26"
            ],
            [
             1,
             "#f0f921"
            ]
           ]
          },
          "colorway": [
           "#636efa",
           "#EF553B",
           "#00cc96",
           "#ab63fa",
           "#FFA15A",
           "#19d3f3",
           "#FF6692",
           "#B6E880",
           "#FF97FF",
           "#FECB52"
          ],
          "font": {
           "color": "#2a3f5f"
          },
          "geo": {
           "bgcolor": "white",
           "lakecolor": "white",
           "landcolor": "#E5ECF6",
           "showlakes": true,
           "showland": true,
           "subunitcolor": "white"
          },
          "hoverlabel": {
           "align": "left"
          },
          "hovermode": "closest",
          "mapbox": {
           "style": "light"
          },
          "paper_bgcolor": "white",
          "plot_bgcolor": "#E5ECF6",
          "polar": {
           "angularaxis": {
            "gridcolor": "white",
            "linecolor": "white",
            "ticks": ""
           },
           "bgcolor": "#E5ECF6",
           "radialaxis": {
            "gridcolor": "white",
            "linecolor": "white",
            "ticks": ""
           }
          },
          "scene": {
           "xaxis": {
            "backgroundcolor": "#E5ECF6",
            "gridcolor": "white",
            "gridwidth": 2,
            "linecolor": "white",
            "showbackground": true,
            "ticks": "",
            "zerolinecolor": "white"
           },
           "yaxis": {
            "backgroundcolor": "#E5ECF6",
            "gridcolor": "white",
            "gridwidth": 2,
            "linecolor": "white",
            "showbackground": true,
            "ticks": "",
            "zerolinecolor": "white"
           },
           "zaxis": {
            "backgroundcolor": "#E5ECF6",
            "gridcolor": "white",
            "gridwidth": 2,
            "linecolor": "white",
            "showbackground": true,
            "ticks": "",
            "zerolinecolor": "white"
           }
          },
          "shapedefaults": {
           "line": {
            "color": "#2a3f5f"
           }
          },
          "ternary": {
           "aaxis": {
            "gridcolor": "white",
            "linecolor": "white",
            "ticks": ""
           },
           "baxis": {
            "gridcolor": "white",
            "linecolor": "white",
            "ticks": ""
           },
           "bgcolor": "#E5ECF6",
           "caxis": {
            "gridcolor": "white",
            "linecolor": "white",
            "ticks": ""
           }
          },
          "title": {
           "x": 0.05
          },
          "xaxis": {
           "automargin": true,
           "gridcolor": "white",
           "linecolor": "white",
           "ticks": "",
           "title": {
            "standoff": 15
           },
           "zerolinecolor": "white",
           "zerolinewidth": 2
          },
          "yaxis": {
           "automargin": true,
           "gridcolor": "white",
           "linecolor": "white",
           "ticks": "",
           "title": {
            "standoff": 15
           },
           "zerolinecolor": "white",
           "zerolinewidth": 2
          }
         }
        },
        "title": {
         "text": "ROC Curve - Test"
        },
        "xaxis": {
         "anchor": "y",
         "domain": [
          0,
          1
         ],
         "title": {
          "text": "False Positive Rate (FPR)"
         }
        },
        "yaxis": {
         "anchor": "x",
         "domain": [
          0,
          1
         ],
         "title": {
          "text": "True Positive Rate (TPR)"
         }
        }
       }
      }
     },
     "metadata": {},
     "output_type": "display_data"
    }
   ],
   "source": [
    "show_results(X_train, y_train, X_test, y_test, weights, bias, 0.1, 100, True)"
   ]
  },
  {
   "cell_type": "markdown",
   "metadata": {},
   "source": [
    "<span style=\"font-size:36px;\">Data - select only some features</span>"
   ]
  },
  {
   "cell_type": "code",
   "execution_count": 353,
   "metadata": {},
   "outputs": [],
   "source": [
    "df = pd.read_csv(\"data.csv\")\n",
    "\n",
    "X = df.iloc[:, 15:22].values\n",
    "y = df[\"Diagnosis\"].values\n",
    "N, D = X.shape\n",
    "X\n",
    "y = y.reshape(N, 1)\n",
    "\n",
    "X_train, X_test, y_train, y_test = train_test_split(\n",
    "    X, y, test_size=0.25, random_state=SEED\n",
    ")\n",
    "\n",
    "weights = np.random.randn(D, 1)\n",
    "bias = np.random.randn()"
   ]
  },
  {
   "cell_type": "markdown",
   "metadata": {},
   "source": [
    "<span style=\"font-size:36px;\">Use LogisticRegression without Normalize</span>"
   ]
  },
  {
   "cell_type": "code",
   "execution_count": 354,
   "metadata": {},
   "outputs": [
    {
     "name": "stdout",
     "output_type": "stream",
     "text": [
      "TRAIN\n",
      "Train Accuracy: 0.1431924882629108\n",
      "Train F1: 0.11192214111922141\n",
      "Train AUROC: 0.058887599744275806\n",
      "\n",
      "Sample predictions\n",
      "   y_train  y_class  y_predict\n",
      "0        0        0   0.479481\n",
      "1        1        1   0.502305\n",
      "2        0        1   0.517525\n",
      "3        1        0   0.494713\n",
      "4        0        1   0.510298\n"
     ]
    },
    {
     "data": {
      "application/vnd.plotly.v1+json": {
       "config": {
        "plotlyServerURL": "https://plot.ly"
       },
       "data": [
        {
         "hovertemplate": "Epoch=%{x}<br>Cost=%{y}<extra></extra>",
         "legendgroup": "",
         "line": {
          "color": "#636efa",
          "dash": "solid"
         },
         "marker": {
          "symbol": "circle"
         },
         "mode": "lines",
         "name": "",
         "orientation": "v",
         "showlegend": false,
         "type": "scatter",
         "x": [
          0,
          1,
          2,
          3,
          4,
          5,
          6,
          7,
          8,
          9,
          10,
          11,
          12,
          13,
          14,
          15,
          16,
          17,
          18,
          19,
          20,
          21,
          22,
          23,
          24,
          25,
          26,
          27,
          28,
          29,
          30,
          31,
          32,
          33,
          34,
          35,
          36,
          37,
          38,
          39,
          40,
          41,
          42,
          43,
          44,
          45,
          46,
          47,
          48,
          49,
          50,
          51,
          52,
          53,
          54,
          55,
          56,
          57,
          58,
          59,
          60,
          61,
          62,
          63,
          64,
          65,
          66,
          67,
          68,
          69,
          70,
          71,
          72,
          73,
          74,
          75,
          76,
          77,
          78,
          79,
          80,
          81,
          82,
          83,
          84,
          85,
          86,
          87,
          88,
          89,
          90,
          91,
          92,
          93,
          94,
          95,
          96,
          97,
          98,
          99
         ],
         "xaxis": "x",
         "y": [
          2.2033947702565677,
          2.147279242650407,
          2.0916556879494967,
          2.036568823591939,
          1.982066614630905,
          1.9282003243419121,
          1.8750245206526999,
          1.8225970282075283,
          1.7709788151180947,
          1.7202338029945006,
          1.670428588824149,
          1.6216320678215999,
          1.5739149476625571,
          1.5273491466881302,
          1.4820070718445428,
          1.4379607763841635,
          1.395281002698072,
          1.3540361219794887,
          1.314290989508179,
          1.276105741835472,
          1.239534569534306,
          1.204624505832917,
          1.1714142766687605,
          1.1399332607615804,
          1.110200608564935,
          1.08222456593905,
          1.0560020418864091,
          1.0315184498390182,
          1.008747839296323,
          0.9876533199633859,
          0.9681877650991075,
          0.950294765886191,
          0.9339097956084395,
          0.9189615324196969,
          0.905373283332932,
          0.8930644501316544,
          0.8819519801213074,
          0.8719517504749769,
          0.8629798435348283,
          0.8549536807686654,
          0.8477929940748336,
          0.8414206238029542,
          0.8357631424356977,
          0.83075131083138,
          0.8263203799897161,
          0.8224102554337698,
          0.8189655436384661,
          0.8159355007368707,
          0.8132739033175668,
          0.8109388598206688,
          0.808892579154966,
          0.8071011109594834,
          0.805534069630721,
          0.8041643519883984,
          0.8029678563637948,
          0.8019232090293293,
          0.8010115022760318,
          0.8002160470925576,
          0.7995221422941352,
          0.7989168610706211,
          0.7983888552425753,
          0.7979281770039466,
          0.7975261175610845,
          0.7971750618240074,
          0.7968683581435461,
          0.7966002019968792,
          0.7963655324868951,
          0.7961599405237063,
          0.7959795875880753,
          0.7958211340274969,
          0.7956816758991718,
          0.7955586894447633,
          0.7954499823556251,
          0.7953536510612376,
          0.7952680433457733,
          0.7951917256667033,
          0.7951234546141807,
          0.7950621520101661,
          0.7950068832016038,
          0.7949568381524251,
          0.7949113149848627,
          0.7948697056617069,
          0.79483148353801,
          0.7947961925436494,
          0.7947634377874196,
          0.7947328773992537,
          0.794704215450112,
          0.7946771958092883,
          0.7946515968166943,
          0.7946272266633146,
          0.7946039193867453,
          0.7945815314007454,
          0.7945599384882447,
          0.7945390331964312,
          0.79451872258057,
          0.7944989262501914,
          0.794479574677384,
          0.794460607732241,
          0.794441973415119,
          0.794423626759393
         ],
         "yaxis": "y"
        }
       ],
       "layout": {
        "legend": {
         "tracegroupgap": 0
        },
        "template": {
         "data": {
          "bar": [
           {
            "error_x": {
             "color": "#2a3f5f"
            },
            "error_y": {
             "color": "#2a3f5f"
            },
            "marker": {
             "line": {
              "color": "#E5ECF6",
              "width": 0.5
             },
             "pattern": {
              "fillmode": "overlay",
              "size": 10,
              "solidity": 0.2
             }
            },
            "type": "bar"
           }
          ],
          "barpolar": [
           {
            "marker": {
             "line": {
              "color": "#E5ECF6",
              "width": 0.5
             },
             "pattern": {
              "fillmode": "overlay",
              "size": 10,
              "solidity": 0.2
             }
            },
            "type": "barpolar"
           }
          ],
          "carpet": [
           {
            "aaxis": {
             "endlinecolor": "#2a3f5f",
             "gridcolor": "white",
             "linecolor": "white",
             "minorgridcolor": "white",
             "startlinecolor": "#2a3f5f"
            },
            "baxis": {
             "endlinecolor": "#2a3f5f",
             "gridcolor": "white",
             "linecolor": "white",
             "minorgridcolor": "white",
             "startlinecolor": "#2a3f5f"
            },
            "type": "carpet"
           }
          ],
          "choropleth": [
           {
            "colorbar": {
             "outlinewidth": 0,
             "ticks": ""
            },
            "type": "choropleth"
           }
          ],
          "contour": [
           {
            "colorbar": {
             "outlinewidth": 0,
             "ticks": ""
            },
            "colorscale": [
             [
              0,
              "#0d0887"
             ],
             [
              0.1111111111111111,
              "#46039f"
             ],
             [
              0.2222222222222222,
              "#7201a8"
             ],
             [
              0.3333333333333333,
              "#9c179e"
             ],
             [
              0.4444444444444444,
              "#bd3786"
             ],
             [
              0.5555555555555556,
              "#d8576b"
             ],
             [
              0.6666666666666666,
              "#ed7953"
             ],
             [
              0.7777777777777778,
              "#fb9f3a"
             ],
             [
              0.8888888888888888,
              "#fdca26"
             ],
             [
              1,
              "#f0f921"
             ]
            ],
            "type": "contour"
           }
          ],
          "contourcarpet": [
           {
            "colorbar": {
             "outlinewidth": 0,
             "ticks": ""
            },
            "type": "contourcarpet"
           }
          ],
          "heatmap": [
           {
            "colorbar": {
             "outlinewidth": 0,
             "ticks": ""
            },
            "colorscale": [
             [
              0,
              "#0d0887"
             ],
             [
              0.1111111111111111,
              "#46039f"
             ],
             [
              0.2222222222222222,
              "#7201a8"
             ],
             [
              0.3333333333333333,
              "#9c179e"
             ],
             [
              0.4444444444444444,
              "#bd3786"
             ],
             [
              0.5555555555555556,
              "#d8576b"
             ],
             [
              0.6666666666666666,
              "#ed7953"
             ],
             [
              0.7777777777777778,
              "#fb9f3a"
             ],
             [
              0.8888888888888888,
              "#fdca26"
             ],
             [
              1,
              "#f0f921"
             ]
            ],
            "type": "heatmap"
           }
          ],
          "heatmapgl": [
           {
            "colorbar": {
             "outlinewidth": 0,
             "ticks": ""
            },
            "colorscale": [
             [
              0,
              "#0d0887"
             ],
             [
              0.1111111111111111,
              "#46039f"
             ],
             [
              0.2222222222222222,
              "#7201a8"
             ],
             [
              0.3333333333333333,
              "#9c179e"
             ],
             [
              0.4444444444444444,
              "#bd3786"
             ],
             [
              0.5555555555555556,
              "#d8576b"
             ],
             [
              0.6666666666666666,
              "#ed7953"
             ],
             [
              0.7777777777777778,
              "#fb9f3a"
             ],
             [
              0.8888888888888888,
              "#fdca26"
             ],
             [
              1,
              "#f0f921"
             ]
            ],
            "type": "heatmapgl"
           }
          ],
          "histogram": [
           {
            "marker": {
             "pattern": {
              "fillmode": "overlay",
              "size": 10,
              "solidity": 0.2
             }
            },
            "type": "histogram"
           }
          ],
          "histogram2d": [
           {
            "colorbar": {
             "outlinewidth": 0,
             "ticks": ""
            },
            "colorscale": [
             [
              0,
              "#0d0887"
             ],
             [
              0.1111111111111111,
              "#46039f"
             ],
             [
              0.2222222222222222,
              "#7201a8"
             ],
             [
              0.3333333333333333,
              "#9c179e"
             ],
             [
              0.4444444444444444,
              "#bd3786"
             ],
             [
              0.5555555555555556,
              "#d8576b"
             ],
             [
              0.6666666666666666,
              "#ed7953"
             ],
             [
              0.7777777777777778,
              "#fb9f3a"
             ],
             [
              0.8888888888888888,
              "#fdca26"
             ],
             [
              1,
              "#f0f921"
             ]
            ],
            "type": "histogram2d"
           }
          ],
          "histogram2dcontour": [
           {
            "colorbar": {
             "outlinewidth": 0,
             "ticks": ""
            },
            "colorscale": [
             [
              0,
              "#0d0887"
             ],
             [
              0.1111111111111111,
              "#46039f"
             ],
             [
              0.2222222222222222,
              "#7201a8"
             ],
             [
              0.3333333333333333,
              "#9c179e"
             ],
             [
              0.4444444444444444,
              "#bd3786"
             ],
             [
              0.5555555555555556,
              "#d8576b"
             ],
             [
              0.6666666666666666,
              "#ed7953"
             ],
             [
              0.7777777777777778,
              "#fb9f3a"
             ],
             [
              0.8888888888888888,
              "#fdca26"
             ],
             [
              1,
              "#f0f921"
             ]
            ],
            "type": "histogram2dcontour"
           }
          ],
          "mesh3d": [
           {
            "colorbar": {
             "outlinewidth": 0,
             "ticks": ""
            },
            "type": "mesh3d"
           }
          ],
          "parcoords": [
           {
            "line": {
             "colorbar": {
              "outlinewidth": 0,
              "ticks": ""
             }
            },
            "type": "parcoords"
           }
          ],
          "pie": [
           {
            "automargin": true,
            "type": "pie"
           }
          ],
          "scatter": [
           {
            "fillpattern": {
             "fillmode": "overlay",
             "size": 10,
             "solidity": 0.2
            },
            "type": "scatter"
           }
          ],
          "scatter3d": [
           {
            "line": {
             "colorbar": {
              "outlinewidth": 0,
              "ticks": ""
             }
            },
            "marker": {
             "colorbar": {
              "outlinewidth": 0,
              "ticks": ""
             }
            },
            "type": "scatter3d"
           }
          ],
          "scattercarpet": [
           {
            "marker": {
             "colorbar": {
              "outlinewidth": 0,
              "ticks": ""
             }
            },
            "type": "scattercarpet"
           }
          ],
          "scattergeo": [
           {
            "marker": {
             "colorbar": {
              "outlinewidth": 0,
              "ticks": ""
             }
            },
            "type": "scattergeo"
           }
          ],
          "scattergl": [
           {
            "marker": {
             "colorbar": {
              "outlinewidth": 0,
              "ticks": ""
             }
            },
            "type": "scattergl"
           }
          ],
          "scattermapbox": [
           {
            "marker": {
             "colorbar": {
              "outlinewidth": 0,
              "ticks": ""
             }
            },
            "type": "scattermapbox"
           }
          ],
          "scatterpolar": [
           {
            "marker": {
             "colorbar": {
              "outlinewidth": 0,
              "ticks": ""
             }
            },
            "type": "scatterpolar"
           }
          ],
          "scatterpolargl": [
           {
            "marker": {
             "colorbar": {
              "outlinewidth": 0,
              "ticks": ""
             }
            },
            "type": "scatterpolargl"
           }
          ],
          "scatterternary": [
           {
            "marker": {
             "colorbar": {
              "outlinewidth": 0,
              "ticks": ""
             }
            },
            "type": "scatterternary"
           }
          ],
          "surface": [
           {
            "colorbar": {
             "outlinewidth": 0,
             "ticks": ""
            },
            "colorscale": [
             [
              0,
              "#0d0887"
             ],
             [
              0.1111111111111111,
              "#46039f"
             ],
             [
              0.2222222222222222,
              "#7201a8"
             ],
             [
              0.3333333333333333,
              "#9c179e"
             ],
             [
              0.4444444444444444,
              "#bd3786"
             ],
             [
              0.5555555555555556,
              "#d8576b"
             ],
             [
              0.6666666666666666,
              "#ed7953"
             ],
             [
              0.7777777777777778,
              "#fb9f3a"
             ],
             [
              0.8888888888888888,
              "#fdca26"
             ],
             [
              1,
              "#f0f921"
             ]
            ],
            "type": "surface"
           }
          ],
          "table": [
           {
            "cells": {
             "fill": {
              "color": "#EBF0F8"
             },
             "line": {
              "color": "white"
             }
            },
            "header": {
             "fill": {
              "color": "#C8D4E3"
             },
             "line": {
              "color": "white"
             }
            },
            "type": "table"
           }
          ]
         },
         "layout": {
          "annotationdefaults": {
           "arrowcolor": "#2a3f5f",
           "arrowhead": 0,
           "arrowwidth": 1
          },
          "autotypenumbers": "strict",
          "coloraxis": {
           "colorbar": {
            "outlinewidth": 0,
            "ticks": ""
           }
          },
          "colorscale": {
           "diverging": [
            [
             0,
             "#8e0152"
            ],
            [
             0.1,
             "#c51b7d"
            ],
            [
             0.2,
             "#de77ae"
            ],
            [
             0.3,
             "#f1b6da"
            ],
            [
             0.4,
             "#fde0ef"
            ],
            [
             0.5,
             "#f7f7f7"
            ],
            [
             0.6,
             "#e6f5d0"
            ],
            [
             0.7,
             "#b8e186"
            ],
            [
             0.8,
             "#7fbc41"
            ],
            [
             0.9,
             "#4d9221"
            ],
            [
             1,
             "#276419"
            ]
           ],
           "sequential": [
            [
             0,
             "#0d0887"
            ],
            [
             0.1111111111111111,
             "#46039f"
            ],
            [
             0.2222222222222222,
             "#7201a8"
            ],
            [
             0.3333333333333333,
             "#9c179e"
            ],
            [
             0.4444444444444444,
             "#bd3786"
            ],
            [
             0.5555555555555556,
             "#d8576b"
            ],
            [
             0.6666666666666666,
             "#ed7953"
            ],
            [
             0.7777777777777778,
             "#fb9f3a"
            ],
            [
             0.8888888888888888,
             "#fdca26"
            ],
            [
             1,
             "#f0f921"
            ]
           ],
           "sequentialminus": [
            [
             0,
             "#0d0887"
            ],
            [
             0.1111111111111111,
             "#46039f"
            ],
            [
             0.2222222222222222,
             "#7201a8"
            ],
            [
             0.3333333333333333,
             "#9c179e"
            ],
            [
             0.4444444444444444,
             "#bd3786"
            ],
            [
             0.5555555555555556,
             "#d8576b"
            ],
            [
             0.6666666666666666,
             "#ed7953"
            ],
            [
             0.7777777777777778,
             "#fb9f3a"
            ],
            [
             0.8888888888888888,
             "#fdca26"
            ],
            [
             1,
             "#f0f921"
            ]
           ]
          },
          "colorway": [
           "#636efa",
           "#EF553B",
           "#00cc96",
           "#ab63fa",
           "#FFA15A",
           "#19d3f3",
           "#FF6692",
           "#B6E880",
           "#FF97FF",
           "#FECB52"
          ],
          "font": {
           "color": "#2a3f5f"
          },
          "geo": {
           "bgcolor": "white",
           "lakecolor": "white",
           "landcolor": "#E5ECF6",
           "showlakes": true,
           "showland": true,
           "subunitcolor": "white"
          },
          "hoverlabel": {
           "align": "left"
          },
          "hovermode": "closest",
          "mapbox": {
           "style": "light"
          },
          "paper_bgcolor": "white",
          "plot_bgcolor": "#E5ECF6",
          "polar": {
           "angularaxis": {
            "gridcolor": "white",
            "linecolor": "white",
            "ticks": ""
           },
           "bgcolor": "#E5ECF6",
           "radialaxis": {
            "gridcolor": "white",
            "linecolor": "white",
            "ticks": ""
           }
          },
          "scene": {
           "xaxis": {
            "backgroundcolor": "#E5ECF6",
            "gridcolor": "white",
            "gridwidth": 2,
            "linecolor": "white",
            "showbackground": true,
            "ticks": "",
            "zerolinecolor": "white"
           },
           "yaxis": {
            "backgroundcolor": "#E5ECF6",
            "gridcolor": "white",
            "gridwidth": 2,
            "linecolor": "white",
            "showbackground": true,
            "ticks": "",
            "zerolinecolor": "white"
           },
           "zaxis": {
            "backgroundcolor": "#E5ECF6",
            "gridcolor": "white",
            "gridwidth": 2,
            "linecolor": "white",
            "showbackground": true,
            "ticks": "",
            "zerolinecolor": "white"
           }
          },
          "shapedefaults": {
           "line": {
            "color": "#2a3f5f"
           }
          },
          "ternary": {
           "aaxis": {
            "gridcolor": "white",
            "linecolor": "white",
            "ticks": ""
           },
           "baxis": {
            "gridcolor": "white",
            "linecolor": "white",
            "ticks": ""
           },
           "bgcolor": "#E5ECF6",
           "caxis": {
            "gridcolor": "white",
            "linecolor": "white",
            "ticks": ""
           }
          },
          "title": {
           "x": 0.05
          },
          "xaxis": {
           "automargin": true,
           "gridcolor": "white",
           "linecolor": "white",
           "ticks": "",
           "title": {
            "standoff": 15
           },
           "zerolinecolor": "white",
           "zerolinewidth": 2
          },
          "yaxis": {
           "automargin": true,
           "gridcolor": "white",
           "linecolor": "white",
           "ticks": "",
           "title": {
            "standoff": 15
           },
           "zerolinecolor": "white",
           "zerolinewidth": 2
          }
         }
        },
        "title": {
         "text": "Cost Function"
        },
        "xaxis": {
         "anchor": "y",
         "domain": [
          0,
          1
         ],
         "title": {
          "text": "Epoch"
         }
        },
        "yaxis": {
         "anchor": "x",
         "domain": [
          0,
          1
         ],
         "title": {
          "text": "Cost"
         }
        }
       }
      }
     },
     "metadata": {},
     "output_type": "display_data"
    },
    {
     "data": {
      "application/vnd.plotly.v1+json": {
       "config": {
        "plotlyServerURL": "https://plot.ly"
       },
       "data": [
        {
         "hovertemplate": "False Positive Rate (FPR)=%{x}<br>True Positive Rate (TPR)=%{y}<extra></extra>",
         "legendgroup": "",
         "line": {
          "color": "#636efa",
          "dash": "solid"
         },
         "marker": {
          "symbol": "circle"
         },
         "mode": "lines+markers",
         "name": "",
         "orientation": "v",
         "showlegend": false,
         "type": "scatter",
         "x": [
          0.0037174721189591198,
          0.0074349442379182396,
          0.01115241635687736,
          0.014869888475836479,
          0.018587360594795488,
          0.022304832713754608,
          0.026022304832713727,
          0.029739776951672847,
          0.03345724907063197,
          0.03717472118959109,
          0.040892193308550207,
          0.044609665427509326,
          0.048327137546468446,
          0.052044609665427455,
          0.055762081784386575,
          0.059479553903345694,
          0.06319702602230481,
          0.06691449814126393,
          0.07063197026022305,
          0.07434944237918217,
          0.0780669144981413,
          0.08178438661710041,
          0.08550185873605953,
          0.08921933085501854,
          0.09293680297397766,
          0.09665427509293678,
          0.1003717472118959,
          0.10408921933085502,
          0.10780669144981414,
          0.11152416356877326,
          0.11524163568773238,
          0.1189591078066915,
          0.12267657992565051,
          0.12639405204460963,
          0.13011152416356875,
          0.13382899628252787,
          0.137546468401487,
          0.1412639405204461,
          0.14498141263940523,
          0.14869888475836435,
          0.15241635687732347,
          0.15613382899628248,
          0.1598513011152416,
          0.16356877323420072,
          0.16728624535315983,
          0.17100371747211895,
          0.17472118959107807,
          0.1784386617100372,
          0.18215613382899631,
          0.18587360594795543,
          0.18959107806691455,
          0.19330855018587356,
          0.19702602230483268,
          0.2007434944237918,
          0.20446096654275092,
          0.20817843866171004,
          0.21189591078066916,
          0.21561338289962828,
          0.2193308550185874,
          0.2193308550185874,
          0.22304832713754652,
          0.22676579925650553,
          0.23048327137546465,
          0.23420074349442377,
          0.2379182156133829,
          0.241635687732342,
          0.24535315985130113,
          0.24535315985130113,
          0.24907063197026025,
          0.25278810408921937,
          0.2565055762081785,
          0.2602230483271375,
          0.2639405204460966,
          0.26765799256505574,
          0.27137546468401486,
          0.275092936802974,
          0.2788104089219331,
          0.2825278810408922,
          0.28624535315985133,
          0.28996282527881045,
          0.29368029739776946,
          0.2973977695167286,
          0.3011152416356877,
          0.3048327137546468,
          0.30855018587360594,
          0.31226765799256506,
          0.3159851301115242,
          0.3197026022304833,
          0.3234200743494424,
          0.32713754646840154,
          0.33085501858736055,
          0.33457249070631967,
          0.33457249070631967,
          0.3382899628252788,
          0.3420074349442379,
          0.34572490706319703,
          0.34944237918215615,
          0.35315985130111527,
          0.3568773234200744,
          0.3605947955390335,
          0.3643122676579925,
          0.36802973977695164,
          0.37174721189591076,
          0.3754646840148699,
          0.379182156133829,
          0.3828996282527881,
          0.38661710037174724,
          0.38661710037174724,
          0.39033457249070636,
          0.3940520446096655,
          0.3977695167286245,
          0.4014869888475836,
          0.4052044609665427,
          0.40892193308550184,
          0.40892193308550184,
          0.41263940520446096,
          0.4163568773234201,
          0.4200743494423792,
          0.4237918215613383,
          0.42750929368029744,
          0.43122676579925645,
          0.43494423791821557,
          0.4386617100371747,
          0.4423791821561338,
          0.44609665427509293,
          0.44981412639405205,
          0.45353159851301117,
          0.4572490706319703,
          0.4609665427509294,
          0.46468401486988853,
          0.46840148698884754,
          0.47211895910780666,
          0.4758364312267658,
          0.4795539033457249,
          0.483271375464684,
          0.48698884758364314,
          0.49070631970260226,
          0.4944237918215614,
          0.4981412639405205,
          0.5018587360594795,
          0.5018587360594795,
          0.5055762081784387,
          0.5092936802973977,
          0.5130111524163569,
          0.516728624535316,
          0.5204460966542751,
          0.5241635687732342,
          0.5278810408921932,
          0.5315985130111525,
          0.5353159851301115,
          0.5390334572490707,
          0.5427509293680297,
          0.5464684014869888,
          0.550185873605948,
          0.5539033457249071,
          0.5576208178438662,
          0.5613382899628252,
          0.5650557620817844,
          0.5687732342007434,
          0.5724907063197027,
          0.5762081784386617,
          0.5799256505576208,
          0.5836431226765799,
          0.587360594795539,
          0.5910780669144982,
          0.5947955390334573,
          0.5985130111524164,
          0.6022304832713754,
          0.6059479553903346,
          0.6059479553903346,
          0.6096654275092936,
          0.6133828996282528,
          0.6171003717472119,
          0.620817843866171,
          0.6245353159851301,
          0.6282527881040892,
          0.6319702602230484,
          0.6356877323420074,
          0.6394052044609666,
          0.6431226765799256,
          0.6468401486988847,
          0.6505576208178439,
          0.654275092936803,
          0.6579925650557621,
          0.6617100371747212,
          0.6654275092936803,
          0.6691449814126393,
          0.6728624535315986,
          0.6765799256505576,
          0.6765799256505576,
          0.6802973977695168,
          0.6840148698884758,
          0.6877323420074349,
          0.6914498141263941,
          0.6951672862453532,
          0.6988847583643123,
          0.7026022304832713,
          0.7063197026022305,
          0.7063197026022305,
          0.7100371747211895,
          0.7137546468401488,
          0.7174721189591078,
          0.7174721189591078,
          0.7211895910780669,
          0.724907063197026,
          0.7286245353159851,
          0.7323420074349443,
          0.7323420074349443,
          0.7360594795539033,
          0.7397769516728625,
          0.7434944237918215,
          0.7472118959107807,
          0.7509293680297398,
          0.7546468401486989,
          0.758364312267658,
          0.7620817843866171,
          0.7620817843866171,
          0.7620817843866171,
          0.7620817843866171,
          0.7657992565055762,
          0.7695167286245354,
          0.7695167286245354,
          0.7732342007434945,
          0.7769516728624535,
          0.7806691449814126,
          0.7806691449814126,
          0.7843866171003717,
          0.7881040892193308,
          0.79182156133829,
          0.7955390334572491,
          0.7992565055762082,
          0.8029739776951673,
          0.8066914498141264,
          0.8066914498141264,
          0.8104089219330854,
          0.8141263940520447,
          0.8178438661710037,
          0.8215613382899628,
          0.8252788104089219,
          0.8252788104089219,
          0.828996282527881,
          0.8327137546468402,
          0.8327137546468402,
          0.8327137546468402,
          0.8364312267657993,
          0.8401486988847584,
          0.8438661710037174,
          0.8438661710037174,
          0.8475836431226766,
          0.8475836431226766,
          0.8475836431226766,
          0.8513011152416357,
          0.8550185873605948,
          0.8587360594795539,
          0.862453531598513,
          0.8661710037174721,
          0.8698884758364313,
          0.8736059479553904,
          0.8736059479553904,
          0.8773234200743494,
          0.8810408921933086,
          0.8810408921933086,
          0.8847583643122676,
          0.8847583643122676,
          0.8884758364312267,
          0.8921933085501859,
          0.8921933085501859,
          0.8921933085501859,
          0.895910780669145,
          0.8996282527881041,
          0.9033457249070632,
          0.9033457249070632,
          0.9070631970260223,
          0.9070631970260223,
          0.9107806691449815,
          0.9144981412639406,
          0.9182156133828996,
          0.9219330855018587,
          0.9219330855018587,
          0.9256505576208178,
          0.929368029739777,
          0.9330855018587361,
          0.9368029739776952,
          0.9405204460966543,
          0.9442379182156134,
          0.9442379182156134,
          0.9442379182156134,
          0.9442379182156134,
          0.9442379182156134,
          0.9479553903345725,
          0.9516728624535316,
          0.9553903345724907,
          0.9553903345724907,
          0.9591078066914498,
          0.9591078066914498,
          0.9628252788104089,
          0.966542750929368,
          0.9702602230483272,
          0.9739776951672863,
          0.9776951672862454,
          0.9776951672862454,
          0.9776951672862454,
          0.9814126394052045,
          0.9814126394052045,
          0.9814126394052045,
          0.9814126394052045,
          0.9814126394052045,
          0.9851301115241635,
          0.9851301115241635,
          0.9851301115241635,
          0.9851301115241635,
          0.9888475836431226,
          0.9925650557620818,
          0.9925650557620818,
          0.9925650557620818,
          0.9925650557620818,
          0.9925650557620818,
          0.9925650557620818,
          0.9962825278810409,
          0.9962825278810409,
          0.9962825278810409,
          0.9962825278810409,
          0.9962825278810409,
          0.9962825278810409,
          0.9962825278810409,
          0.9962825278810409,
          0.9962825278810409,
          0.9962825278810409,
          0.9962825278810409,
          0.9962825278810409,
          0.9962825278810409,
          0.9962825278810409,
          0.9962825278810409,
          0.9962825278810409,
          0.9962825278810409,
          0.9962825278810409,
          0.9962825278810409,
          0.9962825278810409,
          0.9962825278810409,
          0.9962825278810409,
          0.9962825278810409,
          0.9962825278810409,
          0.9962825278810409,
          0.9962825278810409,
          0.9962825278810409,
          0.9962825278810409,
          1,
          1,
          1,
          1,
          1,
          1,
          1,
          1,
          1,
          1,
          1,
          1,
          1,
          1,
          1,
          1,
          1,
          1,
          1,
          1,
          1,
          1,
          1,
          1,
          1,
          1,
          1,
          1,
          1,
          1,
          1,
          1,
          1,
          1,
          1,
          1,
          1,
          1,
          1,
          1,
          1,
          1,
          1,
          1,
          1,
          1,
          1,
          1,
          1,
          1,
          1,
          1,
          1,
          1,
          1,
          1,
          1,
          1,
          1,
          1,
          1,
          1,
          1,
          1,
          1,
          1,
          1,
          1,
          1,
          1,
          1,
          1,
          1,
          1,
          1,
          1,
          1,
          1,
          1,
          1
         ],
         "xaxis": "x",
         "y": [
          0,
          0,
          0,
          0,
          0,
          0,
          0,
          0,
          0,
          0,
          0,
          0,
          0,
          0,
          0,
          0,
          0,
          0,
          0,
          0,
          0,
          0,
          0,
          0,
          0,
          0,
          0,
          0,
          0,
          0,
          0,
          0,
          0,
          0,
          0,
          0,
          0,
          0,
          0,
          0,
          0,
          0,
          0,
          0,
          0,
          0,
          0,
          0,
          0,
          0,
          0,
          0,
          0,
          0,
          0,
          0,
          0,
          0,
          0,
          0.006369426751592357,
          0.006369426751592357,
          0.006369426751592357,
          0.006369426751592357,
          0.006369426751592357,
          0.006369426751592357,
          0.006369426751592357,
          0.006369426751592357,
          0.012738853503184714,
          0.012738853503184714,
          0.012738853503184714,
          0.012738853503184714,
          0.012738853503184714,
          0.012738853503184714,
          0.012738853503184714,
          0.012738853503184714,
          0.012738853503184714,
          0.012738853503184714,
          0.012738853503184714,
          0.012738853503184714,
          0.012738853503184714,
          0.012738853503184714,
          0.012738853503184714,
          0.012738853503184714,
          0.012738853503184714,
          0.012738853503184714,
          0.012738853503184714,
          0.012738853503184714,
          0.012738853503184714,
          0.012738853503184714,
          0.012738853503184714,
          0.012738853503184714,
          0.012738853503184714,
          0.01910828025477707,
          0.01910828025477707,
          0.01910828025477707,
          0.01910828025477707,
          0.01910828025477707,
          0.01910828025477707,
          0.01910828025477707,
          0.01910828025477707,
          0.01910828025477707,
          0.01910828025477707,
          0.01910828025477707,
          0.01910828025477707,
          0.01910828025477707,
          0.01910828025477707,
          0.01910828025477707,
          0.025477707006369428,
          0.025477707006369428,
          0.025477707006369428,
          0.025477707006369428,
          0.025477707006369428,
          0.025477707006369428,
          0.025477707006369428,
          0.03184713375796178,
          0.03184713375796178,
          0.03184713375796178,
          0.03184713375796178,
          0.03184713375796178,
          0.03184713375796178,
          0.03184713375796178,
          0.03184713375796178,
          0.03184713375796178,
          0.03184713375796178,
          0.03184713375796178,
          0.03184713375796178,
          0.03184713375796178,
          0.03184713375796178,
          0.03184713375796178,
          0.03184713375796178,
          0.03184713375796178,
          0.03184713375796178,
          0.03184713375796178,
          0.03184713375796178,
          0.03184713375796178,
          0.03184713375796178,
          0.03184713375796178,
          0.03184713375796178,
          0.03184713375796178,
          0.03184713375796178,
          0.03821656050955414,
          0.03821656050955414,
          0.03821656050955414,
          0.03821656050955414,
          0.03821656050955414,
          0.03821656050955414,
          0.03821656050955414,
          0.03821656050955414,
          0.03821656050955414,
          0.03821656050955414,
          0.03821656050955414,
          0.03821656050955414,
          0.03821656050955414,
          0.03821656050955414,
          0.03821656050955414,
          0.03821656050955414,
          0.03821656050955414,
          0.03821656050955414,
          0.03821656050955414,
          0.03821656050955414,
          0.03821656050955414,
          0.03821656050955414,
          0.03821656050955414,
          0.03821656050955414,
          0.03821656050955414,
          0.03821656050955414,
          0.03821656050955414,
          0.03821656050955414,
          0.03821656050955414,
          0.044585987261146494,
          0.044585987261146494,
          0.044585987261146494,
          0.044585987261146494,
          0.044585987261146494,
          0.044585987261146494,
          0.044585987261146494,
          0.044585987261146494,
          0.044585987261146494,
          0.044585987261146494,
          0.044585987261146494,
          0.044585987261146494,
          0.044585987261146494,
          0.044585987261146494,
          0.044585987261146494,
          0.044585987261146494,
          0.044585987261146494,
          0.044585987261146494,
          0.044585987261146494,
          0.044585987261146494,
          0.050955414012738856,
          0.050955414012738856,
          0.050955414012738856,
          0.050955414012738856,
          0.050955414012738856,
          0.050955414012738856,
          0.050955414012738856,
          0.050955414012738856,
          0.050955414012738856,
          0.05732484076433121,
          0.05732484076433121,
          0.05732484076433121,
          0.05732484076433121,
          0.06369426751592357,
          0.06369426751592357,
          0.06369426751592357,
          0.06369426751592357,
          0.06369426751592357,
          0.07006369426751592,
          0.07006369426751592,
          0.07006369426751592,
          0.07006369426751592,
          0.07006369426751592,
          0.07006369426751592,
          0.07006369426751592,
          0.07006369426751592,
          0.07006369426751592,
          0.07643312101910828,
          0.08280254777070063,
          0.08917197452229299,
          0.08917197452229299,
          0.08917197452229299,
          0.09554140127388536,
          0.09554140127388536,
          0.09554140127388536,
          0.09554140127388536,
          0.10191082802547771,
          0.10191082802547771,
          0.10191082802547771,
          0.10191082802547771,
          0.10191082802547771,
          0.10191082802547771,
          0.10191082802547771,
          0.10191082802547771,
          0.10828025477707007,
          0.10828025477707007,
          0.10828025477707007,
          0.10828025477707007,
          0.10828025477707007,
          0.10828025477707007,
          0.11464968152866242,
          0.11464968152866242,
          0.11464968152866242,
          0.12101910828025478,
          0.12738853503184713,
          0.12738853503184713,
          0.12738853503184713,
          0.12738853503184713,
          0.1337579617834395,
          0.1337579617834395,
          0.14012738853503184,
          0.1464968152866242,
          0.1464968152866242,
          0.1464968152866242,
          0.1464968152866242,
          0.1464968152866242,
          0.1464968152866242,
          0.1464968152866242,
          0.1464968152866242,
          0.15286624203821655,
          0.15286624203821655,
          0.15286624203821655,
          0.1592356687898089,
          0.1592356687898089,
          0.16560509554140126,
          0.16560509554140126,
          0.16560509554140126,
          0.17197452229299362,
          0.17834394904458598,
          0.17834394904458598,
          0.17834394904458598,
          0.17834394904458598,
          0.18471337579617833,
          0.18471337579617833,
          0.1910828025477707,
          0.1910828025477707,
          0.1910828025477707,
          0.1910828025477707,
          0.1910828025477707,
          0.19745222929936307,
          0.19745222929936307,
          0.19745222929936307,
          0.19745222929936307,
          0.19745222929936307,
          0.19745222929936307,
          0.19745222929936307,
          0.20382165605095542,
          0.21019108280254778,
          0.21656050955414013,
          0.2229299363057325,
          0.2229299363057325,
          0.2229299363057325,
          0.2229299363057325,
          0.22929936305732485,
          0.22929936305732485,
          0.2356687898089172,
          0.2356687898089172,
          0.2356687898089172,
          0.2356687898089172,
          0.2356687898089172,
          0.2356687898089172,
          0.24203821656050956,
          0.2484076433121019,
          0.2484076433121019,
          0.25477707006369427,
          0.2611464968152866,
          0.267515923566879,
          0.27388535031847133,
          0.27388535031847133,
          0.2802547770700637,
          0.28662420382165604,
          0.2929936305732484,
          0.2929936305732484,
          0.2929936305732484,
          0.29936305732484075,
          0.3057324840764331,
          0.31210191082802546,
          0.3184713375796178,
          0.3248407643312102,
          0.3248407643312102,
          0.33121019108280253,
          0.3375796178343949,
          0.34394904458598724,
          0.3503184713375796,
          0.35668789808917195,
          0.3630573248407643,
          0.36942675159235666,
          0.37579617834394907,
          0.3821656050955414,
          0.3885350318471338,
          0.39490445859872614,
          0.4012738853503185,
          0.40764331210191085,
          0.4140127388535032,
          0.42038216560509556,
          0.4267515923566879,
          0.43312101910828027,
          0.4394904458598726,
          0.445859872611465,
          0.45222929936305734,
          0.4585987261146497,
          0.46496815286624205,
          0.4713375796178344,
          0.47770700636942676,
          0.4840764331210191,
          0.49044585987261147,
          0.4968152866242038,
          0.4968152866242038,
          0.5031847133757962,
          0.5095541401273885,
          0.5159235668789809,
          0.5222929936305732,
          0.5286624203821656,
          0.535031847133758,
          0.5414012738853503,
          0.5477707006369427,
          0.554140127388535,
          0.5605095541401274,
          0.5668789808917197,
          0.5732484076433121,
          0.5796178343949044,
          0.5859872611464968,
          0.5923566878980892,
          0.5987261146496815,
          0.6050955414012739,
          0.6114649681528662,
          0.6178343949044586,
          0.6242038216560509,
          0.6305732484076433,
          0.6369426751592356,
          0.643312101910828,
          0.6496815286624203,
          0.6560509554140127,
          0.6624203821656051,
          0.6687898089171974,
          0.6751592356687898,
          0.6815286624203821,
          0.6878980891719745,
          0.6942675159235668,
          0.7006369426751592,
          0.7070063694267515,
          0.7133757961783439,
          0.7197452229299363,
          0.7261146496815286,
          0.732484076433121,
          0.7388535031847133,
          0.7452229299363057,
          0.7515923566878981,
          0.7579617834394905,
          0.7643312101910829,
          0.7707006369426752,
          0.7770700636942676,
          0.7834394904458599,
          0.7898089171974523,
          0.7961783439490446,
          0.802547770700637,
          0.8089171974522293,
          0.8152866242038217,
          0.821656050955414,
          0.8280254777070064,
          0.8343949044585988,
          0.8407643312101911,
          0.8471337579617835,
          0.8535031847133758,
          0.8598726114649682,
          0.8662420382165605,
          0.8726114649681529,
          0.8789808917197452,
          0.8853503184713376,
          0.89171974522293,
          0.8980891719745223,
          0.9044585987261147,
          0.910828025477707,
          0.9171974522292994,
          0.9235668789808917,
          0.9299363057324841,
          0.9363057324840764,
          0.9426751592356688,
          0.9490445859872612,
          0.9554140127388535,
          0.9617834394904459,
          0.9681528662420382,
          0.9745222929936306,
          0.9808917197452229,
          0.9872611464968153,
          0.9936305732484076,
          1
         ],
         "yaxis": "y"
        }
       ],
       "layout": {
        "legend": {
         "tracegroupgap": 0
        },
        "template": {
         "data": {
          "bar": [
           {
            "error_x": {
             "color": "#2a3f5f"
            },
            "error_y": {
             "color": "#2a3f5f"
            },
            "marker": {
             "line": {
              "color": "#E5ECF6",
              "width": 0.5
             },
             "pattern": {
              "fillmode": "overlay",
              "size": 10,
              "solidity": 0.2
             }
            },
            "type": "bar"
           }
          ],
          "barpolar": [
           {
            "marker": {
             "line": {
              "color": "#E5ECF6",
              "width": 0.5
             },
             "pattern": {
              "fillmode": "overlay",
              "size": 10,
              "solidity": 0.2
             }
            },
            "type": "barpolar"
           }
          ],
          "carpet": [
           {
            "aaxis": {
             "endlinecolor": "#2a3f5f",
             "gridcolor": "white",
             "linecolor": "white",
             "minorgridcolor": "white",
             "startlinecolor": "#2a3f5f"
            },
            "baxis": {
             "endlinecolor": "#2a3f5f",
             "gridcolor": "white",
             "linecolor": "white",
             "minorgridcolor": "white",
             "startlinecolor": "#2a3f5f"
            },
            "type": "carpet"
           }
          ],
          "choropleth": [
           {
            "colorbar": {
             "outlinewidth": 0,
             "ticks": ""
            },
            "type": "choropleth"
           }
          ],
          "contour": [
           {
            "colorbar": {
             "outlinewidth": 0,
             "ticks": ""
            },
            "colorscale": [
             [
              0,
              "#0d0887"
             ],
             [
              0.1111111111111111,
              "#46039f"
             ],
             [
              0.2222222222222222,
              "#7201a8"
             ],
             [
              0.3333333333333333,
              "#9c179e"
             ],
             [
              0.4444444444444444,
              "#bd3786"
             ],
             [
              0.5555555555555556,
              "#d8576b"
             ],
             [
              0.6666666666666666,
              "#ed7953"
             ],
             [
              0.7777777777777778,
              "#fb9f3a"
             ],
             [
              0.8888888888888888,
              "#fdca26"
             ],
             [
              1,
              "#f0f921"
             ]
            ],
            "type": "contour"
           }
          ],
          "contourcarpet": [
           {
            "colorbar": {
             "outlinewidth": 0,
             "ticks": ""
            },
            "type": "contourcarpet"
           }
          ],
          "heatmap": [
           {
            "colorbar": {
             "outlinewidth": 0,
             "ticks": ""
            },
            "colorscale": [
             [
              0,
              "#0d0887"
             ],
             [
              0.1111111111111111,
              "#46039f"
             ],
             [
              0.2222222222222222,
              "#7201a8"
             ],
             [
              0.3333333333333333,
              "#9c179e"
             ],
             [
              0.4444444444444444,
              "#bd3786"
             ],
             [
              0.5555555555555556,
              "#d8576b"
             ],
             [
              0.6666666666666666,
              "#ed7953"
             ],
             [
              0.7777777777777778,
              "#fb9f3a"
             ],
             [
              0.8888888888888888,
              "#fdca26"
             ],
             [
              1,
              "#f0f921"
             ]
            ],
            "type": "heatmap"
           }
          ],
          "heatmapgl": [
           {
            "colorbar": {
             "outlinewidth": 0,
             "ticks": ""
            },
            "colorscale": [
             [
              0,
              "#0d0887"
             ],
             [
              0.1111111111111111,
              "#46039f"
             ],
             [
              0.2222222222222222,
              "#7201a8"
             ],
             [
              0.3333333333333333,
              "#9c179e"
             ],
             [
              0.4444444444444444,
              "#bd3786"
             ],
             [
              0.5555555555555556,
              "#d8576b"
             ],
             [
              0.6666666666666666,
              "#ed7953"
             ],
             [
              0.7777777777777778,
              "#fb9f3a"
             ],
             [
              0.8888888888888888,
              "#fdca26"
             ],
             [
              1,
              "#f0f921"
             ]
            ],
            "type": "heatmapgl"
           }
          ],
          "histogram": [
           {
            "marker": {
             "pattern": {
              "fillmode": "overlay",
              "size": 10,
              "solidity": 0.2
             }
            },
            "type": "histogram"
           }
          ],
          "histogram2d": [
           {
            "colorbar": {
             "outlinewidth": 0,
             "ticks": ""
            },
            "colorscale": [
             [
              0,
              "#0d0887"
             ],
             [
              0.1111111111111111,
              "#46039f"
             ],
             [
              0.2222222222222222,
              "#7201a8"
             ],
             [
              0.3333333333333333,
              "#9c179e"
             ],
             [
              0.4444444444444444,
              "#bd3786"
             ],
             [
              0.5555555555555556,
              "#d8576b"
             ],
             [
              0.6666666666666666,
              "#ed7953"
             ],
             [
              0.7777777777777778,
              "#fb9f3a"
             ],
             [
              0.8888888888888888,
              "#fdca26"
             ],
             [
              1,
              "#f0f921"
             ]
            ],
            "type": "histogram2d"
           }
          ],
          "histogram2dcontour": [
           {
            "colorbar": {
             "outlinewidth": 0,
             "ticks": ""
            },
            "colorscale": [
             [
              0,
              "#0d0887"
             ],
             [
              0.1111111111111111,
              "#46039f"
             ],
             [
              0.2222222222222222,
              "#7201a8"
             ],
             [
              0.3333333333333333,
              "#9c179e"
             ],
             [
              0.4444444444444444,
              "#bd3786"
             ],
             [
              0.5555555555555556,
              "#d8576b"
             ],
             [
              0.6666666666666666,
              "#ed7953"
             ],
             [
              0.7777777777777778,
              "#fb9f3a"
             ],
             [
              0.8888888888888888,
              "#fdca26"
             ],
             [
              1,
              "#f0f921"
             ]
            ],
            "type": "histogram2dcontour"
           }
          ],
          "mesh3d": [
           {
            "colorbar": {
             "outlinewidth": 0,
             "ticks": ""
            },
            "type": "mesh3d"
           }
          ],
          "parcoords": [
           {
            "line": {
             "colorbar": {
              "outlinewidth": 0,
              "ticks": ""
             }
            },
            "type": "parcoords"
           }
          ],
          "pie": [
           {
            "automargin": true,
            "type": "pie"
           }
          ],
          "scatter": [
           {
            "fillpattern": {
             "fillmode": "overlay",
             "size": 10,
             "solidity": 0.2
            },
            "type": "scatter"
           }
          ],
          "scatter3d": [
           {
            "line": {
             "colorbar": {
              "outlinewidth": 0,
              "ticks": ""
             }
            },
            "marker": {
             "colorbar": {
              "outlinewidth": 0,
              "ticks": ""
             }
            },
            "type": "scatter3d"
           }
          ],
          "scattercarpet": [
           {
            "marker": {
             "colorbar": {
              "outlinewidth": 0,
              "ticks": ""
             }
            },
            "type": "scattercarpet"
           }
          ],
          "scattergeo": [
           {
            "marker": {
             "colorbar": {
              "outlinewidth": 0,
              "ticks": ""
             }
            },
            "type": "scattergeo"
           }
          ],
          "scattergl": [
           {
            "marker": {
             "colorbar": {
              "outlinewidth": 0,
              "ticks": ""
             }
            },
            "type": "scattergl"
           }
          ],
          "scattermapbox": [
           {
            "marker": {
             "colorbar": {
              "outlinewidth": 0,
              "ticks": ""
             }
            },
            "type": "scattermapbox"
           }
          ],
          "scatterpolar": [
           {
            "marker": {
             "colorbar": {
              "outlinewidth": 0,
              "ticks": ""
             }
            },
            "type": "scatterpolar"
           }
          ],
          "scatterpolargl": [
           {
            "marker": {
             "colorbar": {
              "outlinewidth": 0,
              "ticks": ""
             }
            },
            "type": "scatterpolargl"
           }
          ],
          "scatterternary": [
           {
            "marker": {
             "colorbar": {
              "outlinewidth": 0,
              "ticks": ""
             }
            },
            "type": "scatterternary"
           }
          ],
          "surface": [
           {
            "colorbar": {
             "outlinewidth": 0,
             "ticks": ""
            },
            "colorscale": [
             [
              0,
              "#0d0887"
             ],
             [
              0.1111111111111111,
              "#46039f"
             ],
             [
              0.2222222222222222,
              "#7201a8"
             ],
             [
              0.3333333333333333,
              "#9c179e"
             ],
             [
              0.4444444444444444,
              "#bd3786"
             ],
             [
              0.5555555555555556,
              "#d8576b"
             ],
             [
              0.6666666666666666,
              "#ed7953"
             ],
             [
              0.7777777777777778,
              "#fb9f3a"
             ],
             [
              0.8888888888888888,
              "#fdca26"
             ],
             [
              1,
              "#f0f921"
             ]
            ],
            "type": "surface"
           }
          ],
          "table": [
           {
            "cells": {
             "fill": {
              "color": "#EBF0F8"
             },
             "line": {
              "color": "white"
             }
            },
            "header": {
             "fill": {
              "color": "#C8D4E3"
             },
             "line": {
              "color": "white"
             }
            },
            "type": "table"
           }
          ]
         },
         "layout": {
          "annotationdefaults": {
           "arrowcolor": "#2a3f5f",
           "arrowhead": 0,
           "arrowwidth": 1
          },
          "autotypenumbers": "strict",
          "coloraxis": {
           "colorbar": {
            "outlinewidth": 0,
            "ticks": ""
           }
          },
          "colorscale": {
           "diverging": [
            [
             0,
             "#8e0152"
            ],
            [
             0.1,
             "#c51b7d"
            ],
            [
             0.2,
             "#de77ae"
            ],
            [
             0.3,
             "#f1b6da"
            ],
            [
             0.4,
             "#fde0ef"
            ],
            [
             0.5,
             "#f7f7f7"
            ],
            [
             0.6,
             "#e6f5d0"
            ],
            [
             0.7,
             "#b8e186"
            ],
            [
             0.8,
             "#7fbc41"
            ],
            [
             0.9,
             "#4d9221"
            ],
            [
             1,
             "#276419"
            ]
           ],
           "sequential": [
            [
             0,
             "#0d0887"
            ],
            [
             0.1111111111111111,
             "#46039f"
            ],
            [
             0.2222222222222222,
             "#7201a8"
            ],
            [
             0.3333333333333333,
             "#9c179e"
            ],
            [
             0.4444444444444444,
             "#bd3786"
            ],
            [
             0.5555555555555556,
             "#d8576b"
            ],
            [
             0.6666666666666666,
             "#ed7953"
            ],
            [
             0.7777777777777778,
             "#fb9f3a"
            ],
            [
             0.8888888888888888,
             "#fdca26"
            ],
            [
             1,
             "#f0f921"
            ]
           ],
           "sequentialminus": [
            [
             0,
             "#0d0887"
            ],
            [
             0.1111111111111111,
             "#46039f"
            ],
            [
             0.2222222222222222,
             "#7201a8"
            ],
            [
             0.3333333333333333,
             "#9c179e"
            ],
            [
             0.4444444444444444,
             "#bd3786"
            ],
            [
             0.5555555555555556,
             "#d8576b"
            ],
            [
             0.6666666666666666,
             "#ed7953"
            ],
            [
             0.7777777777777778,
             "#fb9f3a"
            ],
            [
             0.8888888888888888,
             "#fdca26"
            ],
            [
             1,
             "#f0f921"
            ]
           ]
          },
          "colorway": [
           "#636efa",
           "#EF553B",
           "#00cc96",
           "#ab63fa",
           "#FFA15A",
           "#19d3f3",
           "#FF6692",
           "#B6E880",
           "#FF97FF",
           "#FECB52"
          ],
          "font": {
           "color": "#2a3f5f"
          },
          "geo": {
           "bgcolor": "white",
           "lakecolor": "white",
           "landcolor": "#E5ECF6",
           "showlakes": true,
           "showland": true,
           "subunitcolor": "white"
          },
          "hoverlabel": {
           "align": "left"
          },
          "hovermode": "closest",
          "mapbox": {
           "style": "light"
          },
          "paper_bgcolor": "white",
          "plot_bgcolor": "#E5ECF6",
          "polar": {
           "angularaxis": {
            "gridcolor": "white",
            "linecolor": "white",
            "ticks": ""
           },
           "bgcolor": "#E5ECF6",
           "radialaxis": {
            "gridcolor": "white",
            "linecolor": "white",
            "ticks": ""
           }
          },
          "scene": {
           "xaxis": {
            "backgroundcolor": "#E5ECF6",
            "gridcolor": "white",
            "gridwidth": 2,
            "linecolor": "white",
            "showbackground": true,
            "ticks": "",
            "zerolinecolor": "white"
           },
           "yaxis": {
            "backgroundcolor": "#E5ECF6",
            "gridcolor": "white",
            "gridwidth": 2,
            "linecolor": "white",
            "showbackground": true,
            "ticks": "",
            "zerolinecolor": "white"
           },
           "zaxis": {
            "backgroundcolor": "#E5ECF6",
            "gridcolor": "white",
            "gridwidth": 2,
            "linecolor": "white",
            "showbackground": true,
            "ticks": "",
            "zerolinecolor": "white"
           }
          },
          "shapedefaults": {
           "line": {
            "color": "#2a3f5f"
           }
          },
          "ternary": {
           "aaxis": {
            "gridcolor": "white",
            "linecolor": "white",
            "ticks": ""
           },
           "baxis": {
            "gridcolor": "white",
            "linecolor": "white",
            "ticks": ""
           },
           "bgcolor": "#E5ECF6",
           "caxis": {
            "gridcolor": "white",
            "linecolor": "white",
            "ticks": ""
           }
          },
          "title": {
           "x": 0.05
          },
          "xaxis": {
           "automargin": true,
           "gridcolor": "white",
           "linecolor": "white",
           "ticks": "",
           "title": {
            "standoff": 15
           },
           "zerolinecolor": "white",
           "zerolinewidth": 2
          },
          "yaxis": {
           "automargin": true,
           "gridcolor": "white",
           "linecolor": "white",
           "ticks": "",
           "title": {
            "standoff": 15
           },
           "zerolinecolor": "white",
           "zerolinewidth": 2
          }
         }
        },
        "title": {
         "text": "ROC Curve - Train"
        },
        "xaxis": {
         "anchor": "y",
         "domain": [
          0,
          1
         ],
         "title": {
          "text": "False Positive Rate (FPR)"
         }
        },
        "yaxis": {
         "anchor": "x",
         "domain": [
          0,
          1
         ],
         "title": {
          "text": "True Positive Rate (TPR)"
         }
        }
       }
      }
     },
     "metadata": {},
     "output_type": "display_data"
    },
    {
     "name": "stdout",
     "output_type": "stream",
     "text": [
      "TEST\n",
      "Test Accuracy: 0.11888111888111888\n",
      "Test F1: 0.08695652173913043\n",
      "Test AUROC: 0.04008264462809917\n",
      "\n",
      "Sample predictions\n",
      "   y_test  y_class  y_predict\n",
      "0       0        1   0.529731\n",
      "1       0        1   0.551136\n",
      "2       0        1   0.567124\n",
      "3       0        1   0.572398\n",
      "4       0        1   0.500792\n"
     ]
    },
    {
     "data": {
      "application/vnd.plotly.v1+json": {
       "config": {
        "plotlyServerURL": "https://plot.ly"
       },
       "data": [
        {
         "hovertemplate": "False Positive Rate (FPR)=%{x}<br>True Positive Rate (TPR)=%{y}<extra></extra>",
         "legendgroup": "",
         "line": {
          "color": "#636efa",
          "dash": "solid"
         },
         "marker": {
          "symbol": "circle"
         },
         "mode": "lines+markers",
         "name": "",
         "orientation": "v",
         "showlegend": false,
         "type": "scatter",
         "x": [
          0.011363636363636354,
          0.022727272727272707,
          0.03409090909090906,
          0.045454545454545414,
          0.05681818181818177,
          0.06818181818181823,
          0.07954545454545459,
          0.09090909090909094,
          0.10227272727272729,
          0.11363636363636365,
          0.125,
          0.13636363636363635,
          0.1477272727272727,
          0.15909090909090906,
          0.17045454545454541,
          0.18181818181818177,
          0.19318181818181823,
          0.20454545454545459,
          0.21590909090909094,
          0.2272727272727273,
          0.23863636363636365,
          0.25,
          0.26136363636363635,
          0.2727272727272727,
          0.28409090909090906,
          0.2954545454545454,
          0.30681818181818177,
          0.31818181818181823,
          0.3295454545454546,
          0.34090909090909094,
          0.3522727272727273,
          0.36363636363636365,
          0.375,
          0.38636363636363635,
          0.3977272727272727,
          0.40909090909090906,
          0.4204545454545454,
          0.43181818181818177,
          0.44318181818181823,
          0.4545454545454546,
          0.46590909090909094,
          0.4772727272727273,
          0.48863636363636365,
          0.5,
          0.5113636363636364,
          0.5113636363636364,
          0.5227272727272727,
          0.5340909090909092,
          0.5454545454545454,
          0.5568181818181819,
          0.5681818181818181,
          0.5795454545454546,
          0.5909090909090908,
          0.6022727272727273,
          0.6136363636363636,
          0.625,
          0.6363636363636364,
          0.6363636363636364,
          0.6477272727272727,
          0.6590909090909092,
          0.6704545454545454,
          0.6818181818181819,
          0.6931818181818181,
          0.7045454545454546,
          0.7159090909090908,
          0.7159090909090908,
          0.7272727272727273,
          0.7386363636363636,
          0.75,
          0.7613636363636364,
          0.7727272727272727,
          0.7840909090909091,
          0.7840909090909091,
          0.7954545454545454,
          0.8068181818181819,
          0.8181818181818181,
          0.8295454545454546,
          0.8409090909090909,
          0.8522727272727273,
          0.8522727272727273,
          0.8522727272727273,
          0.8636363636363636,
          0.875,
          0.8863636363636364,
          0.8977272727272727,
          0.8977272727272727,
          0.9090909090909091,
          0.9090909090909091,
          0.9090909090909091,
          0.9204545454545454,
          0.9318181818181819,
          0.9318181818181819,
          0.9431818181818182,
          0.9431818181818182,
          0.9545454545454546,
          0.9659090909090909,
          0.9659090909090909,
          0.9659090909090909,
          0.9659090909090909,
          0.9772727272727273,
          0.9772727272727273,
          0.9886363636363636,
          0.9886363636363636,
          0.9886363636363636,
          1,
          1,
          1,
          1,
          1,
          1,
          1,
          1,
          1,
          1,
          1,
          1,
          1,
          1,
          1,
          1,
          1,
          1,
          1,
          1,
          1,
          1,
          1,
          1,
          1,
          1,
          1,
          1,
          1,
          1,
          1,
          1,
          1,
          1,
          1,
          1,
          1,
          1,
          1
         ],
         "xaxis": "x",
         "y": [
          0,
          0,
          0,
          0,
          0,
          0,
          0,
          0,
          0,
          0,
          0,
          0,
          0,
          0,
          0,
          0,
          0,
          0,
          0,
          0,
          0,
          0,
          0,
          0,
          0,
          0,
          0,
          0,
          0,
          0,
          0,
          0,
          0,
          0,
          0,
          0,
          0,
          0,
          0,
          0,
          0,
          0,
          0,
          0,
          0,
          0.01818181818181818,
          0.01818181818181818,
          0.01818181818181818,
          0.01818181818181818,
          0.01818181818181818,
          0.01818181818181818,
          0.01818181818181818,
          0.01818181818181818,
          0.01818181818181818,
          0.01818181818181818,
          0.01818181818181818,
          0.01818181818181818,
          0.03636363636363636,
          0.03636363636363636,
          0.03636363636363636,
          0.03636363636363636,
          0.03636363636363636,
          0.03636363636363636,
          0.03636363636363636,
          0.03636363636363636,
          0.05454545454545454,
          0.05454545454545454,
          0.05454545454545454,
          0.05454545454545454,
          0.05454545454545454,
          0.05454545454545454,
          0.05454545454545454,
          0.07272727272727272,
          0.07272727272727272,
          0.07272727272727272,
          0.07272727272727272,
          0.07272727272727272,
          0.07272727272727272,
          0.07272727272727272,
          0.09090909090909091,
          0.10909090909090909,
          0.10909090909090909,
          0.10909090909090909,
          0.10909090909090909,
          0.10909090909090909,
          0.12727272727272726,
          0.12727272727272726,
          0.14545454545454545,
          0.16363636363636364,
          0.16363636363636364,
          0.16363636363636364,
          0.18181818181818182,
          0.18181818181818182,
          0.2,
          0.2,
          0.2,
          0.21818181818181817,
          0.23636363636363636,
          0.2545454545454545,
          0.2545454545454545,
          0.2727272727272727,
          0.2727272727272727,
          0.2909090909090909,
          0.3090909090909091,
          0.3090909090909091,
          0.32727272727272727,
          0.34545454545454546,
          0.36363636363636365,
          0.38181818181818183,
          0.4,
          0.41818181818181815,
          0.43636363636363634,
          0.45454545454545453,
          0.4727272727272727,
          0.4909090909090909,
          0.509090909090909,
          0.5272727272727272,
          0.5454545454545454,
          0.5636363636363636,
          0.5818181818181818,
          0.6,
          0.6181818181818182,
          0.6363636363636364,
          0.6545454545454545,
          0.6727272727272727,
          0.6909090909090909,
          0.7090909090909091,
          0.7272727272727273,
          0.7454545454545455,
          0.7636363636363637,
          0.7818181818181819,
          0.8,
          0.8181818181818182,
          0.8363636363636363,
          0.8545454545454545,
          0.8727272727272727,
          0.8909090909090909,
          0.9090909090909091,
          0.9272727272727272,
          0.9454545454545454,
          0.9636363636363636,
          0.9818181818181818,
          1
         ],
         "yaxis": "y"
        }
       ],
       "layout": {
        "legend": {
         "tracegroupgap": 0
        },
        "template": {
         "data": {
          "bar": [
           {
            "error_x": {
             "color": "#2a3f5f"
            },
            "error_y": {
             "color": "#2a3f5f"
            },
            "marker": {
             "line": {
              "color": "#E5ECF6",
              "width": 0.5
             },
             "pattern": {
              "fillmode": "overlay",
              "size": 10,
              "solidity": 0.2
             }
            },
            "type": "bar"
           }
          ],
          "barpolar": [
           {
            "marker": {
             "line": {
              "color": "#E5ECF6",
              "width": 0.5
             },
             "pattern": {
              "fillmode": "overlay",
              "size": 10,
              "solidity": 0.2
             }
            },
            "type": "barpolar"
           }
          ],
          "carpet": [
           {
            "aaxis": {
             "endlinecolor": "#2a3f5f",
             "gridcolor": "white",
             "linecolor": "white",
             "minorgridcolor": "white",
             "startlinecolor": "#2a3f5f"
            },
            "baxis": {
             "endlinecolor": "#2a3f5f",
             "gridcolor": "white",
             "linecolor": "white",
             "minorgridcolor": "white",
             "startlinecolor": "#2a3f5f"
            },
            "type": "carpet"
           }
          ],
          "choropleth": [
           {
            "colorbar": {
             "outlinewidth": 0,
             "ticks": ""
            },
            "type": "choropleth"
           }
          ],
          "contour": [
           {
            "colorbar": {
             "outlinewidth": 0,
             "ticks": ""
            },
            "colorscale": [
             [
              0,
              "#0d0887"
             ],
             [
              0.1111111111111111,
              "#46039f"
             ],
             [
              0.2222222222222222,
              "#7201a8"
             ],
             [
              0.3333333333333333,
              "#9c179e"
             ],
             [
              0.4444444444444444,
              "#bd3786"
             ],
             [
              0.5555555555555556,
              "#d8576b"
             ],
             [
              0.6666666666666666,
              "#ed7953"
             ],
             [
              0.7777777777777778,
              "#fb9f3a"
             ],
             [
              0.8888888888888888,
              "#fdca26"
             ],
             [
              1,
              "#f0f921"
             ]
            ],
            "type": "contour"
           }
          ],
          "contourcarpet": [
           {
            "colorbar": {
             "outlinewidth": 0,
             "ticks": ""
            },
            "type": "contourcarpet"
           }
          ],
          "heatmap": [
           {
            "colorbar": {
             "outlinewidth": 0,
             "ticks": ""
            },
            "colorscale": [
             [
              0,
              "#0d0887"
             ],
             [
              0.1111111111111111,
              "#46039f"
             ],
             [
              0.2222222222222222,
              "#7201a8"
             ],
             [
              0.3333333333333333,
              "#9c179e"
             ],
             [
              0.4444444444444444,
              "#bd3786"
             ],
             [
              0.5555555555555556,
              "#d8576b"
             ],
             [
              0.6666666666666666,
              "#ed7953"
             ],
             [
              0.7777777777777778,
              "#fb9f3a"
             ],
             [
              0.8888888888888888,
              "#fdca26"
             ],
             [
              1,
              "#f0f921"
             ]
            ],
            "type": "heatmap"
           }
          ],
          "heatmapgl": [
           {
            "colorbar": {
             "outlinewidth": 0,
             "ticks": ""
            },
            "colorscale": [
             [
              0,
              "#0d0887"
             ],
             [
              0.1111111111111111,
              "#46039f"
             ],
             [
              0.2222222222222222,
              "#7201a8"
             ],
             [
              0.3333333333333333,
              "#9c179e"
             ],
             [
              0.4444444444444444,
              "#bd3786"
             ],
             [
              0.5555555555555556,
              "#d8576b"
             ],
             [
              0.6666666666666666,
              "#ed7953"
             ],
             [
              0.7777777777777778,
              "#fb9f3a"
             ],
             [
              0.8888888888888888,
              "#fdca26"
             ],
             [
              1,
              "#f0f921"
             ]
            ],
            "type": "heatmapgl"
           }
          ],
          "histogram": [
           {
            "marker": {
             "pattern": {
              "fillmode": "overlay",
              "size": 10,
              "solidity": 0.2
             }
            },
            "type": "histogram"
           }
          ],
          "histogram2d": [
           {
            "colorbar": {
             "outlinewidth": 0,
             "ticks": ""
            },
            "colorscale": [
             [
              0,
              "#0d0887"
             ],
             [
              0.1111111111111111,
              "#46039f"
             ],
             [
              0.2222222222222222,
              "#7201a8"
             ],
             [
              0.3333333333333333,
              "#9c179e"
             ],
             [
              0.4444444444444444,
              "#bd3786"
             ],
             [
              0.5555555555555556,
              "#d8576b"
             ],
             [
              0.6666666666666666,
              "#ed7953"
             ],
             [
              0.7777777777777778,
              "#fb9f3a"
             ],
             [
              0.8888888888888888,
              "#fdca26"
             ],
             [
              1,
              "#f0f921"
             ]
            ],
            "type": "histogram2d"
           }
          ],
          "histogram2dcontour": [
           {
            "colorbar": {
             "outlinewidth": 0,
             "ticks": ""
            },
            "colorscale": [
             [
              0,
              "#0d0887"
             ],
             [
              0.1111111111111111,
              "#46039f"
             ],
             [
              0.2222222222222222,
              "#7201a8"
             ],
             [
              0.3333333333333333,
              "#9c179e"
             ],
             [
              0.4444444444444444,
              "#bd3786"
             ],
             [
              0.5555555555555556,
              "#d8576b"
             ],
             [
              0.6666666666666666,
              "#ed7953"
             ],
             [
              0.7777777777777778,
              "#fb9f3a"
             ],
             [
              0.8888888888888888,
              "#fdca26"
             ],
             [
              1,
              "#f0f921"
             ]
            ],
            "type": "histogram2dcontour"
           }
          ],
          "mesh3d": [
           {
            "colorbar": {
             "outlinewidth": 0,
             "ticks": ""
            },
            "type": "mesh3d"
           }
          ],
          "parcoords": [
           {
            "line": {
             "colorbar": {
              "outlinewidth": 0,
              "ticks": ""
             }
            },
            "type": "parcoords"
           }
          ],
          "pie": [
           {
            "automargin": true,
            "type": "pie"
           }
          ],
          "scatter": [
           {
            "fillpattern": {
             "fillmode": "overlay",
             "size": 10,
             "solidity": 0.2
            },
            "type": "scatter"
           }
          ],
          "scatter3d": [
           {
            "line": {
             "colorbar": {
              "outlinewidth": 0,
              "ticks": ""
             }
            },
            "marker": {
             "colorbar": {
              "outlinewidth": 0,
              "ticks": ""
             }
            },
            "type": "scatter3d"
           }
          ],
          "scattercarpet": [
           {
            "marker": {
             "colorbar": {
              "outlinewidth": 0,
              "ticks": ""
             }
            },
            "type": "scattercarpet"
           }
          ],
          "scattergeo": [
           {
            "marker": {
             "colorbar": {
              "outlinewidth": 0,
              "ticks": ""
             }
            },
            "type": "scattergeo"
           }
          ],
          "scattergl": [
           {
            "marker": {
             "colorbar": {
              "outlinewidth": 0,
              "ticks": ""
             }
            },
            "type": "scattergl"
           }
          ],
          "scattermapbox": [
           {
            "marker": {
             "colorbar": {
              "outlinewidth": 0,
              "ticks": ""
             }
            },
            "type": "scattermapbox"
           }
          ],
          "scatterpolar": [
           {
            "marker": {
             "colorbar": {
              "outlinewidth": 0,
              "ticks": ""
             }
            },
            "type": "scatterpolar"
           }
          ],
          "scatterpolargl": [
           {
            "marker": {
             "colorbar": {
              "outlinewidth": 0,
              "ticks": ""
             }
            },
            "type": "scatterpolargl"
           }
          ],
          "scatterternary": [
           {
            "marker": {
             "colorbar": {
              "outlinewidth": 0,
              "ticks": ""
             }
            },
            "type": "scatterternary"
           }
          ],
          "surface": [
           {
            "colorbar": {
             "outlinewidth": 0,
             "ticks": ""
            },
            "colorscale": [
             [
              0,
              "#0d0887"
             ],
             [
              0.1111111111111111,
              "#46039f"
             ],
             [
              0.2222222222222222,
              "#7201a8"
             ],
             [
              0.3333333333333333,
              "#9c179e"
             ],
             [
              0.4444444444444444,
              "#bd3786"
             ],
             [
              0.5555555555555556,
              "#d8576b"
             ],
             [
              0.6666666666666666,
              "#ed7953"
             ],
             [
              0.7777777777777778,
              "#fb9f3a"
             ],
             [
              0.8888888888888888,
              "#fdca26"
             ],
             [
              1,
              "#f0f921"
             ]
            ],
            "type": "surface"
           }
          ],
          "table": [
           {
            "cells": {
             "fill": {
              "color": "#EBF0F8"
             },
             "line": {
              "color": "white"
             }
            },
            "header": {
             "fill": {
              "color": "#C8D4E3"
             },
             "line": {
              "color": "white"
             }
            },
            "type": "table"
           }
          ]
         },
         "layout": {
          "annotationdefaults": {
           "arrowcolor": "#2a3f5f",
           "arrowhead": 0,
           "arrowwidth": 1
          },
          "autotypenumbers": "strict",
          "coloraxis": {
           "colorbar": {
            "outlinewidth": 0,
            "ticks": ""
           }
          },
          "colorscale": {
           "diverging": [
            [
             0,
             "#8e0152"
            ],
            [
             0.1,
             "#c51b7d"
            ],
            [
             0.2,
             "#de77ae"
            ],
            [
             0.3,
             "#f1b6da"
            ],
            [
             0.4,
             "#fde0ef"
            ],
            [
             0.5,
             "#f7f7f7"
            ],
            [
             0.6,
             "#e6f5d0"
            ],
            [
             0.7,
             "#b8e186"
            ],
            [
             0.8,
             "#7fbc41"
            ],
            [
             0.9,
             "#4d9221"
            ],
            [
             1,
             "#276419"
            ]
           ],
           "sequential": [
            [
             0,
             "#0d0887"
            ],
            [
             0.1111111111111111,
             "#46039f"
            ],
            [
             0.2222222222222222,
             "#7201a8"
            ],
            [
             0.3333333333333333,
             "#9c179e"
            ],
            [
             0.4444444444444444,
             "#bd3786"
            ],
            [
             0.5555555555555556,
             "#d8576b"
            ],
            [
             0.6666666666666666,
             "#ed7953"
            ],
            [
             0.7777777777777778,
             "#fb9f3a"
            ],
            [
             0.8888888888888888,
             "#fdca26"
            ],
            [
             1,
             "#f0f921"
            ]
           ],
           "sequentialminus": [
            [
             0,
             "#0d0887"
            ],
            [
             0.1111111111111111,
             "#46039f"
            ],
            [
             0.2222222222222222,
             "#7201a8"
            ],
            [
             0.3333333333333333,
             "#9c179e"
            ],
            [
             0.4444444444444444,
             "#bd3786"
            ],
            [
             0.5555555555555556,
             "#d8576b"
            ],
            [
             0.6666666666666666,
             "#ed7953"
            ],
            [
             0.7777777777777778,
             "#fb9f3a"
            ],
            [
             0.8888888888888888,
             "#fdca26"
            ],
            [
             1,
             "#f0f921"
            ]
           ]
          },
          "colorway": [
           "#636efa",
           "#EF553B",
           "#00cc96",
           "#ab63fa",
           "#FFA15A",
           "#19d3f3",
           "#FF6692",
           "#B6E880",
           "#FF97FF",
           "#FECB52"
          ],
          "font": {
           "color": "#2a3f5f"
          },
          "geo": {
           "bgcolor": "white",
           "lakecolor": "white",
           "landcolor": "#E5ECF6",
           "showlakes": true,
           "showland": true,
           "subunitcolor": "white"
          },
          "hoverlabel": {
           "align": "left"
          },
          "hovermode": "closest",
          "mapbox": {
           "style": "light"
          },
          "paper_bgcolor": "white",
          "plot_bgcolor": "#E5ECF6",
          "polar": {
           "angularaxis": {
            "gridcolor": "white",
            "linecolor": "white",
            "ticks": ""
           },
           "bgcolor": "#E5ECF6",
           "radialaxis": {
            "gridcolor": "white",
            "linecolor": "white",
            "ticks": ""
           }
          },
          "scene": {
           "xaxis": {
            "backgroundcolor": "#E5ECF6",
            "gridcolor": "white",
            "gridwidth": 2,
            "linecolor": "white",
            "showbackground": true,
            "ticks": "",
            "zerolinecolor": "white"
           },
           "yaxis": {
            "backgroundcolor": "#E5ECF6",
            "gridcolor": "white",
            "gridwidth": 2,
            "linecolor": "white",
            "showbackground": true,
            "ticks": "",
            "zerolinecolor": "white"
           },
           "zaxis": {
            "backgroundcolor": "#E5ECF6",
            "gridcolor": "white",
            "gridwidth": 2,
            "linecolor": "white",
            "showbackground": true,
            "ticks": "",
            "zerolinecolor": "white"
           }
          },
          "shapedefaults": {
           "line": {
            "color": "#2a3f5f"
           }
          },
          "ternary": {
           "aaxis": {
            "gridcolor": "white",
            "linecolor": "white",
            "ticks": ""
           },
           "baxis": {
            "gridcolor": "white",
            "linecolor": "white",
            "ticks": ""
           },
           "bgcolor": "#E5ECF6",
           "caxis": {
            "gridcolor": "white",
            "linecolor": "white",
            "ticks": ""
           }
          },
          "title": {
           "x": 0.05
          },
          "xaxis": {
           "automargin": true,
           "gridcolor": "white",
           "linecolor": "white",
           "ticks": "",
           "title": {
            "standoff": 15
           },
           "zerolinecolor": "white",
           "zerolinewidth": 2
          },
          "yaxis": {
           "automargin": true,
           "gridcolor": "white",
           "linecolor": "white",
           "ticks": "",
           "title": {
            "standoff": 15
           },
           "zerolinecolor": "white",
           "zerolinewidth": 2
          }
         }
        },
        "title": {
         "text": "ROC Curve - Test"
        },
        "xaxis": {
         "anchor": "y",
         "domain": [
          0,
          1
         ],
         "title": {
          "text": "False Positive Rate (FPR)"
         }
        },
        "yaxis": {
         "anchor": "x",
         "domain": [
          0,
          1
         ],
         "title": {
          "text": "True Positive Rate (TPR)"
         }
        }
       }
      }
     },
     "metadata": {},
     "output_type": "display_data"
    }
   ],
   "source": [
    "show_results(X_train, y_train, X_test, y_test, weights, bias, 0.001, 100, False)"
   ]
  },
  {
   "cell_type": "markdown",
   "metadata": {},
   "source": [
    "<span style=\"font-size:36px;\">Use LogisticRegression with Normalize</span>"
   ]
  },
  {
   "cell_type": "code",
   "execution_count": 355,
   "metadata": {},
   "outputs": [
    {
     "name": "stdout",
     "output_type": "stream",
     "text": [
      "TRAIN\n",
      "Train Accuracy: 0.8943661971830986\n",
      "Train F1: 0.8543689320388349\n",
      "Train AUROC: 0.9626595316458694\n",
      "\n",
      "Sample predictions\n",
      "   y_train  y_class  y_predict\n",
      "0        0        0   0.395579\n",
      "1        1        0   0.385385\n",
      "2        0        0   0.210146\n",
      "3        1        1   0.660972\n",
      "4        0        0   0.278397\n"
     ]
    },
    {
     "data": {
      "application/vnd.plotly.v1+json": {
       "config": {
        "plotlyServerURL": "https://plot.ly"
       },
       "data": [
        {
         "hovertemplate": "Epoch=%{x}<br>Cost=%{y}<extra></extra>",
         "legendgroup": "",
         "line": {
          "color": "#636efa",
          "dash": "solid"
         },
         "marker": {
          "symbol": "circle"
         },
         "mode": "lines",
         "name": "",
         "orientation": "v",
         "showlegend": false,
         "type": "scatter",
         "x": [
          0,
          1,
          2,
          3,
          4,
          5,
          6,
          7,
          8,
          9,
          10,
          11,
          12,
          13,
          14,
          15,
          16,
          17,
          18,
          19,
          20,
          21,
          22,
          23,
          24,
          25,
          26,
          27,
          28,
          29,
          30,
          31,
          32,
          33,
          34,
          35,
          36,
          37,
          38,
          39,
          40,
          41,
          42,
          43,
          44,
          45,
          46,
          47,
          48,
          49,
          50,
          51,
          52,
          53,
          54,
          55,
          56,
          57,
          58,
          59,
          60,
          61,
          62,
          63,
          64,
          65,
          66,
          67,
          68,
          69,
          70,
          71,
          72,
          73,
          74,
          75,
          76,
          77,
          78,
          79,
          80,
          81,
          82,
          83,
          84,
          85,
          86,
          87,
          88,
          89,
          90,
          91,
          92,
          93,
          94,
          95,
          96,
          97,
          98,
          99
         ],
         "xaxis": "x",
         "y": [
          0.9859289286223987,
          0.9663608302315772,
          0.9472867654024264,
          0.9286944959298696,
          0.9105721819682476,
          0.8929084169561561,
          0.8756922119598843,
          0.8589130032206093,
          0.842560615883422,
          0.8266252327326062,
          0.8110973670734251,
          0.7959678300268985,
          0.7812277058843059,
          0.7668683269764544,
          0.7528812535910239,
          0.7392582582129968,
          0.7259913103794776,
          0.7130725647292296,
          0.7004943508162186,
          0.6882491631880657,
          0.676329652454575,
          0.664728616501536,
          0.6534389914713652,
          0.6424538425948295,
          0.6317663547755706,
          0.6213698230548961,
          0.6112576430540326,
          0.6014233017750297,
          0.5918603690156103,
          0.5825624897878804,
          0.5735233780500024,
          0.5647368120666071,
          0.5561966316138869,
          0.5478967371387733,
          0.5398310908895996,
          0.5319937198936047,
          0.5243787205536402,
          0.516980264541116,
          0.5097926055883852,
          0.5028100867479247,
          0.4960271476724209,
          0.4894383314936894,
          0.4830382909243273,
          0.47682179327308943,
          0.47078372414385056,
          0.4649190896774606,
          0.4592230172828515,
          0.4536907548884385,
          0.4483176688206376,
          0.44309924048079685,
          0.4380310620419443,
          0.433108831421707,
          0.42832834680702675,
          0.4236855010091864,
          0.41917627591611084,
          0.41479673728360356,
          0.4105430300708825,
          0.40641137448096754,
          0.40239806281652574,
          0.39849945720978114,
          0.39471198823452913,
          0.39103215436212496,
          0.38745652218374904,
          0.383981727290395,
          0.380604475680463,
          0.37732154555303377,
          0.37412978934207486,
          0.3710261358520608,
          0.368007592367104,
          0.3650712466220805,
          0.3622142685436053,
          0.35943391168943994,
          0.3567275143356104,
          0.3540925001800294,
          0.351526378648982,
          0.34902674480788815,
          0.3465912788900992,
          0.3442177454670423,
          0.34190399228997853,
          0.33964794883820054,
          0.33744762461100797,
          0.33530110720159806,
          0.33320656019045514,
          0.3311622208942358,
          0.3291663980038286,
          0.327217469142468,
          0.3253138783717149,
          0.32345413366994763,
          0.321636804404868,
          0.3198605188185096,
          0.31812396154040645,
          0.31642587114198534,
          0.31476503774289205,
          0.31314030067787896,
          0.3115505462310452,
          0.30999470544262886,
          0.30847175199218735,
          0.3069807001608396,
          0.3055206028742675,
          0.30409054982736
         ],
         "yaxis": "y"
        }
       ],
       "layout": {
        "legend": {
         "tracegroupgap": 0
        },
        "template": {
         "data": {
          "bar": [
           {
            "error_x": {
             "color": "#2a3f5f"
            },
            "error_y": {
             "color": "#2a3f5f"
            },
            "marker": {
             "line": {
              "color": "#E5ECF6",
              "width": 0.5
             },
             "pattern": {
              "fillmode": "overlay",
              "size": 10,
              "solidity": 0.2
             }
            },
            "type": "bar"
           }
          ],
          "barpolar": [
           {
            "marker": {
             "line": {
              "color": "#E5ECF6",
              "width": 0.5
             },
             "pattern": {
              "fillmode": "overlay",
              "size": 10,
              "solidity": 0.2
             }
            },
            "type": "barpolar"
           }
          ],
          "carpet": [
           {
            "aaxis": {
             "endlinecolor": "#2a3f5f",
             "gridcolor": "white",
             "linecolor": "white",
             "minorgridcolor": "white",
             "startlinecolor": "#2a3f5f"
            },
            "baxis": {
             "endlinecolor": "#2a3f5f",
             "gridcolor": "white",
             "linecolor": "white",
             "minorgridcolor": "white",
             "startlinecolor": "#2a3f5f"
            },
            "type": "carpet"
           }
          ],
          "choropleth": [
           {
            "colorbar": {
             "outlinewidth": 0,
             "ticks": ""
            },
            "type": "choropleth"
           }
          ],
          "contour": [
           {
            "colorbar": {
             "outlinewidth": 0,
             "ticks": ""
            },
            "colorscale": [
             [
              0,
              "#0d0887"
             ],
             [
              0.1111111111111111,
              "#46039f"
             ],
             [
              0.2222222222222222,
              "#7201a8"
             ],
             [
              0.3333333333333333,
              "#9c179e"
             ],
             [
              0.4444444444444444,
              "#bd3786"
             ],
             [
              0.5555555555555556,
              "#d8576b"
             ],
             [
              0.6666666666666666,
              "#ed7953"
             ],
             [
              0.7777777777777778,
              "#fb9f3a"
             ],
             [
              0.8888888888888888,
              "#fdca26"
             ],
             [
              1,
              "#f0f921"
             ]
            ],
            "type": "contour"
           }
          ],
          "contourcarpet": [
           {
            "colorbar": {
             "outlinewidth": 0,
             "ticks": ""
            },
            "type": "contourcarpet"
           }
          ],
          "heatmap": [
           {
            "colorbar": {
             "outlinewidth": 0,
             "ticks": ""
            },
            "colorscale": [
             [
              0,
              "#0d0887"
             ],
             [
              0.1111111111111111,
              "#46039f"
             ],
             [
              0.2222222222222222,
              "#7201a8"
             ],
             [
              0.3333333333333333,
              "#9c179e"
             ],
             [
              0.4444444444444444,
              "#bd3786"
             ],
             [
              0.5555555555555556,
              "#d8576b"
             ],
             [
              0.6666666666666666,
              "#ed7953"
             ],
             [
              0.7777777777777778,
              "#fb9f3a"
             ],
             [
              0.8888888888888888,
              "#fdca26"
             ],
             [
              1,
              "#f0f921"
             ]
            ],
            "type": "heatmap"
           }
          ],
          "heatmapgl": [
           {
            "colorbar": {
             "outlinewidth": 0,
             "ticks": ""
            },
            "colorscale": [
             [
              0,
              "#0d0887"
             ],
             [
              0.1111111111111111,
              "#46039f"
             ],
             [
              0.2222222222222222,
              "#7201a8"
             ],
             [
              0.3333333333333333,
              "#9c179e"
             ],
             [
              0.4444444444444444,
              "#bd3786"
             ],
             [
              0.5555555555555556,
              "#d8576b"
             ],
             [
              0.6666666666666666,
              "#ed7953"
             ],
             [
              0.7777777777777778,
              "#fb9f3a"
             ],
             [
              0.8888888888888888,
              "#fdca26"
             ],
             [
              1,
              "#f0f921"
             ]
            ],
            "type": "heatmapgl"
           }
          ],
          "histogram": [
           {
            "marker": {
             "pattern": {
              "fillmode": "overlay",
              "size": 10,
              "solidity": 0.2
             }
            },
            "type": "histogram"
           }
          ],
          "histogram2d": [
           {
            "colorbar": {
             "outlinewidth": 0,
             "ticks": ""
            },
            "colorscale": [
             [
              0,
              "#0d0887"
             ],
             [
              0.1111111111111111,
              "#46039f"
             ],
             [
              0.2222222222222222,
              "#7201a8"
             ],
             [
              0.3333333333333333,
              "#9c179e"
             ],
             [
              0.4444444444444444,
              "#bd3786"
             ],
             [
              0.5555555555555556,
              "#d8576b"
             ],
             [
              0.6666666666666666,
              "#ed7953"
             ],
             [
              0.7777777777777778,
              "#fb9f3a"
             ],
             [
              0.8888888888888888,
              "#fdca26"
             ],
             [
              1,
              "#f0f921"
             ]
            ],
            "type": "histogram2d"
           }
          ],
          "histogram2dcontour": [
           {
            "colorbar": {
             "outlinewidth": 0,
             "ticks": ""
            },
            "colorscale": [
             [
              0,
              "#0d0887"
             ],
             [
              0.1111111111111111,
              "#46039f"
             ],
             [
              0.2222222222222222,
              "#7201a8"
             ],
             [
              0.3333333333333333,
              "#9c179e"
             ],
             [
              0.4444444444444444,
              "#bd3786"
             ],
             [
              0.5555555555555556,
              "#d8576b"
             ],
             [
              0.6666666666666666,
              "#ed7953"
             ],
             [
              0.7777777777777778,
              "#fb9f3a"
             ],
             [
              0.8888888888888888,
              "#fdca26"
             ],
             [
              1,
              "#f0f921"
             ]
            ],
            "type": "histogram2dcontour"
           }
          ],
          "mesh3d": [
           {
            "colorbar": {
             "outlinewidth": 0,
             "ticks": ""
            },
            "type": "mesh3d"
           }
          ],
          "parcoords": [
           {
            "line": {
             "colorbar": {
              "outlinewidth": 0,
              "ticks": ""
             }
            },
            "type": "parcoords"
           }
          ],
          "pie": [
           {
            "automargin": true,
            "type": "pie"
           }
          ],
          "scatter": [
           {
            "fillpattern": {
             "fillmode": "overlay",
             "size": 10,
             "solidity": 0.2
            },
            "type": "scatter"
           }
          ],
          "scatter3d": [
           {
            "line": {
             "colorbar": {
              "outlinewidth": 0,
              "ticks": ""
             }
            },
            "marker": {
             "colorbar": {
              "outlinewidth": 0,
              "ticks": ""
             }
            },
            "type": "scatter3d"
           }
          ],
          "scattercarpet": [
           {
            "marker": {
             "colorbar": {
              "outlinewidth": 0,
              "ticks": ""
             }
            },
            "type": "scattercarpet"
           }
          ],
          "scattergeo": [
           {
            "marker": {
             "colorbar": {
              "outlinewidth": 0,
              "ticks": ""
             }
            },
            "type": "scattergeo"
           }
          ],
          "scattergl": [
           {
            "marker": {
             "colorbar": {
              "outlinewidth": 0,
              "ticks": ""
             }
            },
            "type": "scattergl"
           }
          ],
          "scattermapbox": [
           {
            "marker": {
             "colorbar": {
              "outlinewidth": 0,
              "ticks": ""
             }
            },
            "type": "scattermapbox"
           }
          ],
          "scatterpolar": [
           {
            "marker": {
             "colorbar": {
              "outlinewidth": 0,
              "ticks": ""
             }
            },
            "type": "scatterpolar"
           }
          ],
          "scatterpolargl": [
           {
            "marker": {
             "colorbar": {
              "outlinewidth": 0,
              "ticks": ""
             }
            },
            "type": "scatterpolargl"
           }
          ],
          "scatterternary": [
           {
            "marker": {
             "colorbar": {
              "outlinewidth": 0,
              "ticks": ""
             }
            },
            "type": "scatterternary"
           }
          ],
          "surface": [
           {
            "colorbar": {
             "outlinewidth": 0,
             "ticks": ""
            },
            "colorscale": [
             [
              0,
              "#0d0887"
             ],
             [
              0.1111111111111111,
              "#46039f"
             ],
             [
              0.2222222222222222,
              "#7201a8"
             ],
             [
              0.3333333333333333,
              "#9c179e"
             ],
             [
              0.4444444444444444,
              "#bd3786"
             ],
             [
              0.5555555555555556,
              "#d8576b"
             ],
             [
              0.6666666666666666,
              "#ed7953"
             ],
             [
              0.7777777777777778,
              "#fb9f3a"
             ],
             [
              0.8888888888888888,
              "#fdca26"
             ],
             [
              1,
              "#f0f921"
             ]
            ],
            "type": "surface"
           }
          ],
          "table": [
           {
            "cells": {
             "fill": {
              "color": "#EBF0F8"
             },
             "line": {
              "color": "white"
             }
            },
            "header": {
             "fill": {
              "color": "#C8D4E3"
             },
             "line": {
              "color": "white"
             }
            },
            "type": "table"
           }
          ]
         },
         "layout": {
          "annotationdefaults": {
           "arrowcolor": "#2a3f5f",
           "arrowhead": 0,
           "arrowwidth": 1
          },
          "autotypenumbers": "strict",
          "coloraxis": {
           "colorbar": {
            "outlinewidth": 0,
            "ticks": ""
           }
          },
          "colorscale": {
           "diverging": [
            [
             0,
             "#8e0152"
            ],
            [
             0.1,
             "#c51b7d"
            ],
            [
             0.2,
             "#de77ae"
            ],
            [
             0.3,
             "#f1b6da"
            ],
            [
             0.4,
             "#fde0ef"
            ],
            [
             0.5,
             "#f7f7f7"
            ],
            [
             0.6,
             "#e6f5d0"
            ],
            [
             0.7,
             "#b8e186"
            ],
            [
             0.8,
             "#7fbc41"
            ],
            [
             0.9,
             "#4d9221"
            ],
            [
             1,
             "#276419"
            ]
           ],
           "sequential": [
            [
             0,
             "#0d0887"
            ],
            [
             0.1111111111111111,
             "#46039f"
            ],
            [
             0.2222222222222222,
             "#7201a8"
            ],
            [
             0.3333333333333333,
             "#9c179e"
            ],
            [
             0.4444444444444444,
             "#bd3786"
            ],
            [
             0.5555555555555556,
             "#d8576b"
            ],
            [
             0.6666666666666666,
             "#ed7953"
            ],
            [
             0.7777777777777778,
             "#fb9f3a"
            ],
            [
             0.8888888888888888,
             "#fdca26"
            ],
            [
             1,
             "#f0f921"
            ]
           ],
           "sequentialminus": [
            [
             0,
             "#0d0887"
            ],
            [
             0.1111111111111111,
             "#46039f"
            ],
            [
             0.2222222222222222,
             "#7201a8"
            ],
            [
             0.3333333333333333,
             "#9c179e"
            ],
            [
             0.4444444444444444,
             "#bd3786"
            ],
            [
             0.5555555555555556,
             "#d8576b"
            ],
            [
             0.6666666666666666,
             "#ed7953"
            ],
            [
             0.7777777777777778,
             "#fb9f3a"
            ],
            [
             0.8888888888888888,
             "#fdca26"
            ],
            [
             1,
             "#f0f921"
            ]
           ]
          },
          "colorway": [
           "#636efa",
           "#EF553B",
           "#00cc96",
           "#ab63fa",
           "#FFA15A",
           "#19d3f3",
           "#FF6692",
           "#B6E880",
           "#FF97FF",
           "#FECB52"
          ],
          "font": {
           "color": "#2a3f5f"
          },
          "geo": {
           "bgcolor": "white",
           "lakecolor": "white",
           "landcolor": "#E5ECF6",
           "showlakes": true,
           "showland": true,
           "subunitcolor": "white"
          },
          "hoverlabel": {
           "align": "left"
          },
          "hovermode": "closest",
          "mapbox": {
           "style": "light"
          },
          "paper_bgcolor": "white",
          "plot_bgcolor": "#E5ECF6",
          "polar": {
           "angularaxis": {
            "gridcolor": "white",
            "linecolor": "white",
            "ticks": ""
           },
           "bgcolor": "#E5ECF6",
           "radialaxis": {
            "gridcolor": "white",
            "linecolor": "white",
            "ticks": ""
           }
          },
          "scene": {
           "xaxis": {
            "backgroundcolor": "#E5ECF6",
            "gridcolor": "white",
            "gridwidth": 2,
            "linecolor": "white",
            "showbackground": true,
            "ticks": "",
            "zerolinecolor": "white"
           },
           "yaxis": {
            "backgroundcolor": "#E5ECF6",
            "gridcolor": "white",
            "gridwidth": 2,
            "linecolor": "white",
            "showbackground": true,
            "ticks": "",
            "zerolinecolor": "white"
           },
           "zaxis": {
            "backgroundcolor": "#E5ECF6",
            "gridcolor": "white",
            "gridwidth": 2,
            "linecolor": "white",
            "showbackground": true,
            "ticks": "",
            "zerolinecolor": "white"
           }
          },
          "shapedefaults": {
           "line": {
            "color": "#2a3f5f"
           }
          },
          "ternary": {
           "aaxis": {
            "gridcolor": "white",
            "linecolor": "white",
            "ticks": ""
           },
           "baxis": {
            "gridcolor": "white",
            "linecolor": "white",
            "ticks": ""
           },
           "bgcolor": "#E5ECF6",
           "caxis": {
            "gridcolor": "white",
            "linecolor": "white",
            "ticks": ""
           }
          },
          "title": {
           "x": 0.05
          },
          "xaxis": {
           "automargin": true,
           "gridcolor": "white",
           "linecolor": "white",
           "ticks": "",
           "title": {
            "standoff": 15
           },
           "zerolinecolor": "white",
           "zerolinewidth": 2
          },
          "yaxis": {
           "automargin": true,
           "gridcolor": "white",
           "linecolor": "white",
           "ticks": "",
           "title": {
            "standoff": 15
           },
           "zerolinecolor": "white",
           "zerolinewidth": 2
          }
         }
        },
        "title": {
         "text": "Cost Function"
        },
        "xaxis": {
         "anchor": "y",
         "domain": [
          0,
          1
         ],
         "title": {
          "text": "Epoch"
         }
        },
        "yaxis": {
         "anchor": "x",
         "domain": [
          0,
          1
         ],
         "title": {
          "text": "Cost"
         }
        }
       }
      }
     },
     "metadata": {},
     "output_type": "display_data"
    },
    {
     "data": {
      "application/vnd.plotly.v1+json": {
       "config": {
        "plotlyServerURL": "https://plot.ly"
       },
       "data": [
        {
         "hovertemplate": "False Positive Rate (FPR)=%{x}<br>True Positive Rate (TPR)=%{y}<extra></extra>",
         "legendgroup": "",
         "line": {
          "color": "#636efa",
          "dash": "solid"
         },
         "marker": {
          "symbol": "circle"
         },
         "mode": "lines+markers",
         "name": "",
         "orientation": "v",
         "showlegend": false,
         "type": "scatter",
         "x": [
          0,
          0,
          0,
          0,
          0,
          0,
          0,
          0,
          0,
          0,
          0,
          0,
          0,
          0,
          0,
          0,
          0,
          0,
          0,
          0,
          0,
          0,
          0,
          0,
          0,
          0,
          0,
          0.0037174721189591198,
          0.0037174721189591198,
          0.0037174721189591198,
          0.0037174721189591198,
          0.0037174721189591198,
          0.0037174721189591198,
          0.0037174721189591198,
          0.0074349442379182396,
          0.0074349442379182396,
          0.0074349442379182396,
          0.0074349442379182396,
          0.0074349442379182396,
          0.0074349442379182396,
          0.0074349442379182396,
          0.0074349442379182396,
          0.0074349442379182396,
          0.0074349442379182396,
          0.0074349442379182396,
          0.0074349442379182396,
          0.0074349442379182396,
          0.0074349442379182396,
          0.0074349442379182396,
          0.0074349442379182396,
          0.0074349442379182396,
          0.0074349442379182396,
          0.0074349442379182396,
          0.0074349442379182396,
          0.0074349442379182396,
          0.0074349442379182396,
          0.0074349442379182396,
          0.0074349442379182396,
          0.0074349442379182396,
          0.0074349442379182396,
          0.0074349442379182396,
          0.0074349442379182396,
          0.0074349442379182396,
          0.0074349442379182396,
          0.0074349442379182396,
          0.0074349442379182396,
          0.0074349442379182396,
          0.0074349442379182396,
          0.0074349442379182396,
          0.0074349442379182396,
          0.0074349442379182396,
          0.0074349442379182396,
          0.0074349442379182396,
          0.0074349442379182396,
          0.0074349442379182396,
          0.0074349442379182396,
          0.0074349442379182396,
          0.0074349442379182396,
          0.0074349442379182396,
          0.0074349442379182396,
          0.0074349442379182396,
          0.01115241635687736,
          0.01115241635687736,
          0.01115241635687736,
          0.01115241635687736,
          0.01115241635687736,
          0.01115241635687736,
          0.01115241635687736,
          0.01115241635687736,
          0.01115241635687736,
          0.01115241635687736,
          0.01115241635687736,
          0.01115241635687736,
          0.01115241635687736,
          0.01115241635687736,
          0.01115241635687736,
          0.01115241635687736,
          0.01115241635687736,
          0.014869888475836479,
          0.014869888475836479,
          0.014869888475836479,
          0.014869888475836479,
          0.014869888475836479,
          0.014869888475836479,
          0.018587360594795488,
          0.018587360594795488,
          0.018587360594795488,
          0.018587360594795488,
          0.018587360594795488,
          0.018587360594795488,
          0.022304832713754608,
          0.022304832713754608,
          0.026022304832713727,
          0.026022304832713727,
          0.029739776951672847,
          0.029739776951672847,
          0.029739776951672847,
          0.029739776951672847,
          0.03345724907063197,
          0.03345724907063197,
          0.03345724907063197,
          0.03345724907063197,
          0.03345724907063197,
          0.03345724907063197,
          0.03345724907063197,
          0.03345724907063197,
          0.03345724907063197,
          0.03345724907063197,
          0.03717472118959109,
          0.040892193308550207,
          0.040892193308550207,
          0.044609665427509326,
          0.044609665427509326,
          0.048327137546468446,
          0.048327137546468446,
          0.048327137546468446,
          0.052044609665427455,
          0.052044609665427455,
          0.055762081784386575,
          0.055762081784386575,
          0.055762081784386575,
          0.059479553903345694,
          0.059479553903345694,
          0.06319702602230481,
          0.06319702602230481,
          0.06319702602230481,
          0.06691449814126393,
          0.06691449814126393,
          0.06691449814126393,
          0.07063197026022305,
          0.07434944237918217,
          0.07434944237918217,
          0.07434944237918217,
          0.0780669144981413,
          0.08178438661710041,
          0.08550185873605953,
          0.08550185873605953,
          0.08921933085501854,
          0.08921933085501854,
          0.09293680297397766,
          0.09293680297397766,
          0.09665427509293678,
          0.09665427509293678,
          0.1003717472118959,
          0.1003717472118959,
          0.10408921933085502,
          0.10780669144981414,
          0.11152416356877326,
          0.11152416356877326,
          0.11524163568773238,
          0.1189591078066915,
          0.1189591078066915,
          0.1189591078066915,
          0.1189591078066915,
          0.1189591078066915,
          0.12267657992565051,
          0.12639405204460963,
          0.12639405204460963,
          0.12639405204460963,
          0.12639405204460963,
          0.13011152416356875,
          0.13011152416356875,
          0.13382899628252787,
          0.137546468401487,
          0.1412639405204461,
          0.1412639405204461,
          0.14498141263940523,
          0.14869888475836435,
          0.14869888475836435,
          0.15241635687732347,
          0.15241635687732347,
          0.15613382899628248,
          0.15613382899628248,
          0.1598513011152416,
          0.16356877323420072,
          0.16728624535315983,
          0.17100371747211895,
          0.17472118959107807,
          0.1784386617100372,
          0.1784386617100372,
          0.18215613382899631,
          0.18587360594795543,
          0.18587360594795543,
          0.18959107806691455,
          0.18959107806691455,
          0.19330855018587356,
          0.19702602230483268,
          0.2007434944237918,
          0.20446096654275092,
          0.20817843866171004,
          0.21189591078066916,
          0.21561338289962828,
          0.2193308550185874,
          0.22304832713754652,
          0.22676579925650553,
          0.23048327137546465,
          0.23420074349442377,
          0.2379182156133829,
          0.241635687732342,
          0.24535315985130113,
          0.24907063197026025,
          0.25278810408921937,
          0.2565055762081785,
          0.2602230483271375,
          0.2639405204460966,
          0.26765799256505574,
          0.27137546468401486,
          0.275092936802974,
          0.2788104089219331,
          0.2825278810408922,
          0.28624535315985133,
          0.28996282527881045,
          0.29368029739776946,
          0.2973977695167286,
          0.3011152416356877,
          0.3048327137546468,
          0.30855018587360594,
          0.31226765799256506,
          0.31226765799256506,
          0.3159851301115242,
          0.3197026022304833,
          0.3234200743494424,
          0.32713754646840154,
          0.33085501858736055,
          0.33457249070631967,
          0.3382899628252788,
          0.3420074349442379,
          0.34572490706319703,
          0.34944237918215615,
          0.35315985130111527,
          0.3568773234200744,
          0.3605947955390335,
          0.3643122676579925,
          0.36802973977695164,
          0.37174721189591076,
          0.3754646840148699,
          0.379182156133829,
          0.3828996282527881,
          0.38661710037174724,
          0.39033457249070636,
          0.3940520446096655,
          0.3977695167286245,
          0.4014869888475836,
          0.4052044609665427,
          0.4052044609665427,
          0.40892193308550184,
          0.41263940520446096,
          0.4163568773234201,
          0.4200743494423792,
          0.4237918215613383,
          0.42750929368029744,
          0.43122676579925645,
          0.43494423791821557,
          0.4386617100371747,
          0.4423791821561338,
          0.44609665427509293,
          0.44981412639405205,
          0.45353159851301117,
          0.4572490706319703,
          0.4609665427509294,
          0.46468401486988853,
          0.46840148698884754,
          0.46840148698884754,
          0.47211895910780666,
          0.4758364312267658,
          0.4795539033457249,
          0.483271375464684,
          0.48698884758364314,
          0.49070631970260226,
          0.4944237918215614,
          0.4981412639405205,
          0.5018587360594795,
          0.5055762081784387,
          0.5092936802973977,
          0.5130111524163569,
          0.516728624535316,
          0.5204460966542751,
          0.5241635687732342,
          0.5278810408921932,
          0.5315985130111525,
          0.5353159851301115,
          0.5390334572490707,
          0.5427509293680297,
          0.5464684014869888,
          0.550185873605948,
          0.5539033457249071,
          0.5576208178438662,
          0.5613382899628252,
          0.5650557620817844,
          0.5687732342007434,
          0.5724907063197027,
          0.5762081784386617,
          0.5799256505576208,
          0.5836431226765799,
          0.587360594795539,
          0.5910780669144982,
          0.5947955390334573,
          0.5985130111524164,
          0.6022304832713754,
          0.6059479553903346,
          0.6096654275092936,
          0.6133828996282528,
          0.6171003717472119,
          0.620817843866171,
          0.6245353159851301,
          0.6282527881040892,
          0.6319702602230484,
          0.6356877323420074,
          0.6394052044609666,
          0.6431226765799256,
          0.6468401486988847,
          0.6505576208178439,
          0.654275092936803,
          0.6579925650557621,
          0.6617100371747212,
          0.6654275092936803,
          0.6691449814126393,
          0.6728624535315986,
          0.6765799256505576,
          0.6802973977695168,
          0.6840148698884758,
          0.6877323420074349,
          0.6914498141263941,
          0.6951672862453532,
          0.6988847583643123,
          0.7026022304832713,
          0.7063197026022305,
          0.7100371747211895,
          0.7137546468401488,
          0.7174721189591078,
          0.7211895910780669,
          0.724907063197026,
          0.7286245353159851,
          0.7323420074349443,
          0.7360594795539033,
          0.7397769516728625,
          0.7434944237918215,
          0.7472118959107807,
          0.7509293680297398,
          0.7546468401486989,
          0.758364312267658,
          0.7620817843866171,
          0.7657992565055762,
          0.7695167286245354,
          0.7732342007434945,
          0.7769516728624535,
          0.7806691449814126,
          0.7843866171003717,
          0.7881040892193308,
          0.79182156133829,
          0.7955390334572491,
          0.7992565055762082,
          0.8029739776951673,
          0.8066914498141264,
          0.8104089219330854,
          0.8141263940520447,
          0.8178438661710037,
          0.8215613382899628,
          0.8252788104089219,
          0.828996282527881,
          0.8327137546468402,
          0.8364312267657993,
          0.8401486988847584,
          0.8438661710037174,
          0.8475836431226766,
          0.8513011152416357,
          0.8550185873605948,
          0.8587360594795539,
          0.862453531598513,
          0.8661710037174721,
          0.8698884758364313,
          0.8736059479553904,
          0.8773234200743494,
          0.8810408921933086,
          0.8847583643122676,
          0.8884758364312267,
          0.8921933085501859,
          0.895910780669145,
          0.8996282527881041,
          0.9033457249070632,
          0.9070631970260223,
          0.9107806691449815,
          0.9144981412639406,
          0.9182156133828996,
          0.9219330855018587,
          0.9256505576208178,
          0.929368029739777,
          0.9330855018587361,
          0.9368029739776952,
          0.9405204460966543,
          0.9442379182156134,
          0.9479553903345725,
          0.9516728624535316,
          0.9553903345724907,
          0.9591078066914498,
          0.9628252788104089,
          0.966542750929368,
          0.9702602230483272,
          0.9739776951672863,
          0.9776951672862454,
          0.9814126394052045,
          0.9851301115241635,
          0.9888475836431226,
          0.9925650557620818,
          0.9962825278810409,
          1
         ],
         "xaxis": "x",
         "y": [
          0.006369426751592357,
          0.012738853503184714,
          0.01910828025477707,
          0.025477707006369428,
          0.03184713375796178,
          0.03821656050955414,
          0.044585987261146494,
          0.050955414012738856,
          0.05732484076433121,
          0.06369426751592357,
          0.07006369426751592,
          0.07643312101910828,
          0.08280254777070063,
          0.08917197452229299,
          0.09554140127388536,
          0.10191082802547771,
          0.10828025477707007,
          0.11464968152866242,
          0.12101910828025478,
          0.12738853503184713,
          0.1337579617834395,
          0.14012738853503184,
          0.1464968152866242,
          0.15286624203821655,
          0.1592356687898089,
          0.16560509554140126,
          0.17197452229299362,
          0.17197452229299362,
          0.17834394904458598,
          0.18471337579617833,
          0.1910828025477707,
          0.19745222929936307,
          0.20382165605095542,
          0.21019108280254778,
          0.21019108280254778,
          0.21656050955414013,
          0.2229299363057325,
          0.22929936305732485,
          0.2356687898089172,
          0.24203821656050956,
          0.2484076433121019,
          0.25477707006369427,
          0.2611464968152866,
          0.267515923566879,
          0.27388535031847133,
          0.2802547770700637,
          0.28662420382165604,
          0.2929936305732484,
          0.29936305732484075,
          0.3057324840764331,
          0.31210191082802546,
          0.3184713375796178,
          0.3248407643312102,
          0.33121019108280253,
          0.3375796178343949,
          0.34394904458598724,
          0.3503184713375796,
          0.35668789808917195,
          0.3630573248407643,
          0.36942675159235666,
          0.37579617834394907,
          0.3821656050955414,
          0.3885350318471338,
          0.39490445859872614,
          0.4012738853503185,
          0.40764331210191085,
          0.4140127388535032,
          0.42038216560509556,
          0.4267515923566879,
          0.43312101910828027,
          0.4394904458598726,
          0.445859872611465,
          0.45222929936305734,
          0.4585987261146497,
          0.46496815286624205,
          0.4713375796178344,
          0.47770700636942676,
          0.4840764331210191,
          0.49044585987261147,
          0.4968152866242038,
          0.5031847133757962,
          0.5031847133757962,
          0.5095541401273885,
          0.5159235668789809,
          0.5222929936305732,
          0.5286624203821656,
          0.535031847133758,
          0.5414012738853503,
          0.5477707006369427,
          0.554140127388535,
          0.5605095541401274,
          0.5668789808917197,
          0.5732484076433121,
          0.5796178343949044,
          0.5859872611464968,
          0.5923566878980892,
          0.5987261146496815,
          0.6050955414012739,
          0.6050955414012739,
          0.6114649681528662,
          0.6178343949044586,
          0.6242038216560509,
          0.6305732484076433,
          0.6369426751592356,
          0.6369426751592356,
          0.643312101910828,
          0.6496815286624203,
          0.6560509554140127,
          0.6624203821656051,
          0.6687898089171974,
          0.6687898089171974,
          0.6751592356687898,
          0.6751592356687898,
          0.6815286624203821,
          0.6815286624203821,
          0.6878980891719745,
          0.6942675159235668,
          0.7006369426751592,
          0.7006369426751592,
          0.7070063694267515,
          0.7133757961783439,
          0.7197452229299363,
          0.7261146496815286,
          0.732484076433121,
          0.7388535031847133,
          0.7452229299363057,
          0.7515923566878981,
          0.7579617834394905,
          0.7579617834394905,
          0.7579617834394905,
          0.7643312101910829,
          0.7643312101910829,
          0.7707006369426752,
          0.7707006369426752,
          0.7770700636942676,
          0.7834394904458599,
          0.7834394904458599,
          0.7898089171974523,
          0.7898089171974523,
          0.7961783439490446,
          0.802547770700637,
          0.802547770700637,
          0.8089171974522293,
          0.8089171974522293,
          0.8152866242038217,
          0.821656050955414,
          0.821656050955414,
          0.8280254777070064,
          0.8343949044585988,
          0.8343949044585988,
          0.8343949044585988,
          0.8407643312101911,
          0.8471337579617835,
          0.8471337579617835,
          0.8471337579617835,
          0.8471337579617835,
          0.8535031847133758,
          0.8535031847133758,
          0.8598726114649682,
          0.8598726114649682,
          0.8662420382165605,
          0.8662420382165605,
          0.8726114649681529,
          0.8726114649681529,
          0.8789808917197452,
          0.8789808917197452,
          0.8789808917197452,
          0.8789808917197452,
          0.8853503184713376,
          0.8853503184713376,
          0.8853503184713376,
          0.89171974522293,
          0.8980891719745223,
          0.9044585987261147,
          0.910828025477707,
          0.910828025477707,
          0.910828025477707,
          0.9171974522292994,
          0.9235668789808917,
          0.9299363057324841,
          0.9299363057324841,
          0.9363057324840764,
          0.9363057324840764,
          0.9363057324840764,
          0.9363057324840764,
          0.9426751592356688,
          0.9426751592356688,
          0.9426751592356688,
          0.9490445859872612,
          0.9490445859872612,
          0.9554140127388535,
          0.9554140127388535,
          0.9617834394904459,
          0.9617834394904459,
          0.9617834394904459,
          0.9617834394904459,
          0.9617834394904459,
          0.9617834394904459,
          0.9617834394904459,
          0.9681528662420382,
          0.9681528662420382,
          0.9681528662420382,
          0.9745222929936306,
          0.9745222929936306,
          0.9808917197452229,
          0.9808917197452229,
          0.9808917197452229,
          0.9808917197452229,
          0.9808917197452229,
          0.9808917197452229,
          0.9808917197452229,
          0.9808917197452229,
          0.9808917197452229,
          0.9808917197452229,
          0.9808917197452229,
          0.9808917197452229,
          0.9808917197452229,
          0.9808917197452229,
          0.9808917197452229,
          0.9808917197452229,
          0.9808917197452229,
          0.9808917197452229,
          0.9808917197452229,
          0.9808917197452229,
          0.9808917197452229,
          0.9808917197452229,
          0.9808917197452229,
          0.9808917197452229,
          0.9808917197452229,
          0.9808917197452229,
          0.9808917197452229,
          0.9808917197452229,
          0.9808917197452229,
          0.9808917197452229,
          0.9808917197452229,
          0.9808917197452229,
          0.9808917197452229,
          0.9808917197452229,
          0.9872611464968153,
          0.9872611464968153,
          0.9872611464968153,
          0.9872611464968153,
          0.9872611464968153,
          0.9872611464968153,
          0.9872611464968153,
          0.9872611464968153,
          0.9872611464968153,
          0.9872611464968153,
          0.9872611464968153,
          0.9872611464968153,
          0.9872611464968153,
          0.9872611464968153,
          0.9872611464968153,
          0.9872611464968153,
          0.9872611464968153,
          0.9872611464968153,
          0.9872611464968153,
          0.9872611464968153,
          0.9872611464968153,
          0.9872611464968153,
          0.9872611464968153,
          0.9872611464968153,
          0.9872611464968153,
          0.9872611464968153,
          0.9936305732484076,
          0.9936305732484076,
          0.9936305732484076,
          0.9936305732484076,
          0.9936305732484076,
          0.9936305732484076,
          0.9936305732484076,
          0.9936305732484076,
          0.9936305732484076,
          0.9936305732484076,
          0.9936305732484076,
          0.9936305732484076,
          0.9936305732484076,
          0.9936305732484076,
          0.9936305732484076,
          0.9936305732484076,
          0.9936305732484076,
          0.9936305732484076,
          1,
          1,
          1,
          1,
          1,
          1,
          1,
          1,
          1,
          1,
          1,
          1,
          1,
          1,
          1,
          1,
          1,
          1,
          1,
          1,
          1,
          1,
          1,
          1,
          1,
          1,
          1,
          1,
          1,
          1,
          1,
          1,
          1,
          1,
          1,
          1,
          1,
          1,
          1,
          1,
          1,
          1,
          1,
          1,
          1,
          1,
          1,
          1,
          1,
          1,
          1,
          1,
          1,
          1,
          1,
          1,
          1,
          1,
          1,
          1,
          1,
          1,
          1,
          1,
          1,
          1,
          1,
          1,
          1,
          1,
          1,
          1,
          1,
          1,
          1,
          1,
          1,
          1,
          1,
          1,
          1,
          1,
          1,
          1,
          1,
          1,
          1,
          1,
          1,
          1,
          1,
          1,
          1,
          1,
          1,
          1,
          1,
          1,
          1,
          1,
          1,
          1,
          1,
          1,
          1,
          1,
          1,
          1,
          1,
          1,
          1,
          1,
          1,
          1,
          1,
          1,
          1,
          1,
          1,
          1,
          1,
          1,
          1,
          1,
          1,
          1,
          1,
          1,
          1,
          1,
          1,
          1,
          1,
          1,
          1,
          1,
          1,
          1,
          1,
          1,
          1,
          1,
          1,
          1
         ],
         "yaxis": "y"
        }
       ],
       "layout": {
        "legend": {
         "tracegroupgap": 0
        },
        "template": {
         "data": {
          "bar": [
           {
            "error_x": {
             "color": "#2a3f5f"
            },
            "error_y": {
             "color": "#2a3f5f"
            },
            "marker": {
             "line": {
              "color": "#E5ECF6",
              "width": 0.5
             },
             "pattern": {
              "fillmode": "overlay",
              "size": 10,
              "solidity": 0.2
             }
            },
            "type": "bar"
           }
          ],
          "barpolar": [
           {
            "marker": {
             "line": {
              "color": "#E5ECF6",
              "width": 0.5
             },
             "pattern": {
              "fillmode": "overlay",
              "size": 10,
              "solidity": 0.2
             }
            },
            "type": "barpolar"
           }
          ],
          "carpet": [
           {
            "aaxis": {
             "endlinecolor": "#2a3f5f",
             "gridcolor": "white",
             "linecolor": "white",
             "minorgridcolor": "white",
             "startlinecolor": "#2a3f5f"
            },
            "baxis": {
             "endlinecolor": "#2a3f5f",
             "gridcolor": "white",
             "linecolor": "white",
             "minorgridcolor": "white",
             "startlinecolor": "#2a3f5f"
            },
            "type": "carpet"
           }
          ],
          "choropleth": [
           {
            "colorbar": {
             "outlinewidth": 0,
             "ticks": ""
            },
            "type": "choropleth"
           }
          ],
          "contour": [
           {
            "colorbar": {
             "outlinewidth": 0,
             "ticks": ""
            },
            "colorscale": [
             [
              0,
              "#0d0887"
             ],
             [
              0.1111111111111111,
              "#46039f"
             ],
             [
              0.2222222222222222,
              "#7201a8"
             ],
             [
              0.3333333333333333,
              "#9c179e"
             ],
             [
              0.4444444444444444,
              "#bd3786"
             ],
             [
              0.5555555555555556,
              "#d8576b"
             ],
             [
              0.6666666666666666,
              "#ed7953"
             ],
             [
              0.7777777777777778,
              "#fb9f3a"
             ],
             [
              0.8888888888888888,
              "#fdca26"
             ],
             [
              1,
              "#f0f921"
             ]
            ],
            "type": "contour"
           }
          ],
          "contourcarpet": [
           {
            "colorbar": {
             "outlinewidth": 0,
             "ticks": ""
            },
            "type": "contourcarpet"
           }
          ],
          "heatmap": [
           {
            "colorbar": {
             "outlinewidth": 0,
             "ticks": ""
            },
            "colorscale": [
             [
              0,
              "#0d0887"
             ],
             [
              0.1111111111111111,
              "#46039f"
             ],
             [
              0.2222222222222222,
              "#7201a8"
             ],
             [
              0.3333333333333333,
              "#9c179e"
             ],
             [
              0.4444444444444444,
              "#bd3786"
             ],
             [
              0.5555555555555556,
              "#d8576b"
             ],
             [
              0.6666666666666666,
              "#ed7953"
             ],
             [
              0.7777777777777778,
              "#fb9f3a"
             ],
             [
              0.8888888888888888,
              "#fdca26"
             ],
             [
              1,
              "#f0f921"
             ]
            ],
            "type": "heatmap"
           }
          ],
          "heatmapgl": [
           {
            "colorbar": {
             "outlinewidth": 0,
             "ticks": ""
            },
            "colorscale": [
             [
              0,
              "#0d0887"
             ],
             [
              0.1111111111111111,
              "#46039f"
             ],
             [
              0.2222222222222222,
              "#7201a8"
             ],
             [
              0.3333333333333333,
              "#9c179e"
             ],
             [
              0.4444444444444444,
              "#bd3786"
             ],
             [
              0.5555555555555556,
              "#d8576b"
             ],
             [
              0.6666666666666666,
              "#ed7953"
             ],
             [
              0.7777777777777778,
              "#fb9f3a"
             ],
             [
              0.8888888888888888,
              "#fdca26"
             ],
             [
              1,
              "#f0f921"
             ]
            ],
            "type": "heatmapgl"
           }
          ],
          "histogram": [
           {
            "marker": {
             "pattern": {
              "fillmode": "overlay",
              "size": 10,
              "solidity": 0.2
             }
            },
            "type": "histogram"
           }
          ],
          "histogram2d": [
           {
            "colorbar": {
             "outlinewidth": 0,
             "ticks": ""
            },
            "colorscale": [
             [
              0,
              "#0d0887"
             ],
             [
              0.1111111111111111,
              "#46039f"
             ],
             [
              0.2222222222222222,
              "#7201a8"
             ],
             [
              0.3333333333333333,
              "#9c179e"
             ],
             [
              0.4444444444444444,
              "#bd3786"
             ],
             [
              0.5555555555555556,
              "#d8576b"
             ],
             [
              0.6666666666666666,
              "#ed7953"
             ],
             [
              0.7777777777777778,
              "#fb9f3a"
             ],
             [
              0.8888888888888888,
              "#fdca26"
             ],
             [
              1,
              "#f0f921"
             ]
            ],
            "type": "histogram2d"
           }
          ],
          "histogram2dcontour": [
           {
            "colorbar": {
             "outlinewidth": 0,
             "ticks": ""
            },
            "colorscale": [
             [
              0,
              "#0d0887"
             ],
             [
              0.1111111111111111,
              "#46039f"
             ],
             [
              0.2222222222222222,
              "#7201a8"
             ],
             [
              0.3333333333333333,
              "#9c179e"
             ],
             [
              0.4444444444444444,
              "#bd3786"
             ],
             [
              0.5555555555555556,
              "#d8576b"
             ],
             [
              0.6666666666666666,
              "#ed7953"
             ],
             [
              0.7777777777777778,
              "#fb9f3a"
             ],
             [
              0.8888888888888888,
              "#fdca26"
             ],
             [
              1,
              "#f0f921"
             ]
            ],
            "type": "histogram2dcontour"
           }
          ],
          "mesh3d": [
           {
            "colorbar": {
             "outlinewidth": 0,
             "ticks": ""
            },
            "type": "mesh3d"
           }
          ],
          "parcoords": [
           {
            "line": {
             "colorbar": {
              "outlinewidth": 0,
              "ticks": ""
             }
            },
            "type": "parcoords"
           }
          ],
          "pie": [
           {
            "automargin": true,
            "type": "pie"
           }
          ],
          "scatter": [
           {
            "fillpattern": {
             "fillmode": "overlay",
             "size": 10,
             "solidity": 0.2
            },
            "type": "scatter"
           }
          ],
          "scatter3d": [
           {
            "line": {
             "colorbar": {
              "outlinewidth": 0,
              "ticks": ""
             }
            },
            "marker": {
             "colorbar": {
              "outlinewidth": 0,
              "ticks": ""
             }
            },
            "type": "scatter3d"
           }
          ],
          "scattercarpet": [
           {
            "marker": {
             "colorbar": {
              "outlinewidth": 0,
              "ticks": ""
             }
            },
            "type": "scattercarpet"
           }
          ],
          "scattergeo": [
           {
            "marker": {
             "colorbar": {
              "outlinewidth": 0,
              "ticks": ""
             }
            },
            "type": "scattergeo"
           }
          ],
          "scattergl": [
           {
            "marker": {
             "colorbar": {
              "outlinewidth": 0,
              "ticks": ""
             }
            },
            "type": "scattergl"
           }
          ],
          "scattermapbox": [
           {
            "marker": {
             "colorbar": {
              "outlinewidth": 0,
              "ticks": ""
             }
            },
            "type": "scattermapbox"
           }
          ],
          "scatterpolar": [
           {
            "marker": {
             "colorbar": {
              "outlinewidth": 0,
              "ticks": ""
             }
            },
            "type": "scatterpolar"
           }
          ],
          "scatterpolargl": [
           {
            "marker": {
             "colorbar": {
              "outlinewidth": 0,
              "ticks": ""
             }
            },
            "type": "scatterpolargl"
           }
          ],
          "scatterternary": [
           {
            "marker": {
             "colorbar": {
              "outlinewidth": 0,
              "ticks": ""
             }
            },
            "type": "scatterternary"
           }
          ],
          "surface": [
           {
            "colorbar": {
             "outlinewidth": 0,
             "ticks": ""
            },
            "colorscale": [
             [
              0,
              "#0d0887"
             ],
             [
              0.1111111111111111,
              "#46039f"
             ],
             [
              0.2222222222222222,
              "#7201a8"
             ],
             [
              0.3333333333333333,
              "#9c179e"
             ],
             [
              0.4444444444444444,
              "#bd3786"
             ],
             [
              0.5555555555555556,
              "#d8576b"
             ],
             [
              0.6666666666666666,
              "#ed7953"
             ],
             [
              0.7777777777777778,
              "#fb9f3a"
             ],
             [
              0.8888888888888888,
              "#fdca26"
             ],
             [
              1,
              "#f0f921"
             ]
            ],
            "type": "surface"
           }
          ],
          "table": [
           {
            "cells": {
             "fill": {
              "color": "#EBF0F8"
             },
             "line": {
              "color": "white"
             }
            },
            "header": {
             "fill": {
              "color": "#C8D4E3"
             },
             "line": {
              "color": "white"
             }
            },
            "type": "table"
           }
          ]
         },
         "layout": {
          "annotationdefaults": {
           "arrowcolor": "#2a3f5f",
           "arrowhead": 0,
           "arrowwidth": 1
          },
          "autotypenumbers": "strict",
          "coloraxis": {
           "colorbar": {
            "outlinewidth": 0,
            "ticks": ""
           }
          },
          "colorscale": {
           "diverging": [
            [
             0,
             "#8e0152"
            ],
            [
             0.1,
             "#c51b7d"
            ],
            [
             0.2,
             "#de77ae"
            ],
            [
             0.3,
             "#f1b6da"
            ],
            [
             0.4,
             "#fde0ef"
            ],
            [
             0.5,
             "#f7f7f7"
            ],
            [
             0.6,
             "#e6f5d0"
            ],
            [
             0.7,
             "#b8e186"
            ],
            [
             0.8,
             "#7fbc41"
            ],
            [
             0.9,
             "#4d9221"
            ],
            [
             1,
             "#276419"
            ]
           ],
           "sequential": [
            [
             0,
             "#0d0887"
            ],
            [
             0.1111111111111111,
             "#46039f"
            ],
            [
             0.2222222222222222,
             "#7201a8"
            ],
            [
             0.3333333333333333,
             "#9c179e"
            ],
            [
             0.4444444444444444,
             "#bd3786"
            ],
            [
             0.5555555555555556,
             "#d8576b"
            ],
            [
             0.6666666666666666,
             "#ed7953"
            ],
            [
             0.7777777777777778,
             "#fb9f3a"
            ],
            [
             0.8888888888888888,
             "#fdca26"
            ],
            [
             1,
             "#f0f921"
            ]
           ],
           "sequentialminus": [
            [
             0,
             "#0d0887"
            ],
            [
             0.1111111111111111,
             "#46039f"
            ],
            [
             0.2222222222222222,
             "#7201a8"
            ],
            [
             0.3333333333333333,
             "#9c179e"
            ],
            [
             0.4444444444444444,
             "#bd3786"
            ],
            [
             0.5555555555555556,
             "#d8576b"
            ],
            [
             0.6666666666666666,
             "#ed7953"
            ],
            [
             0.7777777777777778,
             "#fb9f3a"
            ],
            [
             0.8888888888888888,
             "#fdca26"
            ],
            [
             1,
             "#f0f921"
            ]
           ]
          },
          "colorway": [
           "#636efa",
           "#EF553B",
           "#00cc96",
           "#ab63fa",
           "#FFA15A",
           "#19d3f3",
           "#FF6692",
           "#B6E880",
           "#FF97FF",
           "#FECB52"
          ],
          "font": {
           "color": "#2a3f5f"
          },
          "geo": {
           "bgcolor": "white",
           "lakecolor": "white",
           "landcolor": "#E5ECF6",
           "showlakes": true,
           "showland": true,
           "subunitcolor": "white"
          },
          "hoverlabel": {
           "align": "left"
          },
          "hovermode": "closest",
          "mapbox": {
           "style": "light"
          },
          "paper_bgcolor": "white",
          "plot_bgcolor": "#E5ECF6",
          "polar": {
           "angularaxis": {
            "gridcolor": "white",
            "linecolor": "white",
            "ticks": ""
           },
           "bgcolor": "#E5ECF6",
           "radialaxis": {
            "gridcolor": "white",
            "linecolor": "white",
            "ticks": ""
           }
          },
          "scene": {
           "xaxis": {
            "backgroundcolor": "#E5ECF6",
            "gridcolor": "white",
            "gridwidth": 2,
            "linecolor": "white",
            "showbackground": true,
            "ticks": "",
            "zerolinecolor": "white"
           },
           "yaxis": {
            "backgroundcolor": "#E5ECF6",
            "gridcolor": "white",
            "gridwidth": 2,
            "linecolor": "white",
            "showbackground": true,
            "ticks": "",
            "zerolinecolor": "white"
           },
           "zaxis": {
            "backgroundcolor": "#E5ECF6",
            "gridcolor": "white",
            "gridwidth": 2,
            "linecolor": "white",
            "showbackground": true,
            "ticks": "",
            "zerolinecolor": "white"
           }
          },
          "shapedefaults": {
           "line": {
            "color": "#2a3f5f"
           }
          },
          "ternary": {
           "aaxis": {
            "gridcolor": "white",
            "linecolor": "white",
            "ticks": ""
           },
           "baxis": {
            "gridcolor": "white",
            "linecolor": "white",
            "ticks": ""
           },
           "bgcolor": "#E5ECF6",
           "caxis": {
            "gridcolor": "white",
            "linecolor": "white",
            "ticks": ""
           }
          },
          "title": {
           "x": 0.05
          },
          "xaxis": {
           "automargin": true,
           "gridcolor": "white",
           "linecolor": "white",
           "ticks": "",
           "title": {
            "standoff": 15
           },
           "zerolinecolor": "white",
           "zerolinewidth": 2
          },
          "yaxis": {
           "automargin": true,
           "gridcolor": "white",
           "linecolor": "white",
           "ticks": "",
           "title": {
            "standoff": 15
           },
           "zerolinecolor": "white",
           "zerolinewidth": 2
          }
         }
        },
        "title": {
         "text": "ROC Curve - Train"
        },
        "xaxis": {
         "anchor": "y",
         "domain": [
          0,
          1
         ],
         "title": {
          "text": "False Positive Rate (FPR)"
         }
        },
        "yaxis": {
         "anchor": "x",
         "domain": [
          0,
          1
         ],
         "title": {
          "text": "True Positive Rate (TPR)"
         }
        }
       }
      }
     },
     "metadata": {},
     "output_type": "display_data"
    },
    {
     "name": "stdout",
     "output_type": "stream",
     "text": [
      "TEST\n",
      "Test Accuracy: 0.8601398601398601\n",
      "Test F1: 0.803921568627451\n",
      "Test AUROC: 0.9508264462809917\n",
      "\n",
      "Sample predictions\n",
      "   y_test  y_class  y_predict\n",
      "0       0        0   0.146874\n",
      "1       0        0   0.078395\n",
      "2       0        1   0.769120\n",
      "3       0        0   0.045941\n",
      "4       0        0   0.261297\n"
     ]
    },
    {
     "data": {
      "application/vnd.plotly.v1+json": {
       "config": {
        "plotlyServerURL": "https://plot.ly"
       },
       "data": [
        {
         "hovertemplate": "False Positive Rate (FPR)=%{x}<br>True Positive Rate (TPR)=%{y}<extra></extra>",
         "legendgroup": "",
         "line": {
          "color": "#636efa",
          "dash": "solid"
         },
         "marker": {
          "symbol": "circle"
         },
         "mode": "lines+markers",
         "name": "",
         "orientation": "v",
         "showlegend": false,
         "type": "scatter",
         "x": [
          0,
          0,
          0,
          0,
          0,
          0,
          0,
          0,
          0,
          0,
          0,
          0,
          0,
          0,
          0,
          0,
          0,
          0,
          0,
          0,
          0,
          0,
          0,
          0,
          0,
          0,
          0,
          0.011363636363636354,
          0.011363636363636354,
          0.022727272727272707,
          0.022727272727272707,
          0.022727272727272707,
          0.022727272727272707,
          0.022727272727272707,
          0.022727272727272707,
          0.022727272727272707,
          0.03409090909090906,
          0.03409090909090906,
          0.03409090909090906,
          0.03409090909090906,
          0.03409090909090906,
          0.03409090909090906,
          0.03409090909090906,
          0.045454545454545414,
          0.05681818181818177,
          0.05681818181818177,
          0.06818181818181823,
          0.06818181818181823,
          0.06818181818181823,
          0.07954545454545459,
          0.07954545454545459,
          0.07954545454545459,
          0.09090909090909094,
          0.10227272727272729,
          0.10227272727272729,
          0.10227272727272729,
          0.10227272727272729,
          0.11363636363636365,
          0.125,
          0.13636363636363635,
          0.13636363636363635,
          0.1477272727272727,
          0.1477272727272727,
          0.15909090909090906,
          0.17045454545454541,
          0.18181818181818177,
          0.18181818181818177,
          0.19318181818181823,
          0.20454545454545459,
          0.20454545454545459,
          0.21590909090909094,
          0.21590909090909094,
          0.2272727272727273,
          0.23863636363636365,
          0.25,
          0.26136363636363635,
          0.2727272727272727,
          0.28409090909090906,
          0.2954545454545454,
          0.30681818181818177,
          0.31818181818181823,
          0.3295454545454546,
          0.34090909090909094,
          0.3522727272727273,
          0.36363636363636365,
          0.36363636363636365,
          0.375,
          0.38636363636363635,
          0.3977272727272727,
          0.40909090909090906,
          0.4204545454545454,
          0.43181818181818177,
          0.44318181818181823,
          0.44318181818181823,
          0.4545454545454546,
          0.46590909090909094,
          0.4772727272727273,
          0.48863636363636365,
          0.5,
          0.5113636363636364,
          0.5227272727272727,
          0.5340909090909092,
          0.5454545454545454,
          0.5568181818181819,
          0.5681818181818181,
          0.5795454545454546,
          0.5909090909090908,
          0.6022727272727273,
          0.6136363636363636,
          0.625,
          0.6363636363636364,
          0.6477272727272727,
          0.6590909090909092,
          0.6704545454545454,
          0.6818181818181819,
          0.6931818181818181,
          0.7045454545454546,
          0.7159090909090908,
          0.7272727272727273,
          0.7386363636363636,
          0.75,
          0.7613636363636364,
          0.7727272727272727,
          0.7840909090909091,
          0.7954545454545454,
          0.8068181818181819,
          0.8181818181818181,
          0.8295454545454546,
          0.8409090909090909,
          0.8522727272727273,
          0.8636363636363636,
          0.875,
          0.8863636363636364,
          0.8977272727272727,
          0.9090909090909091,
          0.9204545454545454,
          0.9318181818181819,
          0.9431818181818182,
          0.9545454545454546,
          0.9659090909090909,
          0.9772727272727273,
          0.9886363636363636,
          1
         ],
         "xaxis": "x",
         "y": [
          0.01818181818181818,
          0.03636363636363636,
          0.05454545454545454,
          0.07272727272727272,
          0.09090909090909091,
          0.10909090909090909,
          0.12727272727272726,
          0.14545454545454545,
          0.16363636363636364,
          0.18181818181818182,
          0.2,
          0.21818181818181817,
          0.23636363636363636,
          0.2545454545454545,
          0.2727272727272727,
          0.2909090909090909,
          0.3090909090909091,
          0.32727272727272727,
          0.34545454545454546,
          0.36363636363636365,
          0.38181818181818183,
          0.4,
          0.41818181818181815,
          0.43636363636363634,
          0.45454545454545453,
          0.4727272727272727,
          0.4909090909090909,
          0.4909090909090909,
          0.509090909090909,
          0.509090909090909,
          0.5272727272727272,
          0.5454545454545454,
          0.5636363636363636,
          0.5818181818181818,
          0.6,
          0.6181818181818182,
          0.6181818181818182,
          0.6363636363636364,
          0.6545454545454545,
          0.6727272727272727,
          0.6909090909090909,
          0.7090909090909091,
          0.7272727272727273,
          0.7272727272727273,
          0.7272727272727273,
          0.7454545454545455,
          0.7454545454545455,
          0.7636363636363637,
          0.7818181818181819,
          0.7818181818181819,
          0.8,
          0.8181818181818182,
          0.8181818181818182,
          0.8181818181818182,
          0.8363636363636363,
          0.8545454545454545,
          0.8727272727272727,
          0.8727272727272727,
          0.8727272727272727,
          0.8727272727272727,
          0.8909090909090909,
          0.8909090909090909,
          0.9090909090909091,
          0.9090909090909091,
          0.9090909090909091,
          0.9090909090909091,
          0.9272727272727272,
          0.9272727272727272,
          0.9272727272727272,
          0.9454545454545454,
          0.9454545454545454,
          0.9636363636363636,
          0.9636363636363636,
          0.9636363636363636,
          0.9636363636363636,
          0.9636363636363636,
          0.9636363636363636,
          0.9636363636363636,
          0.9636363636363636,
          0.9636363636363636,
          0.9636363636363636,
          0.9636363636363636,
          0.9636363636363636,
          0.9636363636363636,
          0.9636363636363636,
          0.9818181818181818,
          0.9818181818181818,
          0.9818181818181818,
          0.9818181818181818,
          0.9818181818181818,
          0.9818181818181818,
          0.9818181818181818,
          0.9818181818181818,
          1,
          1,
          1,
          1,
          1,
          1,
          1,
          1,
          1,
          1,
          1,
          1,
          1,
          1,
          1,
          1,
          1,
          1,
          1,
          1,
          1,
          1,
          1,
          1,
          1,
          1,
          1,
          1,
          1,
          1,
          1,
          1,
          1,
          1,
          1,
          1,
          1,
          1,
          1,
          1,
          1,
          1,
          1,
          1,
          1,
          1,
          1,
          1,
          1,
          1
         ],
         "yaxis": "y"
        }
       ],
       "layout": {
        "legend": {
         "tracegroupgap": 0
        },
        "template": {
         "data": {
          "bar": [
           {
            "error_x": {
             "color": "#2a3f5f"
            },
            "error_y": {
             "color": "#2a3f5f"
            },
            "marker": {
             "line": {
              "color": "#E5ECF6",
              "width": 0.5
             },
             "pattern": {
              "fillmode": "overlay",
              "size": 10,
              "solidity": 0.2
             }
            },
            "type": "bar"
           }
          ],
          "barpolar": [
           {
            "marker": {
             "line": {
              "color": "#E5ECF6",
              "width": 0.5
             },
             "pattern": {
              "fillmode": "overlay",
              "size": 10,
              "solidity": 0.2
             }
            },
            "type": "barpolar"
           }
          ],
          "carpet": [
           {
            "aaxis": {
             "endlinecolor": "#2a3f5f",
             "gridcolor": "white",
             "linecolor": "white",
             "minorgridcolor": "white",
             "startlinecolor": "#2a3f5f"
            },
            "baxis": {
             "endlinecolor": "#2a3f5f",
             "gridcolor": "white",
             "linecolor": "white",
             "minorgridcolor": "white",
             "startlinecolor": "#2a3f5f"
            },
            "type": "carpet"
           }
          ],
          "choropleth": [
           {
            "colorbar": {
             "outlinewidth": 0,
             "ticks": ""
            },
            "type": "choropleth"
           }
          ],
          "contour": [
           {
            "colorbar": {
             "outlinewidth": 0,
             "ticks": ""
            },
            "colorscale": [
             [
              0,
              "#0d0887"
             ],
             [
              0.1111111111111111,
              "#46039f"
             ],
             [
              0.2222222222222222,
              "#7201a8"
             ],
             [
              0.3333333333333333,
              "#9c179e"
             ],
             [
              0.4444444444444444,
              "#bd3786"
             ],
             [
              0.5555555555555556,
              "#d8576b"
             ],
             [
              0.6666666666666666,
              "#ed7953"
             ],
             [
              0.7777777777777778,
              "#fb9f3a"
             ],
             [
              0.8888888888888888,
              "#fdca26"
             ],
             [
              1,
              "#f0f921"
             ]
            ],
            "type": "contour"
           }
          ],
          "contourcarpet": [
           {
            "colorbar": {
             "outlinewidth": 0,
             "ticks": ""
            },
            "type": "contourcarpet"
           }
          ],
          "heatmap": [
           {
            "colorbar": {
             "outlinewidth": 0,
             "ticks": ""
            },
            "colorscale": [
             [
              0,
              "#0d0887"
             ],
             [
              0.1111111111111111,
              "#46039f"
             ],
             [
              0.2222222222222222,
              "#7201a8"
             ],
             [
              0.3333333333333333,
              "#9c179e"
             ],
             [
              0.4444444444444444,
              "#bd3786"
             ],
             [
              0.5555555555555556,
              "#d8576b"
             ],
             [
              0.6666666666666666,
              "#ed7953"
             ],
             [
              0.7777777777777778,
              "#fb9f3a"
             ],
             [
              0.8888888888888888,
              "#fdca26"
             ],
             [
              1,
              "#f0f921"
             ]
            ],
            "type": "heatmap"
           }
          ],
          "heatmapgl": [
           {
            "colorbar": {
             "outlinewidth": 0,
             "ticks": ""
            },
            "colorscale": [
             [
              0,
              "#0d0887"
             ],
             [
              0.1111111111111111,
              "#46039f"
             ],
             [
              0.2222222222222222,
              "#7201a8"
             ],
             [
              0.3333333333333333,
              "#9c179e"
             ],
             [
              0.4444444444444444,
              "#bd3786"
             ],
             [
              0.5555555555555556,
              "#d8576b"
             ],
             [
              0.6666666666666666,
              "#ed7953"
             ],
             [
              0.7777777777777778,
              "#fb9f3a"
             ],
             [
              0.8888888888888888,
              "#fdca26"
             ],
             [
              1,
              "#f0f921"
             ]
            ],
            "type": "heatmapgl"
           }
          ],
          "histogram": [
           {
            "marker": {
             "pattern": {
              "fillmode": "overlay",
              "size": 10,
              "solidity": 0.2
             }
            },
            "type": "histogram"
           }
          ],
          "histogram2d": [
           {
            "colorbar": {
             "outlinewidth": 0,
             "ticks": ""
            },
            "colorscale": [
             [
              0,
              "#0d0887"
             ],
             [
              0.1111111111111111,
              "#46039f"
             ],
             [
              0.2222222222222222,
              "#7201a8"
             ],
             [
              0.3333333333333333,
              "#9c179e"
             ],
             [
              0.4444444444444444,
              "#bd3786"
             ],
             [
              0.5555555555555556,
              "#d8576b"
             ],
             [
              0.6666666666666666,
              "#ed7953"
             ],
             [
              0.7777777777777778,
              "#fb9f3a"
             ],
             [
              0.8888888888888888,
              "#fdca26"
             ],
             [
              1,
              "#f0f921"
             ]
            ],
            "type": "histogram2d"
           }
          ],
          "histogram2dcontour": [
           {
            "colorbar": {
             "outlinewidth": 0,
             "ticks": ""
            },
            "colorscale": [
             [
              0,
              "#0d0887"
             ],
             [
              0.1111111111111111,
              "#46039f"
             ],
             [
              0.2222222222222222,
              "#7201a8"
             ],
             [
              0.3333333333333333,
              "#9c179e"
             ],
             [
              0.4444444444444444,
              "#bd3786"
             ],
             [
              0.5555555555555556,
              "#d8576b"
             ],
             [
              0.6666666666666666,
              "#ed7953"
             ],
             [
              0.7777777777777778,
              "#fb9f3a"
             ],
             [
              0.8888888888888888,
              "#fdca26"
             ],
             [
              1,
              "#f0f921"
             ]
            ],
            "type": "histogram2dcontour"
           }
          ],
          "mesh3d": [
           {
            "colorbar": {
             "outlinewidth": 0,
             "ticks": ""
            },
            "type": "mesh3d"
           }
          ],
          "parcoords": [
           {
            "line": {
             "colorbar": {
              "outlinewidth": 0,
              "ticks": ""
             }
            },
            "type": "parcoords"
           }
          ],
          "pie": [
           {
            "automargin": true,
            "type": "pie"
           }
          ],
          "scatter": [
           {
            "fillpattern": {
             "fillmode": "overlay",
             "size": 10,
             "solidity": 0.2
            },
            "type": "scatter"
           }
          ],
          "scatter3d": [
           {
            "line": {
             "colorbar": {
              "outlinewidth": 0,
              "ticks": ""
             }
            },
            "marker": {
             "colorbar": {
              "outlinewidth": 0,
              "ticks": ""
             }
            },
            "type": "scatter3d"
           }
          ],
          "scattercarpet": [
           {
            "marker": {
             "colorbar": {
              "outlinewidth": 0,
              "ticks": ""
             }
            },
            "type": "scattercarpet"
           }
          ],
          "scattergeo": [
           {
            "marker": {
             "colorbar": {
              "outlinewidth": 0,
              "ticks": ""
             }
            },
            "type": "scattergeo"
           }
          ],
          "scattergl": [
           {
            "marker": {
             "colorbar": {
              "outlinewidth": 0,
              "ticks": ""
             }
            },
            "type": "scattergl"
           }
          ],
          "scattermapbox": [
           {
            "marker": {
             "colorbar": {
              "outlinewidth": 0,
              "ticks": ""
             }
            },
            "type": "scattermapbox"
           }
          ],
          "scatterpolar": [
           {
            "marker": {
             "colorbar": {
              "outlinewidth": 0,
              "ticks": ""
             }
            },
            "type": "scatterpolar"
           }
          ],
          "scatterpolargl": [
           {
            "marker": {
             "colorbar": {
              "outlinewidth": 0,
              "ticks": ""
             }
            },
            "type": "scatterpolargl"
           }
          ],
          "scatterternary": [
           {
            "marker": {
             "colorbar": {
              "outlinewidth": 0,
              "ticks": ""
             }
            },
            "type": "scatterternary"
           }
          ],
          "surface": [
           {
            "colorbar": {
             "outlinewidth": 0,
             "ticks": ""
            },
            "colorscale": [
             [
              0,
              "#0d0887"
             ],
             [
              0.1111111111111111,
              "#46039f"
             ],
             [
              0.2222222222222222,
              "#7201a8"
             ],
             [
              0.3333333333333333,
              "#9c179e"
             ],
             [
              0.4444444444444444,
              "#bd3786"
             ],
             [
              0.5555555555555556,
              "#d8576b"
             ],
             [
              0.6666666666666666,
              "#ed7953"
             ],
             [
              0.7777777777777778,
              "#fb9f3a"
             ],
             [
              0.8888888888888888,
              "#fdca26"
             ],
             [
              1,
              "#f0f921"
             ]
            ],
            "type": "surface"
           }
          ],
          "table": [
           {
            "cells": {
             "fill": {
              "color": "#EBF0F8"
             },
             "line": {
              "color": "white"
             }
            },
            "header": {
             "fill": {
              "color": "#C8D4E3"
             },
             "line": {
              "color": "white"
             }
            },
            "type": "table"
           }
          ]
         },
         "layout": {
          "annotationdefaults": {
           "arrowcolor": "#2a3f5f",
           "arrowhead": 0,
           "arrowwidth": 1
          },
          "autotypenumbers": "strict",
          "coloraxis": {
           "colorbar": {
            "outlinewidth": 0,
            "ticks": ""
           }
          },
          "colorscale": {
           "diverging": [
            [
             0,
             "#8e0152"
            ],
            [
             0.1,
             "#c51b7d"
            ],
            [
             0.2,
             "#de77ae"
            ],
            [
             0.3,
             "#f1b6da"
            ],
            [
             0.4,
             "#fde0ef"
            ],
            [
             0.5,
             "#f7f7f7"
            ],
            [
             0.6,
             "#e6f5d0"
            ],
            [
             0.7,
             "#b8e186"
            ],
            [
             0.8,
             "#7fbc41"
            ],
            [
             0.9,
             "#4d9221"
            ],
            [
             1,
             "#276419"
            ]
           ],
           "sequential": [
            [
             0,
             "#0d0887"
            ],
            [
             0.1111111111111111,
             "#46039f"
            ],
            [
             0.2222222222222222,
             "#7201a8"
            ],
            [
             0.3333333333333333,
             "#9c179e"
            ],
            [
             0.4444444444444444,
             "#bd3786"
            ],
            [
             0.5555555555555556,
             "#d8576b"
            ],
            [
             0.6666666666666666,
             "#ed7953"
            ],
            [
             0.7777777777777778,
             "#fb9f3a"
            ],
            [
             0.8888888888888888,
             "#fdca26"
            ],
            [
             1,
             "#f0f921"
            ]
           ],
           "sequentialminus": [
            [
             0,
             "#0d0887"
            ],
            [
             0.1111111111111111,
             "#46039f"
            ],
            [
             0.2222222222222222,
             "#7201a8"
            ],
            [
             0.3333333333333333,
             "#9c179e"
            ],
            [
             0.4444444444444444,
             "#bd3786"
            ],
            [
             0.5555555555555556,
             "#d8576b"
            ],
            [
             0.6666666666666666,
             "#ed7953"
            ],
            [
             0.7777777777777778,
             "#fb9f3a"
            ],
            [
             0.8888888888888888,
             "#fdca26"
            ],
            [
             1,
             "#f0f921"
            ]
           ]
          },
          "colorway": [
           "#636efa",
           "#EF553B",
           "#00cc96",
           "#ab63fa",
           "#FFA15A",
           "#19d3f3",
           "#FF6692",
           "#B6E880",
           "#FF97FF",
           "#FECB52"
          ],
          "font": {
           "color": "#2a3f5f"
          },
          "geo": {
           "bgcolor": "white",
           "lakecolor": "white",
           "landcolor": "#E5ECF6",
           "showlakes": true,
           "showland": true,
           "subunitcolor": "white"
          },
          "hoverlabel": {
           "align": "left"
          },
          "hovermode": "closest",
          "mapbox": {
           "style": "light"
          },
          "paper_bgcolor": "white",
          "plot_bgcolor": "#E5ECF6",
          "polar": {
           "angularaxis": {
            "gridcolor": "white",
            "linecolor": "white",
            "ticks": ""
           },
           "bgcolor": "#E5ECF6",
           "radialaxis": {
            "gridcolor": "white",
            "linecolor": "white",
            "ticks": ""
           }
          },
          "scene": {
           "xaxis": {
            "backgroundcolor": "#E5ECF6",
            "gridcolor": "white",
            "gridwidth": 2,
            "linecolor": "white",
            "showbackground": true,
            "ticks": "",
            "zerolinecolor": "white"
           },
           "yaxis": {
            "backgroundcolor": "#E5ECF6",
            "gridcolor": "white",
            "gridwidth": 2,
            "linecolor": "white",
            "showbackground": true,
            "ticks": "",
            "zerolinecolor": "white"
           },
           "zaxis": {
            "backgroundcolor": "#E5ECF6",
            "gridcolor": "white",
            "gridwidth": 2,
            "linecolor": "white",
            "showbackground": true,
            "ticks": "",
            "zerolinecolor": "white"
           }
          },
          "shapedefaults": {
           "line": {
            "color": "#2a3f5f"
           }
          },
          "ternary": {
           "aaxis": {
            "gridcolor": "white",
            "linecolor": "white",
            "ticks": ""
           },
           "baxis": {
            "gridcolor": "white",
            "linecolor": "white",
            "ticks": ""
           },
           "bgcolor": "#E5ECF6",
           "caxis": {
            "gridcolor": "white",
            "linecolor": "white",
            "ticks": ""
           }
          },
          "title": {
           "x": 0.05
          },
          "xaxis": {
           "automargin": true,
           "gridcolor": "white",
           "linecolor": "white",
           "ticks": "",
           "title": {
            "standoff": 15
           },
           "zerolinecolor": "white",
           "zerolinewidth": 2
          },
          "yaxis": {
           "automargin": true,
           "gridcolor": "white",
           "linecolor": "white",
           "ticks": "",
           "title": {
            "standoff": 15
           },
           "zerolinecolor": "white",
           "zerolinewidth": 2
          }
         }
        },
        "title": {
         "text": "ROC Curve - Test"
        },
        "xaxis": {
         "anchor": "y",
         "domain": [
          0,
          1
         ],
         "title": {
          "text": "False Positive Rate (FPR)"
         }
        },
        "yaxis": {
         "anchor": "x",
         "domain": [
          0,
          1
         ],
         "title": {
          "text": "True Positive Rate (TPR)"
         }
        }
       }
      }
     },
     "metadata": {},
     "output_type": "display_data"
    }
   ],
   "source": [
    "show_results(X_train, y_train, X_test, y_test, weights, bias, 0.1, 100, True)"
   ]
  }
 ],
 "metadata": {
  "kernelspec": {
   "display_name": "Python 3",
   "language": "python",
   "name": "python3"
  },
  "language_info": {
   "codemirror_mode": {
    "name": "ipython",
    "version": 3
   },
   "file_extension": ".py",
   "mimetype": "text/x-python",
   "name": "python",
   "nbconvert_exporter": "python",
   "pygments_lexer": "ipython3",
   "version": "3.12.0"
  }
 },
 "nbformat": 4,
 "nbformat_minor": 2
}
